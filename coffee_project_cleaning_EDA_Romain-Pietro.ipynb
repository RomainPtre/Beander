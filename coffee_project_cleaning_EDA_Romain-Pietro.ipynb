{
 "cells": [
  {
   "cell_type": "code",
   "execution_count": 3,
   "metadata": {},
   "outputs": [],
   "source": [
    "import pandas as pd\n",
    "import plotly_express as px\n",
    "import matplotlib.pyplot as plt\n",
    "import seaborn as sns\n",
    "pd.set_option('display.max_columns', None)\n",
    "pd.set_option('display.max_rows', None)"
   ]
  },
  {
   "cell_type": "markdown",
   "metadata": {},
   "source": [
    "We dropped ~15 columns in a previous version based on our needs."
   ]
  },
  {
   "cell_type": "code",
   "execution_count": 91,
   "metadata": {},
   "outputs": [
    {
     "data": {
      "text/html": [
       "<div>\n",
       "<style scoped>\n",
       "    .dataframe tbody tr th:only-of-type {\n",
       "        vertical-align: middle;\n",
       "    }\n",
       "\n",
       "    .dataframe tbody tr th {\n",
       "        vertical-align: top;\n",
       "    }\n",
       "\n",
       "    .dataframe thead th {\n",
       "        text-align: right;\n",
       "    }\n",
       "</style>\n",
       "<table border=\"1\" class=\"dataframe\">\n",
       "  <thead>\n",
       "    <tr style=\"text-align: right;\">\n",
       "      <th></th>\n",
       "      <th>ID</th>\n",
       "      <th>Species</th>\n",
       "      <th>Owner</th>\n",
       "      <th>Country.of.Origin</th>\n",
       "      <th>Farm.Name</th>\n",
       "      <th>Company</th>\n",
       "      <th>Region</th>\n",
       "      <th>Producer</th>\n",
       "      <th>In.Country.Partner</th>\n",
       "      <th>Harvest.Year</th>\n",
       "      <th>Grading.Date</th>\n",
       "      <th>Owner.1</th>\n",
       "      <th>Variety</th>\n",
       "      <th>Processing.Method</th>\n",
       "      <th>Aroma</th>\n",
       "      <th>Flavor</th>\n",
       "      <th>Aftertaste</th>\n",
       "      <th>Acidity</th>\n",
       "      <th>Body</th>\n",
       "      <th>Balance</th>\n",
       "      <th>Uniformity</th>\n",
       "      <th>Clean.Cup</th>\n",
       "      <th>Sweetness</th>\n",
       "      <th>Total.Cup.Points</th>\n",
       "      <th>Moisture</th>\n",
       "      <th>Color</th>\n",
       "      <th>Certification.Body</th>\n",
       "      <th>altitude_mean_meters</th>\n",
       "    </tr>\n",
       "  </thead>\n",
       "  <tbody>\n",
       "    <tr>\n",
       "      <th>0</th>\n",
       "      <td>1</td>\n",
       "      <td>Arabica</td>\n",
       "      <td>metad plc</td>\n",
       "      <td>Ethiopia</td>\n",
       "      <td>metad plc</td>\n",
       "      <td>metad agricultural developmet plc</td>\n",
       "      <td>guji-hambela</td>\n",
       "      <td>METAD PLC</td>\n",
       "      <td>METAD Agricultural Development plc</td>\n",
       "      <td>2014</td>\n",
       "      <td>April 4th, 2015</td>\n",
       "      <td>metad plc</td>\n",
       "      <td>NaN</td>\n",
       "      <td>Washed / Wet</td>\n",
       "      <td>8.67</td>\n",
       "      <td>8.83</td>\n",
       "      <td>8.67</td>\n",
       "      <td>8.75</td>\n",
       "      <td>8.50</td>\n",
       "      <td>8.42</td>\n",
       "      <td>10.0</td>\n",
       "      <td>10.0</td>\n",
       "      <td>10.0</td>\n",
       "      <td>90.58</td>\n",
       "      <td>0.12</td>\n",
       "      <td>Green</td>\n",
       "      <td>METAD Agricultural Development plc</td>\n",
       "      <td>2075.0</td>\n",
       "    </tr>\n",
       "    <tr>\n",
       "      <th>1</th>\n",
       "      <td>2</td>\n",
       "      <td>Arabica</td>\n",
       "      <td>metad plc</td>\n",
       "      <td>Ethiopia</td>\n",
       "      <td>metad plc</td>\n",
       "      <td>metad agricultural developmet plc</td>\n",
       "      <td>guji-hambela</td>\n",
       "      <td>METAD PLC</td>\n",
       "      <td>METAD Agricultural Development plc</td>\n",
       "      <td>2014</td>\n",
       "      <td>April 4th, 2015</td>\n",
       "      <td>metad plc</td>\n",
       "      <td>Other</td>\n",
       "      <td>Washed / Wet</td>\n",
       "      <td>8.75</td>\n",
       "      <td>8.67</td>\n",
       "      <td>8.50</td>\n",
       "      <td>8.58</td>\n",
       "      <td>8.42</td>\n",
       "      <td>8.42</td>\n",
       "      <td>10.0</td>\n",
       "      <td>10.0</td>\n",
       "      <td>10.0</td>\n",
       "      <td>89.92</td>\n",
       "      <td>0.12</td>\n",
       "      <td>Green</td>\n",
       "      <td>METAD Agricultural Development plc</td>\n",
       "      <td>2075.0</td>\n",
       "    </tr>\n",
       "    <tr>\n",
       "      <th>2</th>\n",
       "      <td>3</td>\n",
       "      <td>Arabica</td>\n",
       "      <td>grounds for health admin</td>\n",
       "      <td>Guatemala</td>\n",
       "      <td>san marcos barrancas \"san cristobal cuch</td>\n",
       "      <td>NaN</td>\n",
       "      <td>NaN</td>\n",
       "      <td>NaN</td>\n",
       "      <td>Specialty Coffee Association</td>\n",
       "      <td>NaN</td>\n",
       "      <td>May 31st, 2010</td>\n",
       "      <td>Grounds for Health Admin</td>\n",
       "      <td>Bourbon</td>\n",
       "      <td>NaN</td>\n",
       "      <td>8.42</td>\n",
       "      <td>8.50</td>\n",
       "      <td>8.42</td>\n",
       "      <td>8.42</td>\n",
       "      <td>8.33</td>\n",
       "      <td>8.42</td>\n",
       "      <td>10.0</td>\n",
       "      <td>10.0</td>\n",
       "      <td>10.0</td>\n",
       "      <td>89.75</td>\n",
       "      <td>0.00</td>\n",
       "      <td>NaN</td>\n",
       "      <td>Specialty Coffee Association</td>\n",
       "      <td>1700.0</td>\n",
       "    </tr>\n",
       "    <tr>\n",
       "      <th>3</th>\n",
       "      <td>4</td>\n",
       "      <td>Arabica</td>\n",
       "      <td>yidnekachew dabessa</td>\n",
       "      <td>Ethiopia</td>\n",
       "      <td>yidnekachew dabessa coffee plantation</td>\n",
       "      <td>yidnekachew debessa coffee plantation</td>\n",
       "      <td>oromia</td>\n",
       "      <td>Yidnekachew Dabessa Coffee Plantation</td>\n",
       "      <td>METAD Agricultural Development plc</td>\n",
       "      <td>2014</td>\n",
       "      <td>March 26th, 2015</td>\n",
       "      <td>Yidnekachew Dabessa</td>\n",
       "      <td>NaN</td>\n",
       "      <td>Natural / Dry</td>\n",
       "      <td>8.17</td>\n",
       "      <td>8.58</td>\n",
       "      <td>8.42</td>\n",
       "      <td>8.42</td>\n",
       "      <td>8.50</td>\n",
       "      <td>8.25</td>\n",
       "      <td>10.0</td>\n",
       "      <td>10.0</td>\n",
       "      <td>10.0</td>\n",
       "      <td>89.00</td>\n",
       "      <td>0.11</td>\n",
       "      <td>Green</td>\n",
       "      <td>METAD Agricultural Development plc</td>\n",
       "      <td>2000.0</td>\n",
       "    </tr>\n",
       "    <tr>\n",
       "      <th>4</th>\n",
       "      <td>5</td>\n",
       "      <td>Arabica</td>\n",
       "      <td>metad plc</td>\n",
       "      <td>Ethiopia</td>\n",
       "      <td>metad plc</td>\n",
       "      <td>metad agricultural developmet plc</td>\n",
       "      <td>guji-hambela</td>\n",
       "      <td>METAD PLC</td>\n",
       "      <td>METAD Agricultural Development plc</td>\n",
       "      <td>2014</td>\n",
       "      <td>April 4th, 2015</td>\n",
       "      <td>metad plc</td>\n",
       "      <td>Other</td>\n",
       "      <td>Washed / Wet</td>\n",
       "      <td>8.25</td>\n",
       "      <td>8.50</td>\n",
       "      <td>8.25</td>\n",
       "      <td>8.50</td>\n",
       "      <td>8.42</td>\n",
       "      <td>8.33</td>\n",
       "      <td>10.0</td>\n",
       "      <td>10.0</td>\n",
       "      <td>10.0</td>\n",
       "      <td>88.83</td>\n",
       "      <td>0.12</td>\n",
       "      <td>Green</td>\n",
       "      <td>METAD Agricultural Development plc</td>\n",
       "      <td>2075.0</td>\n",
       "    </tr>\n",
       "  </tbody>\n",
       "</table>\n",
       "</div>"
      ],
      "text/plain": [
       "   ID  Species                     Owner Country.of.Origin  \\\n",
       "0   1  Arabica                 metad plc          Ethiopia   \n",
       "1   2  Arabica                 metad plc          Ethiopia   \n",
       "2   3  Arabica  grounds for health admin         Guatemala   \n",
       "3   4  Arabica       yidnekachew dabessa          Ethiopia   \n",
       "4   5  Arabica                 metad plc          Ethiopia   \n",
       "\n",
       "                                  Farm.Name  \\\n",
       "0                                 metad plc   \n",
       "1                                 metad plc   \n",
       "2  san marcos barrancas \"san cristobal cuch   \n",
       "3     yidnekachew dabessa coffee plantation   \n",
       "4                                 metad plc   \n",
       "\n",
       "                                 Company        Region  \\\n",
       "0      metad agricultural developmet plc  guji-hambela   \n",
       "1      metad agricultural developmet plc  guji-hambela   \n",
       "2                                    NaN           NaN   \n",
       "3  yidnekachew debessa coffee plantation        oromia   \n",
       "4      metad agricultural developmet plc  guji-hambela   \n",
       "\n",
       "                                Producer                  In.Country.Partner  \\\n",
       "0                              METAD PLC  METAD Agricultural Development plc   \n",
       "1                              METAD PLC  METAD Agricultural Development plc   \n",
       "2                                    NaN        Specialty Coffee Association   \n",
       "3  Yidnekachew Dabessa Coffee Plantation  METAD Agricultural Development plc   \n",
       "4                              METAD PLC  METAD Agricultural Development plc   \n",
       "\n",
       "  Harvest.Year      Grading.Date                   Owner.1  Variety  \\\n",
       "0         2014   April 4th, 2015                 metad plc      NaN   \n",
       "1         2014   April 4th, 2015                 metad plc    Other   \n",
       "2          NaN    May 31st, 2010  Grounds for Health Admin  Bourbon   \n",
       "3         2014  March 26th, 2015       Yidnekachew Dabessa      NaN   \n",
       "4         2014   April 4th, 2015                 metad plc    Other   \n",
       "\n",
       "  Processing.Method  Aroma  Flavor  Aftertaste  Acidity  Body  Balance  \\\n",
       "0      Washed / Wet   8.67    8.83        8.67     8.75  8.50     8.42   \n",
       "1      Washed / Wet   8.75    8.67        8.50     8.58  8.42     8.42   \n",
       "2               NaN   8.42    8.50        8.42     8.42  8.33     8.42   \n",
       "3     Natural / Dry   8.17    8.58        8.42     8.42  8.50     8.25   \n",
       "4      Washed / Wet   8.25    8.50        8.25     8.50  8.42     8.33   \n",
       "\n",
       "   Uniformity  Clean.Cup  Sweetness  Total.Cup.Points  Moisture  Color  \\\n",
       "0        10.0       10.0       10.0             90.58      0.12  Green   \n",
       "1        10.0       10.0       10.0             89.92      0.12  Green   \n",
       "2        10.0       10.0       10.0             89.75      0.00    NaN   \n",
       "3        10.0       10.0       10.0             89.00      0.11  Green   \n",
       "4        10.0       10.0       10.0             88.83      0.12  Green   \n",
       "\n",
       "                   Certification.Body  altitude_mean_meters  \n",
       "0  METAD Agricultural Development plc                2075.0  \n",
       "1  METAD Agricultural Development plc                2075.0  \n",
       "2        Specialty Coffee Association                1700.0  \n",
       "3  METAD Agricultural Development plc                2000.0  \n",
       "4  METAD Agricultural Development plc                2075.0  "
      ]
     },
     "execution_count": 91,
     "metadata": {},
     "output_type": "execute_result"
    }
   ],
   "source": [
    "data = pd.read_csv('./old/Coffee_dataset_cleaned_column.csv')\n",
    "data.head()"
   ]
  },
  {
   "cell_type": "markdown",
   "metadata": {},
   "source": [
    "# Dropping lines\n",
    "with 0 values"
   ]
  },
  {
   "cell_type": "code",
   "execution_count": null,
   "metadata": {},
   "outputs": [
    {
     "data": {
      "text/html": [
       "<div>\n",
       "<style scoped>\n",
       "    .dataframe tbody tr th:only-of-type {\n",
       "        vertical-align: middle;\n",
       "    }\n",
       "\n",
       "    .dataframe tbody tr th {\n",
       "        vertical-align: top;\n",
       "    }\n",
       "\n",
       "    .dataframe thead th {\n",
       "        text-align: right;\n",
       "    }\n",
       "</style>\n",
       "<table border=\"1\" class=\"dataframe\">\n",
       "  <thead>\n",
       "    <tr style=\"text-align: right;\">\n",
       "      <th></th>\n",
       "      <th>Unnamed: 0</th>\n",
       "      <th>ID</th>\n",
       "      <th>Species</th>\n",
       "      <th>Owner</th>\n",
       "      <th>Country.of.Origin</th>\n",
       "      <th>Farm.Name</th>\n",
       "      <th>Company</th>\n",
       "      <th>Region</th>\n",
       "      <th>In.Country.Partner</th>\n",
       "      <th>Harvest.Year</th>\n",
       "      <th>Grading.Date</th>\n",
       "      <th>Owner.1</th>\n",
       "      <th>Variety</th>\n",
       "      <th>Processing.Method</th>\n",
       "      <th>Aroma</th>\n",
       "      <th>Flavor</th>\n",
       "      <th>Aftertaste</th>\n",
       "      <th>Acidity</th>\n",
       "      <th>Body</th>\n",
       "      <th>Balance</th>\n",
       "      <th>Uniformity</th>\n",
       "      <th>Clean.Cup</th>\n",
       "      <th>Sweetness</th>\n",
       "      <th>Total.Cup.Points</th>\n",
       "      <th>Moisture</th>\n",
       "      <th>Color</th>\n",
       "      <th>Certification.Body</th>\n",
       "      <th>altitude_mean_meters</th>\n",
       "    </tr>\n",
       "  </thead>\n",
       "  <tbody>\n",
       "    <tr>\n",
       "      <th>1310</th>\n",
       "      <td>1310</td>\n",
       "      <td>1311</td>\n",
       "      <td>Arabica</td>\n",
       "      <td>bismarck castro</td>\n",
       "      <td>Honduras</td>\n",
       "      <td>los hicaques</td>\n",
       "      <td>cigrah s.a de c.v</td>\n",
       "      <td>comayagua</td>\n",
       "      <td>Instituto Hondureño del Café</td>\n",
       "      <td>2017</td>\n",
       "      <td>April 28th, 2017</td>\n",
       "      <td>Bismarck Castro</td>\n",
       "      <td>Caturra</td>\n",
       "      <td>NaN</td>\n",
       "      <td>0.0</td>\n",
       "      <td>0.0</td>\n",
       "      <td>0.0</td>\n",
       "      <td>0.0</td>\n",
       "      <td>0.0</td>\n",
       "      <td>0.0</td>\n",
       "      <td>0.0</td>\n",
       "      <td>0.0</td>\n",
       "      <td>0.0</td>\n",
       "      <td>0.0</td>\n",
       "      <td>0.12</td>\n",
       "      <td>Green</td>\n",
       "      <td>Instituto Hondureño del Café</td>\n",
       "      <td>1400.0</td>\n",
       "    </tr>\n",
       "  </tbody>\n",
       "</table>\n",
       "</div>"
      ],
      "text/plain": [
       "      Unnamed: 0    ID  Species            Owner Country.of.Origin  \\\n",
       "1310        1310  1311  Arabica  bismarck castro          Honduras   \n",
       "\n",
       "         Farm.Name            Company     Region  \\\n",
       "1310  los hicaques  cigrah s.a de c.v  comayagua   \n",
       "\n",
       "                In.Country.Partner Harvest.Year      Grading.Date  \\\n",
       "1310  Instituto Hondureño del Café         2017  April 28th, 2017   \n",
       "\n",
       "              Owner.1  Variety Processing.Method  Aroma  Flavor  Aftertaste  \\\n",
       "1310  Bismarck Castro  Caturra               NaN    0.0     0.0         0.0   \n",
       "\n",
       "      Acidity  Body  Balance  Uniformity  Clean.Cup  Sweetness  \\\n",
       "1310      0.0   0.0      0.0         0.0        0.0        0.0   \n",
       "\n",
       "      Total.Cup.Points  Moisture  Color            Certification.Body  \\\n",
       "1310               0.0      0.12  Green  Instituto Hondureño del Café   \n",
       "\n",
       "      altitude_mean_meters  \n",
       "1310                1400.0  "
      ]
     },
     "execution_count": 18,
     "metadata": {},
     "output_type": "execute_result"
    }
   ],
   "source": [
    "data.loc[data['Total.Cup.Points']==0]"
   ]
  },
  {
   "cell_type": "code",
   "execution_count": null,
   "metadata": {},
   "outputs": [],
   "source": [
    "data = data.drop(data[data['ID']==1311].index)"
   ]
  },
  {
   "cell_type": "code",
   "execution_count": null,
   "metadata": {},
   "outputs": [
    {
     "data": {
      "text/html": [
       "<div>\n",
       "<style scoped>\n",
       "    .dataframe tbody tr th:only-of-type {\n",
       "        vertical-align: middle;\n",
       "    }\n",
       "\n",
       "    .dataframe tbody tr th {\n",
       "        vertical-align: top;\n",
       "    }\n",
       "\n",
       "    .dataframe thead th {\n",
       "        text-align: right;\n",
       "    }\n",
       "</style>\n",
       "<table border=\"1\" class=\"dataframe\">\n",
       "  <thead>\n",
       "    <tr style=\"text-align: right;\">\n",
       "      <th></th>\n",
       "      <th>Unnamed: 0</th>\n",
       "      <th>ID</th>\n",
       "      <th>Species</th>\n",
       "      <th>Owner</th>\n",
       "      <th>Country.of.Origin</th>\n",
       "      <th>Farm.Name</th>\n",
       "      <th>Company</th>\n",
       "      <th>Region</th>\n",
       "      <th>In.Country.Partner</th>\n",
       "      <th>Harvest.Year</th>\n",
       "      <th>Grading.Date</th>\n",
       "      <th>Owner.1</th>\n",
       "      <th>Variety</th>\n",
       "      <th>Processing.Method</th>\n",
       "      <th>Aroma</th>\n",
       "      <th>Flavor</th>\n",
       "      <th>Aftertaste</th>\n",
       "      <th>Acidity</th>\n",
       "      <th>Body</th>\n",
       "      <th>Balance</th>\n",
       "      <th>Uniformity</th>\n",
       "      <th>Clean.Cup</th>\n",
       "      <th>Sweetness</th>\n",
       "      <th>Total.Cup.Points</th>\n",
       "      <th>Moisture</th>\n",
       "      <th>Color</th>\n",
       "      <th>Certification.Body</th>\n",
       "      <th>altitude_mean_meters</th>\n",
       "    </tr>\n",
       "  </thead>\n",
       "  <tbody>\n",
       "  </tbody>\n",
       "</table>\n",
       "</div>"
      ],
      "text/plain": [
       "Empty DataFrame\n",
       "Columns: [Unnamed: 0, ID, Species, Owner, Country.of.Origin, Farm.Name, Company, Region, In.Country.Partner, Harvest.Year, Grading.Date, Owner.1, Variety, Processing.Method, Aroma, Flavor, Aftertaste, Acidity, Body, Balance, Uniformity, Clean.Cup, Sweetness, Total.Cup.Points, Moisture, Color, Certification.Body, altitude_mean_meters]\n",
       "Index: []"
      ]
     },
     "execution_count": 27,
     "metadata": {},
     "output_type": "execute_result"
    }
   ],
   "source": [
    "data.loc[data['Total.Cup.Points']==0]"
   ]
  },
  {
   "cell_type": "code",
   "execution_count": null,
   "metadata": {},
   "outputs": [
    {
     "name": "stdout",
     "output_type": "stream",
     "text": [
      "<class 'pandas.core.frame.DataFrame'>\n",
      "RangeIndex: 1339 entries, 0 to 1338\n",
      "Data columns (total 28 columns):\n",
      " #   Column                Non-Null Count  Dtype  \n",
      "---  ------                --------------  -----  \n",
      " 0   Unnamed: 0            1339 non-null   int64  \n",
      " 1   ID                    1339 non-null   int64  \n",
      " 2   Species               1339 non-null   object \n",
      " 3   Owner                 1332 non-null   object \n",
      " 4   Country.of.Origin     1338 non-null   object \n",
      " 5   Farm.Name             980 non-null    object \n",
      " 6   Company               1130 non-null   object \n",
      " 7   Region                1280 non-null   object \n",
      " 8   In.Country.Partner    1339 non-null   object \n",
      " 9   Harvest.Year          1292 non-null   object \n",
      " 10  Grading.Date          1339 non-null   object \n",
      " 11  Owner.1               1332 non-null   object \n",
      " 12  Variety               1138 non-null   object \n",
      " 13  Processing.Method     1169 non-null   object \n",
      " 14  Aroma                 1339 non-null   float64\n",
      " 15  Flavor                1339 non-null   float64\n",
      " 16  Aftertaste            1339 non-null   float64\n",
      " 17  Acidity               1339 non-null   float64\n",
      " 18  Body                  1339 non-null   float64\n",
      " 19  Balance               1339 non-null   float64\n",
      " 20  Uniformity            1339 non-null   float64\n",
      " 21  Clean.Cup             1339 non-null   float64\n",
      " 22  Sweetness             1339 non-null   float64\n",
      " 23  Total.Cup.Points      1339 non-null   float64\n",
      " 24  Moisture              1339 non-null   float64\n",
      " 25  Color                 1069 non-null   object \n",
      " 26  Certification.Body    1339 non-null   object \n",
      " 27  altitude_mean_meters  1109 non-null   float64\n",
      "dtypes: float64(12), int64(2), object(14)\n",
      "memory usage: 293.0+ KB\n"
     ]
    }
   ],
   "source": [
    "data.info()"
   ]
  },
  {
   "cell_type": "markdown",
   "metadata": {},
   "source": [
    "# Lignes à dropper ? "
   ]
  },
  {
   "cell_type": "code",
   "execution_count": null,
   "metadata": {},
   "outputs": [
    {
     "data": {
      "text/plain": [
       "ID                        0\n",
       "Species                   0\n",
       "Owner                     7\n",
       "Country.of.Origin         1\n",
       "Farm.Name               359\n",
       "Company                 209\n",
       "Region                   59\n",
       "Producer                232\n",
       "In.Country.Partner        0\n",
       "Harvest.Year             47\n",
       "Grading.Date              0\n",
       "Owner.1                   7\n",
       "Variety                 226\n",
       "Processing.Method       170\n",
       "Aroma                     0\n",
       "Flavor                    0\n",
       "Aftertaste                0\n",
       "Acidity                   0\n",
       "Body                      0\n",
       "Balance                   0\n",
       "Uniformity                0\n",
       "Clean.Cup                 0\n",
       "Sweetness                 0\n",
       "Total.Cup.Points          0\n",
       "Moisture                  0\n",
       "Color                   270\n",
       "Certification.Body        0\n",
       "altitude_mean_meters    230\n",
       "dtype: int64"
      ]
     },
     "execution_count": 141,
     "metadata": {},
     "output_type": "execute_result"
    }
   ],
   "source": [
    "data.isna().sum()"
   ]
  },
  {
   "cell_type": "markdown",
   "metadata": {},
   "source": [
    "There is no missing values in our features (aromatic profile), missing values are only in the output details.\n",
    "\n",
    "Do we accept that sometimes our application will return some missing informations in the technical list of top-recommended coffee ? (I think yes)\n",
    "\n",
    "Redondant imformations among [Farm.Name, Company, Producer, Owner.1] -> We keep Owner.1, Farm.Name and Company. We drop producer. Farm.Name is the most requested features on a coffee bag but it has a significant amount of NAs, so we can deal with this issue with : 'If data[Farm.Name] is NA, print(data[Company]), something like that.\n",
    "\n"
   ]
  },
  {
   "cell_type": "code",
   "execution_count": null,
   "metadata": {},
   "outputs": [
    {
     "data": {
      "text/plain": [
       "0"
      ]
     },
     "execution_count": 142,
     "metadata": {},
     "output_type": "execute_result"
    }
   ],
   "source": [
    "# This means that it never happens that Farm.Name and Company are both missing. So we can print FarmName by default in the ouptut and Company as a replacement when FarmName is missing. \n",
    "data[['Farm.Name', 'Company']].isna().all().sum()"
   ]
  },
  {
   "cell_type": "code",
   "execution_count": null,
   "metadata": {},
   "outputs": [
    {
     "data": {
      "text/plain": [
       "0"
      ]
     },
     "execution_count": 143,
     "metadata": {},
     "output_type": "execute_result"
    }
   ],
   "source": [
    "# There is no rows with NA in all columns\n",
    "data.isna().all(axis=1).sum()"
   ]
  },
  {
   "cell_type": "code",
   "execution_count": null,
   "metadata": {},
   "outputs": [],
   "source": [
    "data.drop('Producer', axis=1, inplace=True)"
   ]
  },
  {
   "cell_type": "markdown",
   "metadata": {},
   "source": [
    "# Aberrant values in Altitude\n",
    "Coffee typically grows between 1km - 2km above sea level. Some highest recorded altitudes are 2500-3000. Highest point on earth is 8849."
   ]
  },
  {
   "cell_type": "code",
   "execution_count": null,
   "metadata": {},
   "outputs": [
    {
     "data": {
      "application/vnd.plotly.v1+json": {
       "config": {
        "plotlyServerURL": "https://plot.ly"
       },
       "data": [
        {
         "alignmentgroup": "True",
         "bingroup": "x",
         "hovertemplate": "altitude_mean_meters=%{x}<br>count=%{y}<extra></extra>",
         "legendgroup": "",
         "marker": {
          "color": "#636efa",
          "pattern": {
           "shape": ""
          }
         },
         "name": "",
         "offsetgroup": "",
         "orientation": "v",
         "showlegend": false,
         "type": "histogram",
         "x": [
          2075,
          2075,
          1700,
          2000,
          2075,
          null,
          null,
          1635,
          1635,
          1822.5,
          1905,
          1872,
          1943,
          609.6,
          1635,
          2080,
          1500,
          null,
          1450,
          1850,
          2019,
          1300,
          1320,
          2112,
          null,
          1250,
          null,
          1950,
          1400,
          1200,
          null,
          null,
          1300,
          1300,
          1775,
          1800,
          null,
          null,
          null,
          1941,
          1300,
          12,
          12,
          1000,
          1754,
          1250,
          null,
          1200,
          1860,
          1650,
          1750,
          426.72,
          null,
          1650,
          1800,
          1600,
          1900,
          1524,
          1417.32,
          null,
          null,
          1700,
          1500,
          1350,
          null,
          1680,
          1900,
          1900,
          1600,
          1731.264,
          1900,
          1950,
          null,
          1250,
          1400,
          1700,
          1770,
          1300,
          1300,
          1600,
          1200,
          null,
          null,
          null,
          1550,
          1550,
          1325,
          1400,
          null,
          2560,
          1700,
          null,
          2136,
          null,
          null,
          null,
          1800,
          null,
          1900,
          1300,
          1,
          1580,
          1100,
          1400,
          null,
          1325.88,
          null,
          1775,
          800,
          1620,
          1775,
          1200,
          1200,
          1000,
          null,
          350,
          1650,
          null,
          1750,
          1750,
          null,
          1800,
          1450,
          1200,
          925,
          1350,
          1200,
          170,
          1150,
          1600,
          1750,
          1900,
          1750,
          1200,
          null,
          1000,
          1550,
          2000,
          1310.64,
          1524,
          1200,
          1775,
          null,
          1750,
          1754,
          1500,
          null,
          1800,
          1524,
          1219.2,
          1550,
          1750,
          null,
          1750,
          1575,
          1800,
          1300,
          1100,
          1200,
          1750,
          1680,
          1700,
          1800,
          1100,
          1310.64,
          2000,
          1350,
          1500,
          null,
          null,
          null,
          1300,
          1400,
          null,
          1775,
          1200,
          null,
          900,
          null,
          1800,
          1500,
          null,
          1500,
          null,
          442,
          1800,
          1700,
          1275,
          1050,
          1493.52,
          1386.84,
          1000,
          1200,
          2560,
          1500,
          1099.4136,
          1400,
          1775,
          1775,
          1800,
          442,
          1620,
          1600,
          1219.2,
          1700,
          null,
          1450,
          1170,
          1400,
          1700,
          1700,
          null,
          1700,
          1116.7872,
          1565,
          3280,
          1775,
          1000,
          1150,
          1850,
          1606.5,
          1400,
          1530,
          null,
          250.5,
          1038.5,
          1310.64,
          1500,
          1750,
          null,
          1600,
          null,
          442,
          968,
          null,
          1775,
          1550,
          null,
          1480,
          1800,
          null,
          1800,
          1500,
          1706.88,
          1600,
          1219.2,
          1219.2,
          1480,
          1450,
          1775,
          1550,
          1260,
          1700,
          1200,
          null,
          1650,
          1700,
          null,
          890,
          1300,
          1350,
          934,
          1200,
          442,
          null,
          null,
          null,
          null,
          1775,
          950,
          1550,
          900,
          1500,
          1400,
          2527,
          null,
          1850,
          1500,
          1200,
          1,
          525,
          1676.5,
          1200,
          1300,
          1219.2,
          1260,
          800,
          1750,
          1310.64,
          1218,
          1300,
          1250,
          1499.9208,
          null,
          null,
          1800,
          890,
          442,
          750,
          null,
          1650,
          442,
          1400,
          853.44,
          1775,
          1550,
          1750,
          1750,
          null,
          700,
          1300,
          1600,
          1600,
          null,
          890,
          1700,
          1400,
          1250,
          934,
          1200,
          1350,
          800,
          1625,
          1356.6648,
          1750,
          1900,
          1310.64,
          1310.64,
          1750,
          1450,
          1310.64,
          1100,
          1400,
          1524,
          null,
          890,
          1128.3696,
          null,
          1100,
          1775,
          1200,
          1850,
          1800,
          1600,
          1550,
          1550,
          1000,
          1775,
          1000,
          2136,
          1100,
          1799,
          null,
          1850,
          1000,
          1219.2,
          1775,
          1400,
          1500,
          1600,
          null,
          1850,
          1400,
          1650,
          1350,
          1750,
          1750,
          1170,
          940,
          1400,
          1524,
          1775,
          1402.08,
          null,
          1600,
          439,
          1700,
          442,
          1850,
          null,
          1800,
          1200,
          1330,
          442,
          null,
          1600,
          1813,
          1219.2,
          1500,
          1310.64,
          null,
          1450,
          null,
          null,
          null,
          1050,
          1650,
          null,
          null,
          1227,
          1200,
          1650,
          1700,
          1100,
          1300,
          null,
          1200,
          null,
          1280.16,
          1000,
          1310.64,
          null,
          1880,
          1750,
          null,
          null,
          1600,
          1900,
          null,
          2100,
          null,
          null,
          442,
          1261,
          1000,
          800,
          1483,
          1500,
          1750,
          1300,
          null,
          null,
          1000,
          1310.64,
          1200,
          175,
          1775,
          1700,
          1880,
          1800,
          890,
          1901,
          168,
          null,
          1550,
          1500,
          1450,
          1200,
          1600,
          1350,
          1500,
          1650,
          250.5,
          800,
          1653,
          1775,
          1800,
          null,
          1450,
          1350,
          1524,
          null,
          1800,
          1310.64,
          1500,
          532,
          1089,
          1775,
          700,
          1750,
          1380,
          1000,
          950,
          1402.08,
          1000,
          900,
          1200,
          1850,
          1799,
          null,
          905,
          1,
          750,
          null,
          1200,
          1300,
          null,
          1300,
          null,
          1400,
          null,
          null,
          1775,
          1880,
          1350,
          null,
          890,
          894,
          872,
          1473,
          1645,
          442,
          1550,
          1550,
          1371.6,
          1500,
          1000,
          1200,
          1800,
          853.44,
          1500,
          1200,
          1250,
          1775,
          1750,
          1000,
          1000,
          1775,
          750,
          1200,
          1200,
          null,
          1625,
          1750,
          1371.6,
          1775,
          null,
          1450,
          null,
          null,
          1800,
          null,
          null,
          890,
          1350,
          1500,
          350,
          2000,
          775,
          1200,
          1600,
          1059,
          1300,
          11000,
          1650,
          1400,
          1500,
          1500,
          null,
          1900,
          1750,
          1706.88,
          1450,
          1248,
          1040,
          1400,
          null,
          1450,
          null,
          1754,
          1700,
          905,
          1250,
          1900,
          1040,
          1219.2,
          900,
          1600,
          1200,
          1500,
          1800,
          1775,
          1400,
          1550,
          1250,
          1310.64,
          1380,
          1200,
          1100,
          1800,
          1700,
          1219.2,
          1219.2,
          1500,
          157.8864,
          650,
          1250,
          1850,
          1400,
          905,
          1100,
          1500,
          1775,
          1442,
          1524,
          165,
          null,
          null,
          1300,
          1550,
          1200,
          1200,
          1625,
          1775,
          null,
          1100,
          null,
          890,
          934,
          1300,
          1200,
          1300,
          null,
          1,
          null,
          1700,
          1550,
          1200,
          1296,
          1650,
          1240,
          1500,
          1800,
          null,
          1500,
          null,
          1100,
          950,
          3850,
          null,
          1400,
          1800,
          null,
          1219.2,
          1050,
          null,
          200,
          null,
          1250,
          800,
          1450,
          1317,
          1650,
          1300,
          null,
          null,
          1750,
          1750,
          1750,
          1250,
          1150,
          1775,
          975,
          890,
          1250,
          1400,
          1219.2,
          800,
          1450,
          1600,
          null,
          1600,
          1260,
          1310.64,
          1750,
          1310.64,
          1679,
          1100,
          1650,
          null,
          1250,
          1775,
          null,
          1600,
          1500,
          1700,
          1700,
          157.8864,
          null,
          1600,
          1600,
          null,
          2285,
          1,
          1400,
          1296,
          1000,
          null,
          1260,
          1170,
          null,
          1775,
          1560,
          1400,
          1300,
          1170,
          1300,
          1350,
          1150,
          1250,
          1450,
          442,
          null,
          1750,
          1750,
          1396,
          982,
          null,
          934,
          1850,
          1550,
          1580,
          1268,
          null,
          1676.4,
          1450,
          1100,
          1524,
          null,
          1300,
          200,
          600,
          1310.64,
          1750,
          1300,
          null,
          1752.6,
          441,
          1170,
          1310.64,
          1100,
          1300,
          950,
          442,
          1100,
          null,
          1450,
          1,
          1500,
          1350,
          1180,
          1100,
          650,
          1338,
          null,
          533,
          1390.8024,
          1170,
          1250,
          null,
          1100,
          900,
          1750,
          1775,
          null,
          null,
          934,
          1500,
          1000,
          1650,
          1600,
          1,
          800,
          1350,
          1500,
          null,
          1700,
          1100,
          1400,
          1200,
          800,
          1750,
          1144,
          1350,
          1000,
          1200,
          1800,
          1300,
          null,
          894,
          1,
          1300,
          1500,
          1600,
          null,
          13,
          null,
          1300,
          1800,
          1250,
          1040,
          1250,
          null,
          1600,
          1600,
          1600,
          944,
          1650,
          1250,
          1350,
          2500,
          600,
          800,
          1300,
          1400,
          1900,
          650,
          1038.5,
          940,
          1000,
          1050,
          null,
          950,
          1402.08,
          1775,
          1901,
          1219.2,
          1400,
          1020,
          1250,
          1550,
          1877,
          null,
          1250,
          null,
          1000,
          1300,
          981,
          690,
          1650,
          1000,
          1100,
          1600,
          157.8864,
          1900,
          973,
          1250,
          3280,
          1,
          1,
          4001,
          1425,
          1400,
          1300,
          700,
          1300,
          1556,
          1100,
          1350,
          1550,
          1775,
          null,
          1250,
          1310.64,
          1500,
          1250,
          925,
          1700,
          null,
          1700,
          1040,
          1600,
          null,
          774,
          1250,
          1100,
          1550,
          1650,
          1750,
          1775,
          890,
          1700,
          1219.2,
          1450,
          1800,
          null,
          null,
          1,
          1500,
          1700,
          1260,
          null,
          1400,
          1850,
          null,
          150,
          750,
          1400,
          1752.6,
          1650,
          1400,
          1200,
          1400,
          940,
          null,
          1200,
          190164,
          800,
          13,
          1800,
          1100,
          850,
          1260,
          1310.64,
          1400,
          1600,
          1650,
          1499.9208,
          null,
          1600.2,
          1219.2,
          1100,
          1400,
          null,
          180,
          1219.2,
          1200,
          1599,
          1219.2,
          900,
          1200,
          825,
          600,
          1150,
          1600,
          1100,
          1000,
          1250,
          1100,
          1400,
          125,
          null,
          1450,
          null,
          1100,
          1371.6,
          1100,
          1400,
          110,
          1422,
          1100,
          1550,
          1550,
          null,
          1310.64,
          763,
          1100,
          1750,
          1880,
          null,
          null,
          1500,
          1130,
          1100,
          1350,
          1200,
          1400,
          1200,
          1450,
          1800,
          1000,
          1100,
          680,
          1,
          1100,
          1400,
          1700,
          1700,
          650,
          1524,
          1500,
          1200,
          1050,
          1200,
          1300,
          1450,
          1450,
          1200,
          1550,
          995,
          1300,
          null,
          1800,
          1450,
          1000,
          null,
          null,
          695,
          1100,
          1706.88,
          1456,
          1500,
          853.44,
          1650,
          1300,
          1642,
          1200,
          null,
          null,
          1450,
          null,
          3280,
          1600,
          1219.2,
          758,
          1350,
          null,
          1525,
          1700,
          1100,
          800,
          950,
          1100,
          200,
          1901,
          1600,
          1100,
          1066.8,
          null,
          1700,
          1200,
          550,
          1100,
          1050,
          1524,
          900,
          688,
          300,
          1186,
          null,
          1300,
          1200,
          1210,
          1100,
          100,
          null,
          1800,
          null,
          3825,
          1706.88,
          110000,
          1450,
          1680,
          1350,
          1450,
          1300,
          1200,
          1000,
          null,
          null,
          1350,
          1500,
          185,
          995,
          1200,
          1550,
          1550,
          null,
          null,
          null,
          null,
          null,
          1400,
          1200,
          1400,
          1383.792,
          null,
          null,
          50,
          1500,
          1650,
          280,
          1250,
          3800,
          1219.2,
          1250,
          null,
          1859.28,
          1450,
          1450,
          600,
          1450,
          1700,
          600,
          1050,
          1550,
          1700,
          1700,
          null,
          600,
          1310.64,
          940,
          null,
          null,
          995,
          1400,
          1600,
          914.4,
          4287,
          900,
          null,
          null,
          700,
          1400,
          808,
          1550,
          1187.5,
          1400,
          1310.64,
          1250,
          1550,
          1000,
          1310.64,
          null,
          1100,
          850,
          null,
          200,
          150,
          250,
          1300,
          1300,
          1250,
          3845,
          1400,
          250,
          800,
          1250,
          1100,
          null,
          null,
          null,
          1300,
          1100,
          1100,
          1100,
          1250,
          1250,
          null,
          1500,
          1700,
          1250,
          1300,
          null,
          190164,
          1000,
          600,
          800,
          null,
          1100,
          1400,
          1022,
          1300,
          1450,
          1050,
          null,
          1100,
          1219.2,
          1250,
          800,
          1310.64,
          1400,
          975,
          1264,
          null,
          1250,
          1550,
          1800,
          1325.88,
          1050,
          700,
          1550,
          1550,
          1100,
          1219.2,
          1219.2,
          800,
          200,
          1200,
          950,
          750,
          null,
          850,
          1000,
          1219.2,
          1650,
          1320,
          1550,
          null,
          1550,
          1450,
          1200,
          1700,
          853.44,
          1500,
          1100,
          1200,
          null,
          1219.2,
          1350,
          1400,
          1300,
          1550,
          12,
          1300,
          1400,
          1100,
          null,
          1310.64,
          1320,
          1250,
          1350,
          1850,
          1150,
          null,
          null,
          1219.2,
          800,
          1400,
          1300,
          null,
          1600,
          1400,
          1200,
          null,
          1500,
          null,
          1219.2,
          1310.64,
          1300,
          null,
          null,
          null,
          1300,
          1050,
          650,
          1350,
          null,
          1219.2,
          1200,
          1310.64,
          850,
          null,
          1200,
          1248,
          null,
          1000,
          null,
          1310.64,
          775,
          null,
          1300,
          1310.64,
          890,
          1219.2,
          1500,
          825,
          null,
          1200,
          1200,
          null,
          1200,
          null,
          1100,
          1310.64,
          null,
          null,
          null,
          1400,
          3500,
          1250,
          1350,
          1000,
          null,
          1310.64,
          null,
          1100,
          1200,
          1100,
          1280,
          850,
          1500,
          1250,
          null,
          null,
          1700,
          null,
          1310.64,
          1140,
          1200,
          1250,
          null,
          null,
          1350,
          1200,
          null,
          null,
          1020,
          1200,
          800,
          1800,
          1000,
          null,
          1450,
          1450,
          1450,
          900,
          350,
          1100,
          1417.32,
          1400,
          1488,
          3170,
          1000,
          1212,
          1250,
          3000,
          750,
          3140,
          1000,
          1100,
          1095,
          1000,
          750,
          1367,
          1488,
          1000,
          750,
          1600,
          1745,
          1200,
          750,
          750,
          3000,
          null,
          40,
          795,
          null,
          null
         ],
         "xaxis": "x",
         "yaxis": "y"
        }
       ],
       "layout": {
        "barmode": "relative",
        "legend": {
         "tracegroupgap": 0
        },
        "margin": {
         "t": 60
        },
        "template": {
         "data": {
          "bar": [
           {
            "error_x": {
             "color": "#2a3f5f"
            },
            "error_y": {
             "color": "#2a3f5f"
            },
            "marker": {
             "line": {
              "color": "#E5ECF6",
              "width": 0.5
             },
             "pattern": {
              "fillmode": "overlay",
              "size": 10,
              "solidity": 0.2
             }
            },
            "type": "bar"
           }
          ],
          "barpolar": [
           {
            "marker": {
             "line": {
              "color": "#E5ECF6",
              "width": 0.5
             },
             "pattern": {
              "fillmode": "overlay",
              "size": 10,
              "solidity": 0.2
             }
            },
            "type": "barpolar"
           }
          ],
          "carpet": [
           {
            "aaxis": {
             "endlinecolor": "#2a3f5f",
             "gridcolor": "white",
             "linecolor": "white",
             "minorgridcolor": "white",
             "startlinecolor": "#2a3f5f"
            },
            "baxis": {
             "endlinecolor": "#2a3f5f",
             "gridcolor": "white",
             "linecolor": "white",
             "minorgridcolor": "white",
             "startlinecolor": "#2a3f5f"
            },
            "type": "carpet"
           }
          ],
          "choropleth": [
           {
            "colorbar": {
             "outlinewidth": 0,
             "ticks": ""
            },
            "type": "choropleth"
           }
          ],
          "contour": [
           {
            "colorbar": {
             "outlinewidth": 0,
             "ticks": ""
            },
            "colorscale": [
             [
              0,
              "#0d0887"
             ],
             [
              0.1111111111111111,
              "#46039f"
             ],
             [
              0.2222222222222222,
              "#7201a8"
             ],
             [
              0.3333333333333333,
              "#9c179e"
             ],
             [
              0.4444444444444444,
              "#bd3786"
             ],
             [
              0.5555555555555556,
              "#d8576b"
             ],
             [
              0.6666666666666666,
              "#ed7953"
             ],
             [
              0.7777777777777778,
              "#fb9f3a"
             ],
             [
              0.8888888888888888,
              "#fdca26"
             ],
             [
              1,
              "#f0f921"
             ]
            ],
            "type": "contour"
           }
          ],
          "contourcarpet": [
           {
            "colorbar": {
             "outlinewidth": 0,
             "ticks": ""
            },
            "type": "contourcarpet"
           }
          ],
          "heatmap": [
           {
            "colorbar": {
             "outlinewidth": 0,
             "ticks": ""
            },
            "colorscale": [
             [
              0,
              "#0d0887"
             ],
             [
              0.1111111111111111,
              "#46039f"
             ],
             [
              0.2222222222222222,
              "#7201a8"
             ],
             [
              0.3333333333333333,
              "#9c179e"
             ],
             [
              0.4444444444444444,
              "#bd3786"
             ],
             [
              0.5555555555555556,
              "#d8576b"
             ],
             [
              0.6666666666666666,
              "#ed7953"
             ],
             [
              0.7777777777777778,
              "#fb9f3a"
             ],
             [
              0.8888888888888888,
              "#fdca26"
             ],
             [
              1,
              "#f0f921"
             ]
            ],
            "type": "heatmap"
           }
          ],
          "heatmapgl": [
           {
            "colorbar": {
             "outlinewidth": 0,
             "ticks": ""
            },
            "colorscale": [
             [
              0,
              "#0d0887"
             ],
             [
              0.1111111111111111,
              "#46039f"
             ],
             [
              0.2222222222222222,
              "#7201a8"
             ],
             [
              0.3333333333333333,
              "#9c179e"
             ],
             [
              0.4444444444444444,
              "#bd3786"
             ],
             [
              0.5555555555555556,
              "#d8576b"
             ],
             [
              0.6666666666666666,
              "#ed7953"
             ],
             [
              0.7777777777777778,
              "#fb9f3a"
             ],
             [
              0.8888888888888888,
              "#fdca26"
             ],
             [
              1,
              "#f0f921"
             ]
            ],
            "type": "heatmapgl"
           }
          ],
          "histogram": [
           {
            "marker": {
             "pattern": {
              "fillmode": "overlay",
              "size": 10,
              "solidity": 0.2
             }
            },
            "type": "histogram"
           }
          ],
          "histogram2d": [
           {
            "colorbar": {
             "outlinewidth": 0,
             "ticks": ""
            },
            "colorscale": [
             [
              0,
              "#0d0887"
             ],
             [
              0.1111111111111111,
              "#46039f"
             ],
             [
              0.2222222222222222,
              "#7201a8"
             ],
             [
              0.3333333333333333,
              "#9c179e"
             ],
             [
              0.4444444444444444,
              "#bd3786"
             ],
             [
              0.5555555555555556,
              "#d8576b"
             ],
             [
              0.6666666666666666,
              "#ed7953"
             ],
             [
              0.7777777777777778,
              "#fb9f3a"
             ],
             [
              0.8888888888888888,
              "#fdca26"
             ],
             [
              1,
              "#f0f921"
             ]
            ],
            "type": "histogram2d"
           }
          ],
          "histogram2dcontour": [
           {
            "colorbar": {
             "outlinewidth": 0,
             "ticks": ""
            },
            "colorscale": [
             [
              0,
              "#0d0887"
             ],
             [
              0.1111111111111111,
              "#46039f"
             ],
             [
              0.2222222222222222,
              "#7201a8"
             ],
             [
              0.3333333333333333,
              "#9c179e"
             ],
             [
              0.4444444444444444,
              "#bd3786"
             ],
             [
              0.5555555555555556,
              "#d8576b"
             ],
             [
              0.6666666666666666,
              "#ed7953"
             ],
             [
              0.7777777777777778,
              "#fb9f3a"
             ],
             [
              0.8888888888888888,
              "#fdca26"
             ],
             [
              1,
              "#f0f921"
             ]
            ],
            "type": "histogram2dcontour"
           }
          ],
          "mesh3d": [
           {
            "colorbar": {
             "outlinewidth": 0,
             "ticks": ""
            },
            "type": "mesh3d"
           }
          ],
          "parcoords": [
           {
            "line": {
             "colorbar": {
              "outlinewidth": 0,
              "ticks": ""
             }
            },
            "type": "parcoords"
           }
          ],
          "pie": [
           {
            "automargin": true,
            "type": "pie"
           }
          ],
          "scatter": [
           {
            "fillpattern": {
             "fillmode": "overlay",
             "size": 10,
             "solidity": 0.2
            },
            "type": "scatter"
           }
          ],
          "scatter3d": [
           {
            "line": {
             "colorbar": {
              "outlinewidth": 0,
              "ticks": ""
             }
            },
            "marker": {
             "colorbar": {
              "outlinewidth": 0,
              "ticks": ""
             }
            },
            "type": "scatter3d"
           }
          ],
          "scattercarpet": [
           {
            "marker": {
             "colorbar": {
              "outlinewidth": 0,
              "ticks": ""
             }
            },
            "type": "scattercarpet"
           }
          ],
          "scattergeo": [
           {
            "marker": {
             "colorbar": {
              "outlinewidth": 0,
              "ticks": ""
             }
            },
            "type": "scattergeo"
           }
          ],
          "scattergl": [
           {
            "marker": {
             "colorbar": {
              "outlinewidth": 0,
              "ticks": ""
             }
            },
            "type": "scattergl"
           }
          ],
          "scattermapbox": [
           {
            "marker": {
             "colorbar": {
              "outlinewidth": 0,
              "ticks": ""
             }
            },
            "type": "scattermapbox"
           }
          ],
          "scatterpolar": [
           {
            "marker": {
             "colorbar": {
              "outlinewidth": 0,
              "ticks": ""
             }
            },
            "type": "scatterpolar"
           }
          ],
          "scatterpolargl": [
           {
            "marker": {
             "colorbar": {
              "outlinewidth": 0,
              "ticks": ""
             }
            },
            "type": "scatterpolargl"
           }
          ],
          "scatterternary": [
           {
            "marker": {
             "colorbar": {
              "outlinewidth": 0,
              "ticks": ""
             }
            },
            "type": "scatterternary"
           }
          ],
          "surface": [
           {
            "colorbar": {
             "outlinewidth": 0,
             "ticks": ""
            },
            "colorscale": [
             [
              0,
              "#0d0887"
             ],
             [
              0.1111111111111111,
              "#46039f"
             ],
             [
              0.2222222222222222,
              "#7201a8"
             ],
             [
              0.3333333333333333,
              "#9c179e"
             ],
             [
              0.4444444444444444,
              "#bd3786"
             ],
             [
              0.5555555555555556,
              "#d8576b"
             ],
             [
              0.6666666666666666,
              "#ed7953"
             ],
             [
              0.7777777777777778,
              "#fb9f3a"
             ],
             [
              0.8888888888888888,
              "#fdca26"
             ],
             [
              1,
              "#f0f921"
             ]
            ],
            "type": "surface"
           }
          ],
          "table": [
           {
            "cells": {
             "fill": {
              "color": "#EBF0F8"
             },
             "line": {
              "color": "white"
             }
            },
            "header": {
             "fill": {
              "color": "#C8D4E3"
             },
             "line": {
              "color": "white"
             }
            },
            "type": "table"
           }
          ]
         },
         "layout": {
          "annotationdefaults": {
           "arrowcolor": "#2a3f5f",
           "arrowhead": 0,
           "arrowwidth": 1
          },
          "autotypenumbers": "strict",
          "coloraxis": {
           "colorbar": {
            "outlinewidth": 0,
            "ticks": ""
           }
          },
          "colorscale": {
           "diverging": [
            [
             0,
             "#8e0152"
            ],
            [
             0.1,
             "#c51b7d"
            ],
            [
             0.2,
             "#de77ae"
            ],
            [
             0.3,
             "#f1b6da"
            ],
            [
             0.4,
             "#fde0ef"
            ],
            [
             0.5,
             "#f7f7f7"
            ],
            [
             0.6,
             "#e6f5d0"
            ],
            [
             0.7,
             "#b8e186"
            ],
            [
             0.8,
             "#7fbc41"
            ],
            [
             0.9,
             "#4d9221"
            ],
            [
             1,
             "#276419"
            ]
           ],
           "sequential": [
            [
             0,
             "#0d0887"
            ],
            [
             0.1111111111111111,
             "#46039f"
            ],
            [
             0.2222222222222222,
             "#7201a8"
            ],
            [
             0.3333333333333333,
             "#9c179e"
            ],
            [
             0.4444444444444444,
             "#bd3786"
            ],
            [
             0.5555555555555556,
             "#d8576b"
            ],
            [
             0.6666666666666666,
             "#ed7953"
            ],
            [
             0.7777777777777778,
             "#fb9f3a"
            ],
            [
             0.8888888888888888,
             "#fdca26"
            ],
            [
             1,
             "#f0f921"
            ]
           ],
           "sequentialminus": [
            [
             0,
             "#0d0887"
            ],
            [
             0.1111111111111111,
             "#46039f"
            ],
            [
             0.2222222222222222,
             "#7201a8"
            ],
            [
             0.3333333333333333,
             "#9c179e"
            ],
            [
             0.4444444444444444,
             "#bd3786"
            ],
            [
             0.5555555555555556,
             "#d8576b"
            ],
            [
             0.6666666666666666,
             "#ed7953"
            ],
            [
             0.7777777777777778,
             "#fb9f3a"
            ],
            [
             0.8888888888888888,
             "#fdca26"
            ],
            [
             1,
             "#f0f921"
            ]
           ]
          },
          "colorway": [
           "#636efa",
           "#EF553B",
           "#00cc96",
           "#ab63fa",
           "#FFA15A",
           "#19d3f3",
           "#FF6692",
           "#B6E880",
           "#FF97FF",
           "#FECB52"
          ],
          "font": {
           "color": "#2a3f5f"
          },
          "geo": {
           "bgcolor": "white",
           "lakecolor": "white",
           "landcolor": "#E5ECF6",
           "showlakes": true,
           "showland": true,
           "subunitcolor": "white"
          },
          "hoverlabel": {
           "align": "left"
          },
          "hovermode": "closest",
          "mapbox": {
           "style": "light"
          },
          "paper_bgcolor": "white",
          "plot_bgcolor": "#E5ECF6",
          "polar": {
           "angularaxis": {
            "gridcolor": "white",
            "linecolor": "white",
            "ticks": ""
           },
           "bgcolor": "#E5ECF6",
           "radialaxis": {
            "gridcolor": "white",
            "linecolor": "white",
            "ticks": ""
           }
          },
          "scene": {
           "xaxis": {
            "backgroundcolor": "#E5ECF6",
            "gridcolor": "white",
            "gridwidth": 2,
            "linecolor": "white",
            "showbackground": true,
            "ticks": "",
            "zerolinecolor": "white"
           },
           "yaxis": {
            "backgroundcolor": "#E5ECF6",
            "gridcolor": "white",
            "gridwidth": 2,
            "linecolor": "white",
            "showbackground": true,
            "ticks": "",
            "zerolinecolor": "white"
           },
           "zaxis": {
            "backgroundcolor": "#E5ECF6",
            "gridcolor": "white",
            "gridwidth": 2,
            "linecolor": "white",
            "showbackground": true,
            "ticks": "",
            "zerolinecolor": "white"
           }
          },
          "shapedefaults": {
           "line": {
            "color": "#2a3f5f"
           }
          },
          "ternary": {
           "aaxis": {
            "gridcolor": "white",
            "linecolor": "white",
            "ticks": ""
           },
           "baxis": {
            "gridcolor": "white",
            "linecolor": "white",
            "ticks": ""
           },
           "bgcolor": "#E5ECF6",
           "caxis": {
            "gridcolor": "white",
            "linecolor": "white",
            "ticks": ""
           }
          },
          "title": {
           "x": 0.05
          },
          "xaxis": {
           "automargin": true,
           "gridcolor": "white",
           "linecolor": "white",
           "ticks": "",
           "title": {
            "standoff": 15
           },
           "zerolinecolor": "white",
           "zerolinewidth": 2
          },
          "yaxis": {
           "automargin": true,
           "gridcolor": "white",
           "linecolor": "white",
           "ticks": "",
           "title": {
            "standoff": 15
           },
           "zerolinecolor": "white",
           "zerolinewidth": 2
          }
         }
        },
        "xaxis": {
         "anchor": "y",
         "domain": [
          0,
          1
         ],
         "title": {
          "text": "altitude_mean_meters"
         }
        },
        "yaxis": {
         "anchor": "x",
         "domain": [
          0,
          1
         ],
         "title": {
          "text": "count"
         }
        }
       }
      }
     },
     "metadata": {},
     "output_type": "display_data"
    }
   ],
   "source": [
    "px.histogram(data, 'altitude_mean_meters')"
   ]
  },
  {
   "cell_type": "markdown",
   "metadata": {},
   "source": [
    "Based on available knowledge + our dataset, we can consider any altitude above 4000m to be outlier. But first, make sure conversion from imperial to metrics was done on these values."
   ]
  },
  {
   "cell_type": "code",
   "execution_count": null,
   "metadata": {},
   "outputs": [
    {
     "data": {
      "text/html": [
       "<div>\n",
       "<style scoped>\n",
       "    .dataframe tbody tr th:only-of-type {\n",
       "        vertical-align: middle;\n",
       "    }\n",
       "\n",
       "    .dataframe tbody tr th {\n",
       "        vertical-align: top;\n",
       "    }\n",
       "\n",
       "    .dataframe thead th {\n",
       "        text-align: right;\n",
       "    }\n",
       "</style>\n",
       "<table border=\"1\" class=\"dataframe\">\n",
       "  <thead>\n",
       "    <tr style=\"text-align: right;\">\n",
       "      <th></th>\n",
       "      <th>ID</th>\n",
       "      <th>Species</th>\n",
       "      <th>Owner</th>\n",
       "      <th>Country.of.Origin</th>\n",
       "      <th>Farm.Name</th>\n",
       "      <th>Company</th>\n",
       "      <th>Region</th>\n",
       "      <th>In.Country.Partner</th>\n",
       "      <th>Harvest.Year</th>\n",
       "      <th>Grading.Date</th>\n",
       "      <th>Owner.1</th>\n",
       "      <th>Variety</th>\n",
       "      <th>Processing.Method</th>\n",
       "      <th>Aroma</th>\n",
       "      <th>Flavor</th>\n",
       "      <th>Aftertaste</th>\n",
       "      <th>Acidity</th>\n",
       "      <th>Body</th>\n",
       "      <th>Balance</th>\n",
       "      <th>Uniformity</th>\n",
       "      <th>Clean.Cup</th>\n",
       "      <th>Sweetness</th>\n",
       "      <th>Total.Cup.Points</th>\n",
       "      <th>Moisture</th>\n",
       "      <th>Color</th>\n",
       "      <th>Certification.Body</th>\n",
       "      <th>altitude_mean_meters</th>\n",
       "    </tr>\n",
       "  </thead>\n",
       "  <tbody>\n",
       "    <tr>\n",
       "      <th>1098</th>\n",
       "      <td>1099</td>\n",
       "      <td>Arabica</td>\n",
       "      <td>u htun htun</td>\n",
       "      <td>Myanmar</td>\n",
       "      <td>thein kone</td>\n",
       "      <td>NaN</td>\n",
       "      <td>ywar ngan</td>\n",
       "      <td>Coffee Quality Institute</td>\n",
       "      <td>2014</td>\n",
       "      <td>July 17th, 2015</td>\n",
       "      <td>U Htun Htun</td>\n",
       "      <td>Catuai</td>\n",
       "      <td>Natural / Dry</td>\n",
       "      <td>7.42</td>\n",
       "      <td>7.0</td>\n",
       "      <td>7.08</td>\n",
       "      <td>7.0</td>\n",
       "      <td>7.17</td>\n",
       "      <td>7.33</td>\n",
       "      <td>10.0</td>\n",
       "      <td>10.0</td>\n",
       "      <td>10.0</td>\n",
       "      <td>80.25</td>\n",
       "      <td>0.0</td>\n",
       "      <td>Green</td>\n",
       "      <td>Coffee Quality Institute</td>\n",
       "      <td>4287.0</td>\n",
       "    </tr>\n",
       "  </tbody>\n",
       "</table>\n",
       "</div>"
      ],
      "text/plain": [
       "        ID  Species        Owner Country.of.Origin   Farm.Name Company  \\\n",
       "1098  1099  Arabica  u htun htun           Myanmar  thein kone     NaN   \n",
       "\n",
       "         Region        In.Country.Partner Harvest.Year     Grading.Date  \\\n",
       "1098  ywar ngan  Coffee Quality Institute         2014  July 17th, 2015   \n",
       "\n",
       "          Owner.1 Variety Processing.Method  Aroma  Flavor  Aftertaste  \\\n",
       "1098  U Htun Htun  Catuai     Natural / Dry   7.42     7.0        7.08   \n",
       "\n",
       "      Acidity  Body  Balance  Uniformity  Clean.Cup  Sweetness  \\\n",
       "1098      7.0  7.17     7.33        10.0       10.0       10.0   \n",
       "\n",
       "      Total.Cup.Points  Moisture  Color        Certification.Body  \\\n",
       "1098             80.25       0.0  Green  Coffee Quality Institute   \n",
       "\n",
       "      altitude_mean_meters  \n",
       "1098                4287.0  "
      ]
     },
     "execution_count": 152,
     "metadata": {},
     "output_type": "execute_result"
    }
   ],
   "source": [
    "# dataframe with all ok altitudes\n",
    "cond_ok = data['altitude_mean_meters'] < 4000\n",
    "alt_ok = data[cond_ok]\n",
    "\n",
    "# dataframe with aberrant altitude values\n",
    "cond_outlier = data['altitude_mean_meters'] >= 4000\n",
    "alt_weird = data[cond_outlier]\n",
    "alt_weird"
   ]
  },
  {
   "cell_type": "markdown",
   "metadata": {},
   "source": [
    "We have only 6 aberrant altitudes, so let's have a closer look and correct them instead of dropping the rows !\n",
    "\n",
    "Fazenda pantano is 1150m altitude whereas it is 11000m is the dataset, we suggest 'fatfinger' issue here and correct the value to 1100.0\n",
    "wat-ka-bu and thein kone have altitudes of ~4000m, but the altitude is actually ~1200m in google maps for this region. When we check the dataset, unit_of_measurements was 'm' but 4000ft actually = 1200m. So we suspect there was an error in unit_of_measurment that prevented the conversion to happen for these farms from the same region. We then convert ~4000ft in m = ~1200m.\n",
    "La esperanza has two aberrant altitudes at 190164.0m, real altitude is 1900m\n",
    "cafetales san matilde 110000 ! Correct issue is actually 1100.o"
   ]
  },
  {
   "cell_type": "code",
   "execution_count": null,
   "metadata": {},
   "outputs": [
    {
     "data": {
      "text/html": [
       "<div>\n",
       "<style scoped>\n",
       "    .dataframe tbody tr th:only-of-type {\n",
       "        vertical-align: middle;\n",
       "    }\n",
       "\n",
       "    .dataframe tbody tr th {\n",
       "        vertical-align: top;\n",
       "    }\n",
       "\n",
       "    .dataframe thead th {\n",
       "        text-align: right;\n",
       "    }\n",
       "</style>\n",
       "<table border=\"1\" class=\"dataframe\">\n",
       "  <thead>\n",
       "    <tr style=\"text-align: right;\">\n",
       "      <th></th>\n",
       "      <th>ID</th>\n",
       "      <th>Species</th>\n",
       "      <th>Owner</th>\n",
       "      <th>Country.of.Origin</th>\n",
       "      <th>Farm.Name</th>\n",
       "      <th>Company</th>\n",
       "      <th>Region</th>\n",
       "      <th>In.Country.Partner</th>\n",
       "      <th>Harvest.Year</th>\n",
       "      <th>Grading.Date</th>\n",
       "      <th>Owner.1</th>\n",
       "      <th>Variety</th>\n",
       "      <th>Processing.Method</th>\n",
       "      <th>Aroma</th>\n",
       "      <th>Flavor</th>\n",
       "      <th>Aftertaste</th>\n",
       "      <th>Acidity</th>\n",
       "      <th>Body</th>\n",
       "      <th>Balance</th>\n",
       "      <th>Uniformity</th>\n",
       "      <th>Clean.Cup</th>\n",
       "      <th>Sweetness</th>\n",
       "      <th>Total.Cup.Points</th>\n",
       "      <th>Moisture</th>\n",
       "      <th>Color</th>\n",
       "      <th>Certification.Body</th>\n",
       "      <th>altitude_mean_meters</th>\n",
       "    </tr>\n",
       "  </thead>\n",
       "  <tbody>\n",
       "    <tr>\n",
       "      <th>543</th>\n",
       "      <td>544</td>\n",
       "      <td>Arabica</td>\n",
       "      <td>expocaccer coop dos cafeic do cerrado ltda</td>\n",
       "      <td>Brazil</td>\n",
       "      <td>fazenda pantano</td>\n",
       "      <td>expocaccer</td>\n",
       "      <td>cerrado</td>\n",
       "      <td>Brazil Specialty Coffee Association</td>\n",
       "      <td>2014/2015</td>\n",
       "      <td>August 15th, 2014</td>\n",
       "      <td>Expocaccer Coop dos Cafeic do Cerrado Ltda</td>\n",
       "      <td>Moka Peaberry</td>\n",
       "      <td>Semi-washed / Semi-pulped</td>\n",
       "      <td>7.08</td>\n",
       "      <td>7.5</td>\n",
       "      <td>7.5</td>\n",
       "      <td>7.83</td>\n",
       "      <td>7.75</td>\n",
       "      <td>7.67</td>\n",
       "      <td>10.0</td>\n",
       "      <td>10.0</td>\n",
       "      <td>10.0</td>\n",
       "      <td>82.92</td>\n",
       "      <td>0.11</td>\n",
       "      <td>Green</td>\n",
       "      <td>Brazil Specialty Coffee Association</td>\n",
       "      <td>1100.0</td>\n",
       "    </tr>\n",
       "  </tbody>\n",
       "</table>\n",
       "</div>"
      ],
      "text/plain": [
       "      ID  Species                                       Owner  \\\n",
       "543  544  Arabica  expocaccer coop dos cafeic do cerrado ltda   \n",
       "\n",
       "    Country.of.Origin        Farm.Name     Company   Region  \\\n",
       "543            Brazil  fazenda pantano  expocaccer  cerrado   \n",
       "\n",
       "                      In.Country.Partner Harvest.Year       Grading.Date  \\\n",
       "543  Brazil Specialty Coffee Association    2014/2015  August 15th, 2014   \n",
       "\n",
       "                                        Owner.1        Variety  \\\n",
       "543  Expocaccer Coop dos Cafeic do Cerrado Ltda  Moka Peaberry   \n",
       "\n",
       "             Processing.Method  Aroma  Flavor  Aftertaste  Acidity  Body  \\\n",
       "543  Semi-washed / Semi-pulped   7.08     7.5         7.5     7.83  7.75   \n",
       "\n",
       "     Balance  Uniformity  Clean.Cup  Sweetness  Total.Cup.Points  Moisture  \\\n",
       "543     7.67        10.0       10.0       10.0             82.92      0.11   \n",
       "\n",
       "     Color                   Certification.Body  altitude_mean_meters  \n",
       "543  Green  Brazil Specialty Coffee Association                1100.0  "
      ]
     },
     "execution_count": 147,
     "metadata": {},
     "output_type": "execute_result"
    }
   ],
   "source": [
    "data.loc[data['ID']==544, 'altitude_mean_meters'] = 1100\n",
    "data.loc[data['ID']==544]"
   ]
  },
  {
   "cell_type": "code",
   "execution_count": null,
   "metadata": {},
   "outputs": [
    {
     "data": {
      "text/html": [
       "<div>\n",
       "<style scoped>\n",
       "    .dataframe tbody tr th:only-of-type {\n",
       "        vertical-align: middle;\n",
       "    }\n",
       "\n",
       "    .dataframe tbody tr th {\n",
       "        vertical-align: top;\n",
       "    }\n",
       "\n",
       "    .dataframe thead th {\n",
       "        text-align: right;\n",
       "    }\n",
       "</style>\n",
       "<table border=\"1\" class=\"dataframe\">\n",
       "  <thead>\n",
       "    <tr style=\"text-align: right;\">\n",
       "      <th></th>\n",
       "      <th>ID</th>\n",
       "      <th>Species</th>\n",
       "      <th>Owner</th>\n",
       "      <th>Country.of.Origin</th>\n",
       "      <th>Farm.Name</th>\n",
       "      <th>Company</th>\n",
       "      <th>Region</th>\n",
       "      <th>In.Country.Partner</th>\n",
       "      <th>Harvest.Year</th>\n",
       "      <th>Grading.Date</th>\n",
       "      <th>Owner.1</th>\n",
       "      <th>Variety</th>\n",
       "      <th>Processing.Method</th>\n",
       "      <th>Aroma</th>\n",
       "      <th>Flavor</th>\n",
       "      <th>Aftertaste</th>\n",
       "      <th>Acidity</th>\n",
       "      <th>Body</th>\n",
       "      <th>Balance</th>\n",
       "      <th>Uniformity</th>\n",
       "      <th>Clean.Cup</th>\n",
       "      <th>Sweetness</th>\n",
       "      <th>Total.Cup.Points</th>\n",
       "      <th>Moisture</th>\n",
       "      <th>Color</th>\n",
       "      <th>Certification.Body</th>\n",
       "      <th>altitude_mean_meters</th>\n",
       "    </tr>\n",
       "  </thead>\n",
       "  <tbody>\n",
       "    <tr>\n",
       "      <th>840</th>\n",
       "      <td>841</td>\n",
       "      <td>Arabica</td>\n",
       "      <td>u mg mg</td>\n",
       "      <td>Myanmar</td>\n",
       "      <td>wat-ka-bu</td>\n",
       "      <td>NaN</td>\n",
       "      <td>ywar ngan</td>\n",
       "      <td>Coffee Quality Institute</td>\n",
       "      <td>2015</td>\n",
       "      <td>July 17th, 2015</td>\n",
       "      <td>U Mg Mg</td>\n",
       "      <td>Catuai</td>\n",
       "      <td>Washed / Wet</td>\n",
       "      <td>7.33</td>\n",
       "      <td>7.58</td>\n",
       "      <td>7.50</td>\n",
       "      <td>7.42</td>\n",
       "      <td>7.33</td>\n",
       "      <td>7.33</td>\n",
       "      <td>10.0</td>\n",
       "      <td>10.0</td>\n",
       "      <td>10.0</td>\n",
       "      <td>81.83</td>\n",
       "      <td>0.00</td>\n",
       "      <td>Green</td>\n",
       "      <td>Coffee Quality Institute</td>\n",
       "      <td>1220.0</td>\n",
       "    </tr>\n",
       "    <tr>\n",
       "      <th>1097</th>\n",
       "      <td>1098</td>\n",
       "      <td>Arabica</td>\n",
       "      <td>bob mccauley</td>\n",
       "      <td>Myanmar</td>\n",
       "      <td>waylead farms</td>\n",
       "      <td>waylead industrial co, ltd.</td>\n",
       "      <td>yauk sauk, shan state</td>\n",
       "      <td>Specialty Coffee Association</td>\n",
       "      <td>2015</td>\n",
       "      <td>August 27th, 2015</td>\n",
       "      <td>Bob McCauley</td>\n",
       "      <td>Other</td>\n",
       "      <td>Natural / Dry</td>\n",
       "      <td>8.00</td>\n",
       "      <td>7.08</td>\n",
       "      <td>7.00</td>\n",
       "      <td>7.33</td>\n",
       "      <td>7.08</td>\n",
       "      <td>6.92</td>\n",
       "      <td>10.0</td>\n",
       "      <td>10.0</td>\n",
       "      <td>10.0</td>\n",
       "      <td>80.25</td>\n",
       "      <td>0.11</td>\n",
       "      <td>Green</td>\n",
       "      <td>Specialty Coffee Association</td>\n",
       "      <td>1306.7</td>\n",
       "    </tr>\n",
       "    <tr>\n",
       "      <th>1098</th>\n",
       "      <td>1099</td>\n",
       "      <td>Arabica</td>\n",
       "      <td>u htun htun</td>\n",
       "      <td>Myanmar</td>\n",
       "      <td>thein kone</td>\n",
       "      <td>NaN</td>\n",
       "      <td>ywar ngan</td>\n",
       "      <td>Coffee Quality Institute</td>\n",
       "      <td>2014</td>\n",
       "      <td>July 17th, 2015</td>\n",
       "      <td>U Htun Htun</td>\n",
       "      <td>Catuai</td>\n",
       "      <td>Natural / Dry</td>\n",
       "      <td>7.42</td>\n",
       "      <td>7.00</td>\n",
       "      <td>7.08</td>\n",
       "      <td>7.00</td>\n",
       "      <td>7.17</td>\n",
       "      <td>7.33</td>\n",
       "      <td>10.0</td>\n",
       "      <td>10.0</td>\n",
       "      <td>10.0</td>\n",
       "      <td>80.25</td>\n",
       "      <td>0.00</td>\n",
       "      <td>Green</td>\n",
       "      <td>Coffee Quality Institute</td>\n",
       "      <td>1306.7</td>\n",
       "    </tr>\n",
       "  </tbody>\n",
       "</table>\n",
       "</div>"
      ],
      "text/plain": [
       "        ID  Species         Owner Country.of.Origin      Farm.Name  \\\n",
       "840    841  Arabica       u mg mg           Myanmar      wat-ka-bu   \n",
       "1097  1098  Arabica  bob mccauley           Myanmar  waylead farms   \n",
       "1098  1099  Arabica   u htun htun           Myanmar     thein kone   \n",
       "\n",
       "                          Company                 Region  \\\n",
       "840                           NaN              ywar ngan   \n",
       "1097  waylead industrial co, ltd.  yauk sauk, shan state   \n",
       "1098                          NaN              ywar ngan   \n",
       "\n",
       "                In.Country.Partner Harvest.Year       Grading.Date  \\\n",
       "840       Coffee Quality Institute         2015    July 17th, 2015   \n",
       "1097  Specialty Coffee Association         2015  August 27th, 2015   \n",
       "1098      Coffee Quality Institute         2014    July 17th, 2015   \n",
       "\n",
       "           Owner.1 Variety Processing.Method  Aroma  Flavor  Aftertaste  \\\n",
       "840        U Mg Mg  Catuai      Washed / Wet   7.33    7.58        7.50   \n",
       "1097  Bob McCauley   Other     Natural / Dry   8.00    7.08        7.00   \n",
       "1098   U Htun Htun  Catuai     Natural / Dry   7.42    7.00        7.08   \n",
       "\n",
       "      Acidity  Body  Balance  Uniformity  Clean.Cup  Sweetness  \\\n",
       "840      7.42  7.33     7.33        10.0       10.0       10.0   \n",
       "1097     7.33  7.08     6.92        10.0       10.0       10.0   \n",
       "1098     7.00  7.17     7.33        10.0       10.0       10.0   \n",
       "\n",
       "      Total.Cup.Points  Moisture  Color            Certification.Body  \\\n",
       "840              81.83      0.00  Green      Coffee Quality Institute   \n",
       "1097             80.25      0.11  Green  Specialty Coffee Association   \n",
       "1098             80.25      0.00  Green      Coffee Quality Institute   \n",
       "\n",
       "      altitude_mean_meters  \n",
       "840                 1220.0  \n",
       "1097                1306.7  \n",
       "1098                1306.7  "
      ]
     },
     "execution_count": 153,
     "metadata": {},
     "output_type": "execute_result"
    }
   ],
   "source": [
    "data.loc[data['ID'].isin([841, 1098, 1099]), 'altitude_mean_meters'] = [1220, 1306.7, 1306.7]\n",
    "data.loc[data['ID'].isin([841, 1098, 1099])]"
   ]
  },
  {
   "cell_type": "code",
   "execution_count": null,
   "metadata": {},
   "outputs": [
    {
     "data": {
      "text/html": [
       "<div>\n",
       "<style scoped>\n",
       "    .dataframe tbody tr th:only-of-type {\n",
       "        vertical-align: middle;\n",
       "    }\n",
       "\n",
       "    .dataframe tbody tr th {\n",
       "        vertical-align: top;\n",
       "    }\n",
       "\n",
       "    .dataframe thead th {\n",
       "        text-align: right;\n",
       "    }\n",
       "</style>\n",
       "<table border=\"1\" class=\"dataframe\">\n",
       "  <thead>\n",
       "    <tr style=\"text-align: right;\">\n",
       "      <th></th>\n",
       "      <th>ID</th>\n",
       "      <th>Species</th>\n",
       "      <th>Owner</th>\n",
       "      <th>Country.of.Origin</th>\n",
       "      <th>Farm.Name</th>\n",
       "      <th>Company</th>\n",
       "      <th>Region</th>\n",
       "      <th>In.Country.Partner</th>\n",
       "      <th>Harvest.Year</th>\n",
       "      <th>Grading.Date</th>\n",
       "      <th>Owner.1</th>\n",
       "      <th>Variety</th>\n",
       "      <th>Processing.Method</th>\n",
       "      <th>Aroma</th>\n",
       "      <th>Flavor</th>\n",
       "      <th>Aftertaste</th>\n",
       "      <th>Acidity</th>\n",
       "      <th>Body</th>\n",
       "      <th>Balance</th>\n",
       "      <th>Uniformity</th>\n",
       "      <th>Clean.Cup</th>\n",
       "      <th>Sweetness</th>\n",
       "      <th>Total.Cup.Points</th>\n",
       "      <th>Moisture</th>\n",
       "      <th>Color</th>\n",
       "      <th>Certification.Body</th>\n",
       "      <th>altitude_mean_meters</th>\n",
       "    </tr>\n",
       "  </thead>\n",
       "  <tbody>\n",
       "    <tr>\n",
       "      <th>896</th>\n",
       "      <td>897</td>\n",
       "      <td>Arabica</td>\n",
       "      <td>juan luis alvarado romero</td>\n",
       "      <td>Guatemala</td>\n",
       "      <td>la esperanza</td>\n",
       "      <td>unex guatemala, s.a.</td>\n",
       "      <td>huehuetenango</td>\n",
       "      <td>Asociacion Nacional Del Café</td>\n",
       "      <td>2017</td>\n",
       "      <td>June 1st, 2017</td>\n",
       "      <td>Juan Luis Alvarado Romero</td>\n",
       "      <td>Bourbon</td>\n",
       "      <td>Washed / Wet</td>\n",
       "      <td>7.42</td>\n",
       "      <td>7.42</td>\n",
       "      <td>7.08</td>\n",
       "      <td>7.50</td>\n",
       "      <td>7.42</td>\n",
       "      <td>7.33</td>\n",
       "      <td>10.00</td>\n",
       "      <td>10.00</td>\n",
       "      <td>10.00</td>\n",
       "      <td>81.58</td>\n",
       "      <td>0.12</td>\n",
       "      <td>Green</td>\n",
       "      <td>Asociacion Nacional Del Café</td>\n",
       "      <td>1900.0</td>\n",
       "    </tr>\n",
       "    <tr>\n",
       "      <th>1144</th>\n",
       "      <td>1145</td>\n",
       "      <td>Arabica</td>\n",
       "      <td>juan luis alvarado romero</td>\n",
       "      <td>Guatemala</td>\n",
       "      <td>la esperanza</td>\n",
       "      <td>unex guatemala, s.a.</td>\n",
       "      <td>oriente</td>\n",
       "      <td>Asociacion Nacional Del Café</td>\n",
       "      <td>2016</td>\n",
       "      <td>June 22nd, 2017</td>\n",
       "      <td>Juan Luis Alvarado Romero</td>\n",
       "      <td>Bourbon</td>\n",
       "      <td>Washed / Wet</td>\n",
       "      <td>7.50</td>\n",
       "      <td>7.42</td>\n",
       "      <td>7.25</td>\n",
       "      <td>7.58</td>\n",
       "      <td>7.33</td>\n",
       "      <td>7.42</td>\n",
       "      <td>9.33</td>\n",
       "      <td>9.33</td>\n",
       "      <td>9.33</td>\n",
       "      <td>79.75</td>\n",
       "      <td>0.10</td>\n",
       "      <td>Green</td>\n",
       "      <td>Asociacion Nacional Del Café</td>\n",
       "      <td>1900.0</td>\n",
       "    </tr>\n",
       "  </tbody>\n",
       "</table>\n",
       "</div>"
      ],
      "text/plain": [
       "        ID  Species                      Owner Country.of.Origin  \\\n",
       "896    897  Arabica  juan luis alvarado romero         Guatemala   \n",
       "1144  1145  Arabica  juan luis alvarado romero         Guatemala   \n",
       "\n",
       "         Farm.Name               Company         Region  \\\n",
       "896   la esperanza  unex guatemala, s.a.  huehuetenango   \n",
       "1144  la esperanza  unex guatemala, s.a.        oriente   \n",
       "\n",
       "                In.Country.Partner Harvest.Year     Grading.Date  \\\n",
       "896   Asociacion Nacional Del Café         2017   June 1st, 2017   \n",
       "1144  Asociacion Nacional Del Café         2016  June 22nd, 2017   \n",
       "\n",
       "                        Owner.1  Variety Processing.Method  Aroma  Flavor  \\\n",
       "896   Juan Luis Alvarado Romero  Bourbon      Washed / Wet   7.42    7.42   \n",
       "1144  Juan Luis Alvarado Romero  Bourbon      Washed / Wet   7.50    7.42   \n",
       "\n",
       "      Aftertaste  Acidity  Body  Balance  Uniformity  Clean.Cup  Sweetness  \\\n",
       "896         7.08     7.50  7.42     7.33       10.00      10.00      10.00   \n",
       "1144        7.25     7.58  7.33     7.42        9.33       9.33       9.33   \n",
       "\n",
       "      Total.Cup.Points  Moisture  Color            Certification.Body  \\\n",
       "896              81.58      0.12  Green  Asociacion Nacional Del Café   \n",
       "1144             79.75      0.10  Green  Asociacion Nacional Del Café   \n",
       "\n",
       "      altitude_mean_meters  \n",
       "896                 1900.0  \n",
       "1144                1900.0  "
      ]
     },
     "execution_count": 149,
     "metadata": {},
     "output_type": "execute_result"
    }
   ],
   "source": [
    "data.loc[data['ID'].isin([897, 1145]), 'altitude_mean_meters'] = [1900, 1900]\n",
    "data.loc[data['ID'].isin([897, 1145])]"
   ]
  },
  {
   "cell_type": "code",
   "execution_count": null,
   "metadata": {},
   "outputs": [
    {
     "data": {
      "text/html": [
       "<div>\n",
       "<style scoped>\n",
       "    .dataframe tbody tr th:only-of-type {\n",
       "        vertical-align: middle;\n",
       "    }\n",
       "\n",
       "    .dataframe tbody tr th {\n",
       "        vertical-align: top;\n",
       "    }\n",
       "\n",
       "    .dataframe thead th {\n",
       "        text-align: right;\n",
       "    }\n",
       "</style>\n",
       "<table border=\"1\" class=\"dataframe\">\n",
       "  <thead>\n",
       "    <tr style=\"text-align: right;\">\n",
       "      <th></th>\n",
       "      <th>ID</th>\n",
       "      <th>Species</th>\n",
       "      <th>Owner</th>\n",
       "      <th>Country.of.Origin</th>\n",
       "      <th>Farm.Name</th>\n",
       "      <th>Company</th>\n",
       "      <th>Region</th>\n",
       "      <th>In.Country.Partner</th>\n",
       "      <th>Harvest.Year</th>\n",
       "      <th>Grading.Date</th>\n",
       "      <th>Owner.1</th>\n",
       "      <th>Variety</th>\n",
       "      <th>Processing.Method</th>\n",
       "      <th>Aroma</th>\n",
       "      <th>Flavor</th>\n",
       "      <th>Aftertaste</th>\n",
       "      <th>Acidity</th>\n",
       "      <th>Body</th>\n",
       "      <th>Balance</th>\n",
       "      <th>Uniformity</th>\n",
       "      <th>Clean.Cup</th>\n",
       "      <th>Sweetness</th>\n",
       "      <th>Total.Cup.Points</th>\n",
       "      <th>Moisture</th>\n",
       "      <th>Color</th>\n",
       "      <th>Certification.Body</th>\n",
       "      <th>altitude_mean_meters</th>\n",
       "    </tr>\n",
       "  </thead>\n",
       "  <tbody>\n",
       "    <tr>\n",
       "      <th>1040</th>\n",
       "      <td>1041</td>\n",
       "      <td>Arabica</td>\n",
       "      <td>comercial internacional exportadora, s.a.</td>\n",
       "      <td>Nicaragua</td>\n",
       "      <td>cafetales santa matilde</td>\n",
       "      <td>comercial internacional exportadora, s.a.</td>\n",
       "      <td>jinotega</td>\n",
       "      <td>Asociación de Cafés Especiales de Nicaragua</td>\n",
       "      <td>2015</td>\n",
       "      <td>May 28th, 2015</td>\n",
       "      <td>COMERCIAL INTERNACIONAL EXPORTADORA, S.A.</td>\n",
       "      <td>Other</td>\n",
       "      <td>Washed / Wet</td>\n",
       "      <td>7.25</td>\n",
       "      <td>7.25</td>\n",
       "      <td>7.17</td>\n",
       "      <td>7.25</td>\n",
       "      <td>7.33</td>\n",
       "      <td>7.25</td>\n",
       "      <td>10.0</td>\n",
       "      <td>10.0</td>\n",
       "      <td>10.0</td>\n",
       "      <td>80.75</td>\n",
       "      <td>0.12</td>\n",
       "      <td>Green</td>\n",
       "      <td>Asociación de Cafés Especiales de Nicaragua</td>\n",
       "      <td>1100.0</td>\n",
       "    </tr>\n",
       "  </tbody>\n",
       "</table>\n",
       "</div>"
      ],
      "text/plain": [
       "        ID  Species                                      Owner  \\\n",
       "1040  1041  Arabica  comercial internacional exportadora, s.a.   \n",
       "\n",
       "     Country.of.Origin                Farm.Name  \\\n",
       "1040         Nicaragua  cafetales santa matilde   \n",
       "\n",
       "                                        Company    Region  \\\n",
       "1040  comercial internacional exportadora, s.a.  jinotega   \n",
       "\n",
       "                               In.Country.Partner Harvest.Year  \\\n",
       "1040  Asociación de Cafés Especiales de Nicaragua         2015   \n",
       "\n",
       "        Grading.Date                                    Owner.1 Variety  \\\n",
       "1040  May 28th, 2015  COMERCIAL INTERNACIONAL EXPORTADORA, S.A.   Other   \n",
       "\n",
       "     Processing.Method  Aroma  Flavor  Aftertaste  Acidity  Body  Balance  \\\n",
       "1040      Washed / Wet   7.25    7.25        7.17     7.25  7.33     7.25   \n",
       "\n",
       "      Uniformity  Clean.Cup  Sweetness  Total.Cup.Points  Moisture  Color  \\\n",
       "1040        10.0       10.0       10.0             80.75      0.12  Green   \n",
       "\n",
       "                               Certification.Body  altitude_mean_meters  \n",
       "1040  Asociación de Cafés Especiales de Nicaragua                1100.0  "
      ]
     },
     "execution_count": 150,
     "metadata": {},
     "output_type": "execute_result"
    }
   ],
   "source": [
    "data.loc[data['ID']==1041, 'altitude_mean_meters'] = 1100\n",
    "data.loc[data['ID']==1041]"
   ]
  },
  {
   "cell_type": "code",
   "execution_count": null,
   "metadata": {},
   "outputs": [
    {
     "data": {
      "application/vnd.plotly.v1+json": {
       "config": {
        "plotlyServerURL": "https://plot.ly"
       },
       "data": [
        {
         "alignmentgroup": "True",
         "bingroup": "x",
         "hovertemplate": "altitude_mean_meters=%{x}<br>count=%{y}<extra></extra>",
         "legendgroup": "",
         "marker": {
          "color": "#636efa",
          "pattern": {
           "shape": ""
          }
         },
         "name": "",
         "offsetgroup": "",
         "orientation": "v",
         "showlegend": false,
         "type": "histogram",
         "x": [
          2075,
          2075,
          1700,
          2000,
          2075,
          null,
          null,
          1635,
          1635,
          1822.5,
          1905,
          1872,
          1943,
          609.6,
          1635,
          2080,
          1500,
          null,
          1450,
          1850,
          2019,
          1300,
          1320,
          2112,
          null,
          1250,
          null,
          1950,
          1400,
          1200,
          null,
          null,
          1300,
          1300,
          1775,
          1800,
          null,
          null,
          null,
          1941,
          1300,
          12,
          12,
          1000,
          1754,
          1250,
          null,
          1200,
          1860,
          1650,
          1750,
          426.72,
          null,
          1650,
          1800,
          1600,
          1900,
          1524,
          1417.32,
          null,
          null,
          1700,
          1500,
          1350,
          null,
          1680,
          1900,
          1900,
          1600,
          1731.264,
          1900,
          1950,
          null,
          1250,
          1400,
          1700,
          1770,
          1300,
          1300,
          1600,
          1200,
          null,
          null,
          null,
          1550,
          1550,
          1325,
          1400,
          null,
          2560,
          1700,
          null,
          2136,
          null,
          null,
          null,
          1800,
          null,
          1900,
          1300,
          1,
          1580,
          1100,
          1400,
          null,
          1325.88,
          null,
          1775,
          800,
          1620,
          1775,
          1200,
          1200,
          1000,
          null,
          350,
          1650,
          null,
          1750,
          1750,
          null,
          1800,
          1450,
          1200,
          925,
          1350,
          1200,
          170,
          1150,
          1600,
          1750,
          1900,
          1750,
          1200,
          null,
          1000,
          1550,
          2000,
          1310.64,
          1524,
          1200,
          1775,
          null,
          1750,
          1754,
          1500,
          null,
          1800,
          1524,
          1219.2,
          1550,
          1750,
          null,
          1750,
          1575,
          1800,
          1300,
          1100,
          1200,
          1750,
          1680,
          1700,
          1800,
          1100,
          1310.64,
          2000,
          1350,
          1500,
          null,
          null,
          null,
          1300,
          1400,
          null,
          1775,
          1200,
          null,
          900,
          null,
          1800,
          1500,
          null,
          1500,
          null,
          442,
          1800,
          1700,
          1275,
          1050,
          1493.52,
          1386.84,
          1000,
          1200,
          2560,
          1500,
          1099.4136,
          1400,
          1775,
          1775,
          1800,
          442,
          1620,
          1600,
          1219.2,
          1700,
          null,
          1450,
          1170,
          1400,
          1700,
          1700,
          null,
          1700,
          1116.7872,
          1565,
          3280,
          1775,
          1000,
          1150,
          1850,
          1606.5,
          1400,
          1530,
          null,
          250.5,
          1038.5,
          1310.64,
          1500,
          1750,
          null,
          1600,
          null,
          442,
          968,
          null,
          1775,
          1550,
          null,
          1480,
          1800,
          null,
          1800,
          1500,
          1706.88,
          1600,
          1219.2,
          1219.2,
          1480,
          1450,
          1775,
          1550,
          1260,
          1700,
          1200,
          null,
          1650,
          1700,
          null,
          890,
          1300,
          1350,
          934,
          1200,
          442,
          null,
          null,
          null,
          null,
          1775,
          950,
          1550,
          900,
          1500,
          1400,
          2527,
          null,
          1850,
          1500,
          1200,
          1,
          525,
          1676.5,
          1200,
          1300,
          1219.2,
          1260,
          800,
          1750,
          1310.64,
          1218,
          1300,
          1250,
          1499.9208,
          null,
          null,
          1800,
          890,
          442,
          750,
          null,
          1650,
          442,
          1400,
          853.44,
          1775,
          1550,
          1750,
          1750,
          null,
          700,
          1300,
          1600,
          1600,
          null,
          890,
          1700,
          1400,
          1250,
          934,
          1200,
          1350,
          800,
          1625,
          1356.6648,
          1750,
          1900,
          1310.64,
          1310.64,
          1750,
          1450,
          1310.64,
          1100,
          1400,
          1524,
          null,
          890,
          1128.3696,
          null,
          1100,
          1775,
          1200,
          1850,
          1800,
          1600,
          1550,
          1550,
          1000,
          1775,
          1000,
          2136,
          1100,
          1799,
          null,
          1850,
          1000,
          1219.2,
          1775,
          1400,
          1500,
          1600,
          null,
          1850,
          1400,
          1650,
          1350,
          1750,
          1750,
          1170,
          940,
          1400,
          1524,
          1775,
          1402.08,
          null,
          1600,
          439,
          1700,
          442,
          1850,
          null,
          1800,
          1200,
          1330,
          442,
          null,
          1600,
          1813,
          1219.2,
          1500,
          1310.64,
          null,
          1450,
          null,
          null,
          null,
          1050,
          1650,
          null,
          null,
          1227,
          1200,
          1650,
          1700,
          1100,
          1300,
          null,
          1200,
          null,
          1280.16,
          1000,
          1310.64,
          null,
          1880,
          1750,
          null,
          null,
          1600,
          1900,
          null,
          2100,
          null,
          null,
          442,
          1261,
          1000,
          800,
          1483,
          1500,
          1750,
          1300,
          null,
          null,
          1000,
          1310.64,
          1200,
          175,
          1775,
          1700,
          1880,
          1800,
          890,
          1901,
          168,
          null,
          1550,
          1500,
          1450,
          1200,
          1600,
          1350,
          1500,
          1650,
          250.5,
          800,
          1653,
          1775,
          1800,
          null,
          1450,
          1350,
          1524,
          null,
          1800,
          1310.64,
          1500,
          532,
          1089,
          1775,
          700,
          1750,
          1380,
          1000,
          950,
          1402.08,
          1000,
          900,
          1200,
          1850,
          1799,
          null,
          905,
          1,
          750,
          null,
          1200,
          1300,
          null,
          1300,
          null,
          1400,
          null,
          null,
          1775,
          1880,
          1350,
          null,
          890,
          894,
          872,
          1473,
          1645,
          442,
          1550,
          1550,
          1371.6,
          1500,
          1000,
          1200,
          1800,
          853.44,
          1500,
          1200,
          1250,
          1775,
          1750,
          1000,
          1000,
          1775,
          750,
          1200,
          1200,
          null,
          1625,
          1750,
          1371.6,
          1775,
          null,
          1450,
          null,
          null,
          1800,
          null,
          null,
          890,
          1350,
          1500,
          350,
          2000,
          775,
          1200,
          1600,
          1059,
          1300,
          1100,
          1650,
          1400,
          1500,
          1500,
          null,
          1900,
          1750,
          1706.88,
          1450,
          1248,
          1040,
          1400,
          null,
          1450,
          null,
          1754,
          1700,
          905,
          1250,
          1900,
          1040,
          1219.2,
          900,
          1600,
          1200,
          1500,
          1800,
          1775,
          1400,
          1550,
          1250,
          1310.64,
          1380,
          1200,
          1100,
          1800,
          1700,
          1219.2,
          1219.2,
          1500,
          157.8864,
          650,
          1250,
          1850,
          1400,
          905,
          1100,
          1500,
          1775,
          1442,
          1524,
          165,
          null,
          null,
          1300,
          1550,
          1200,
          1200,
          1625,
          1775,
          null,
          1100,
          null,
          890,
          934,
          1300,
          1200,
          1300,
          null,
          1,
          null,
          1700,
          1550,
          1200,
          1296,
          1650,
          1240,
          1500,
          1800,
          null,
          1500,
          null,
          1100,
          950,
          3850,
          null,
          1400,
          1800,
          null,
          1219.2,
          1050,
          null,
          200,
          null,
          1250,
          800,
          1450,
          1317,
          1650,
          1300,
          null,
          null,
          1750,
          1750,
          1750,
          1250,
          1150,
          1775,
          975,
          890,
          1250,
          1400,
          1219.2,
          800,
          1450,
          1600,
          null,
          1600,
          1260,
          1310.64,
          1750,
          1310.64,
          1679,
          1100,
          1650,
          null,
          1250,
          1775,
          null,
          1600,
          1500,
          1700,
          1700,
          157.8864,
          null,
          1600,
          1600,
          null,
          2285,
          1,
          1400,
          1296,
          1000,
          null,
          1260,
          1170,
          null,
          1775,
          1560,
          1400,
          1300,
          1170,
          1300,
          1350,
          1150,
          1250,
          1450,
          442,
          null,
          1750,
          1750,
          1396,
          982,
          null,
          934,
          1850,
          1550,
          1580,
          1268,
          null,
          1676.4,
          1450,
          1100,
          1524,
          null,
          1300,
          200,
          600,
          1310.64,
          1750,
          1300,
          null,
          1752.6,
          441,
          1170,
          1310.64,
          1100,
          1300,
          950,
          442,
          1100,
          null,
          1450,
          1,
          1500,
          1350,
          1180,
          1100,
          650,
          1338,
          null,
          533,
          1390.8024,
          1170,
          1250,
          null,
          1100,
          900,
          1750,
          1775,
          null,
          null,
          934,
          1500,
          1000,
          1650,
          1600,
          1,
          800,
          1350,
          1500,
          null,
          1700,
          1100,
          1400,
          1200,
          800,
          1750,
          1144,
          1350,
          1000,
          1200,
          1800,
          1300,
          null,
          894,
          1,
          1300,
          1500,
          1600,
          null,
          13,
          null,
          1300,
          1800,
          1250,
          1040,
          1250,
          null,
          1600,
          1600,
          1600,
          944,
          1650,
          1250,
          1350,
          2500,
          600,
          800,
          1300,
          1400,
          1900,
          650,
          1038.5,
          940,
          1000,
          1050,
          null,
          950,
          1402.08,
          1775,
          1901,
          1219.2,
          1400,
          1020,
          1250,
          1550,
          1877,
          null,
          1250,
          null,
          1000,
          1300,
          981,
          690,
          1650,
          1000,
          1100,
          1600,
          157.8864,
          1900,
          973,
          1250,
          3280,
          1,
          1,
          1220,
          1425,
          1400,
          1300,
          700,
          1300,
          1556,
          1100,
          1350,
          1550,
          1775,
          null,
          1250,
          1310.64,
          1500,
          1250,
          925,
          1700,
          null,
          1700,
          1040,
          1600,
          null,
          774,
          1250,
          1100,
          1550,
          1650,
          1750,
          1775,
          890,
          1700,
          1219.2,
          1450,
          1800,
          null,
          null,
          1,
          1500,
          1700,
          1260,
          null,
          1400,
          1850,
          null,
          150,
          750,
          1400,
          1752.6,
          1650,
          1400,
          1200,
          1400,
          940,
          null,
          1200,
          1900,
          800,
          13,
          1800,
          1100,
          850,
          1260,
          1310.64,
          1400,
          1600,
          1650,
          1499.9208,
          null,
          1600.2,
          1219.2,
          1100,
          1400,
          null,
          180,
          1219.2,
          1200,
          1599,
          1219.2,
          900,
          1200,
          825,
          600,
          1150,
          1600,
          1100,
          1000,
          1250,
          1100,
          1400,
          125,
          null,
          1450,
          null,
          1100,
          1371.6,
          1100,
          1400,
          110,
          1422,
          1100,
          1550,
          1550,
          null,
          1310.64,
          763,
          1100,
          1750,
          1880,
          null,
          null,
          1500,
          1130,
          1100,
          1350,
          1200,
          1400,
          1200,
          1450,
          1800,
          1000,
          1100,
          680,
          1,
          1100,
          1400,
          1700,
          1700,
          650,
          1524,
          1500,
          1200,
          1050,
          1200,
          1300,
          1450,
          1450,
          1200,
          1550,
          995,
          1300,
          null,
          1800,
          1450,
          1000,
          null,
          null,
          695,
          1100,
          1706.88,
          1456,
          1500,
          853.44,
          1650,
          1300,
          1642,
          1200,
          null,
          null,
          1450,
          null,
          3280,
          1600,
          1219.2,
          758,
          1350,
          null,
          1525,
          1700,
          1100,
          800,
          950,
          1100,
          200,
          1901,
          1600,
          1100,
          1066.8,
          null,
          1700,
          1200,
          550,
          1100,
          1050,
          1524,
          900,
          688,
          300,
          1186,
          null,
          1300,
          1200,
          1210,
          1100,
          100,
          null,
          1800,
          null,
          3825,
          1706.88,
          1100,
          1450,
          1680,
          1350,
          1450,
          1300,
          1200,
          1000,
          null,
          null,
          1350,
          1500,
          185,
          995,
          1200,
          1550,
          1550,
          null,
          null,
          null,
          null,
          null,
          1400,
          1200,
          1400,
          1383.792,
          null,
          null,
          50,
          1500,
          1650,
          280,
          1250,
          3800,
          1219.2,
          1250,
          null,
          1859.28,
          1450,
          1450,
          600,
          1450,
          1700,
          600,
          1050,
          1550,
          1700,
          1700,
          null,
          600,
          1310.64,
          940,
          null,
          null,
          995,
          1400,
          1600,
          1306.7,
          1306.7,
          900,
          null,
          null,
          700,
          1400,
          808,
          1550,
          1187.5,
          1400,
          1310.64,
          1250,
          1550,
          1000,
          1310.64,
          null,
          1100,
          850,
          null,
          200,
          150,
          250,
          1300,
          1300,
          1250,
          3845,
          1400,
          250,
          800,
          1250,
          1100,
          null,
          null,
          null,
          1300,
          1100,
          1100,
          1100,
          1250,
          1250,
          null,
          1500,
          1700,
          1250,
          1300,
          null,
          1900,
          1000,
          600,
          800,
          null,
          1100,
          1400,
          1022,
          1300,
          1450,
          1050,
          null,
          1100,
          1219.2,
          1250,
          800,
          1310.64,
          1400,
          975,
          1264,
          null,
          1250,
          1550,
          1800,
          1325.88,
          1050,
          700,
          1550,
          1550,
          1100,
          1219.2,
          1219.2,
          800,
          200,
          1200,
          950,
          750,
          null,
          850,
          1000,
          1219.2,
          1650,
          1320,
          1550,
          null,
          1550,
          1450,
          1200,
          1700,
          853.44,
          1500,
          1100,
          1200,
          null,
          1219.2,
          1350,
          1400,
          1300,
          1550,
          12,
          1300,
          1400,
          1100,
          null,
          1310.64,
          1320,
          1250,
          1350,
          1850,
          1150,
          null,
          null,
          1219.2,
          800,
          1400,
          1300,
          null,
          1600,
          1400,
          1200,
          null,
          1500,
          null,
          1219.2,
          1310.64,
          1300,
          null,
          null,
          null,
          1300,
          1050,
          650,
          1350,
          null,
          1219.2,
          1200,
          1310.64,
          850,
          null,
          1200,
          1248,
          null,
          1000,
          null,
          1310.64,
          775,
          null,
          1300,
          1310.64,
          890,
          1219.2,
          1500,
          825,
          null,
          1200,
          1200,
          null,
          1200,
          null,
          1100,
          1310.64,
          null,
          null,
          null,
          1400,
          3500,
          1250,
          1350,
          1000,
          null,
          1310.64,
          null,
          1100,
          1200,
          1100,
          1280,
          850,
          1500,
          1250,
          null,
          null,
          1700,
          null,
          1310.64,
          1140,
          1200,
          1250,
          null,
          null,
          1350,
          1200,
          null,
          null,
          1020,
          1200,
          800,
          1800,
          1000,
          null,
          1450,
          1450,
          1450,
          900,
          350,
          1100,
          1417.32,
          1400,
          1488,
          3170,
          1000,
          1212,
          1250,
          3000,
          750,
          3140,
          1000,
          1100,
          1095,
          1000,
          750,
          1367,
          1488,
          1000,
          750,
          1600,
          1745,
          1200,
          750,
          750,
          3000,
          null,
          40,
          795,
          null,
          null
         ],
         "xaxis": "x",
         "yaxis": "y"
        }
       ],
       "layout": {
        "barmode": "relative",
        "legend": {
         "tracegroupgap": 0
        },
        "margin": {
         "t": 60
        },
        "template": {
         "data": {
          "bar": [
           {
            "error_x": {
             "color": "#2a3f5f"
            },
            "error_y": {
             "color": "#2a3f5f"
            },
            "marker": {
             "line": {
              "color": "#E5ECF6",
              "width": 0.5
             },
             "pattern": {
              "fillmode": "overlay",
              "size": 10,
              "solidity": 0.2
             }
            },
            "type": "bar"
           }
          ],
          "barpolar": [
           {
            "marker": {
             "line": {
              "color": "#E5ECF6",
              "width": 0.5
             },
             "pattern": {
              "fillmode": "overlay",
              "size": 10,
              "solidity": 0.2
             }
            },
            "type": "barpolar"
           }
          ],
          "carpet": [
           {
            "aaxis": {
             "endlinecolor": "#2a3f5f",
             "gridcolor": "white",
             "linecolor": "white",
             "minorgridcolor": "white",
             "startlinecolor": "#2a3f5f"
            },
            "baxis": {
             "endlinecolor": "#2a3f5f",
             "gridcolor": "white",
             "linecolor": "white",
             "minorgridcolor": "white",
             "startlinecolor": "#2a3f5f"
            },
            "type": "carpet"
           }
          ],
          "choropleth": [
           {
            "colorbar": {
             "outlinewidth": 0,
             "ticks": ""
            },
            "type": "choropleth"
           }
          ],
          "contour": [
           {
            "colorbar": {
             "outlinewidth": 0,
             "ticks": ""
            },
            "colorscale": [
             [
              0,
              "#0d0887"
             ],
             [
              0.1111111111111111,
              "#46039f"
             ],
             [
              0.2222222222222222,
              "#7201a8"
             ],
             [
              0.3333333333333333,
              "#9c179e"
             ],
             [
              0.4444444444444444,
              "#bd3786"
             ],
             [
              0.5555555555555556,
              "#d8576b"
             ],
             [
              0.6666666666666666,
              "#ed7953"
             ],
             [
              0.7777777777777778,
              "#fb9f3a"
             ],
             [
              0.8888888888888888,
              "#fdca26"
             ],
             [
              1,
              "#f0f921"
             ]
            ],
            "type": "contour"
           }
          ],
          "contourcarpet": [
           {
            "colorbar": {
             "outlinewidth": 0,
             "ticks": ""
            },
            "type": "contourcarpet"
           }
          ],
          "heatmap": [
           {
            "colorbar": {
             "outlinewidth": 0,
             "ticks": ""
            },
            "colorscale": [
             [
              0,
              "#0d0887"
             ],
             [
              0.1111111111111111,
              "#46039f"
             ],
             [
              0.2222222222222222,
              "#7201a8"
             ],
             [
              0.3333333333333333,
              "#9c179e"
             ],
             [
              0.4444444444444444,
              "#bd3786"
             ],
             [
              0.5555555555555556,
              "#d8576b"
             ],
             [
              0.6666666666666666,
              "#ed7953"
             ],
             [
              0.7777777777777778,
              "#fb9f3a"
             ],
             [
              0.8888888888888888,
              "#fdca26"
             ],
             [
              1,
              "#f0f921"
             ]
            ],
            "type": "heatmap"
           }
          ],
          "heatmapgl": [
           {
            "colorbar": {
             "outlinewidth": 0,
             "ticks": ""
            },
            "colorscale": [
             [
              0,
              "#0d0887"
             ],
             [
              0.1111111111111111,
              "#46039f"
             ],
             [
              0.2222222222222222,
              "#7201a8"
             ],
             [
              0.3333333333333333,
              "#9c179e"
             ],
             [
              0.4444444444444444,
              "#bd3786"
             ],
             [
              0.5555555555555556,
              "#d8576b"
             ],
             [
              0.6666666666666666,
              "#ed7953"
             ],
             [
              0.7777777777777778,
              "#fb9f3a"
             ],
             [
              0.8888888888888888,
              "#fdca26"
             ],
             [
              1,
              "#f0f921"
             ]
            ],
            "type": "heatmapgl"
           }
          ],
          "histogram": [
           {
            "marker": {
             "pattern": {
              "fillmode": "overlay",
              "size": 10,
              "solidity": 0.2
             }
            },
            "type": "histogram"
           }
          ],
          "histogram2d": [
           {
            "colorbar": {
             "outlinewidth": 0,
             "ticks": ""
            },
            "colorscale": [
             [
              0,
              "#0d0887"
             ],
             [
              0.1111111111111111,
              "#46039f"
             ],
             [
              0.2222222222222222,
              "#7201a8"
             ],
             [
              0.3333333333333333,
              "#9c179e"
             ],
             [
              0.4444444444444444,
              "#bd3786"
             ],
             [
              0.5555555555555556,
              "#d8576b"
             ],
             [
              0.6666666666666666,
              "#ed7953"
             ],
             [
              0.7777777777777778,
              "#fb9f3a"
             ],
             [
              0.8888888888888888,
              "#fdca26"
             ],
             [
              1,
              "#f0f921"
             ]
            ],
            "type": "histogram2d"
           }
          ],
          "histogram2dcontour": [
           {
            "colorbar": {
             "outlinewidth": 0,
             "ticks": ""
            },
            "colorscale": [
             [
              0,
              "#0d0887"
             ],
             [
              0.1111111111111111,
              "#46039f"
             ],
             [
              0.2222222222222222,
              "#7201a8"
             ],
             [
              0.3333333333333333,
              "#9c179e"
             ],
             [
              0.4444444444444444,
              "#bd3786"
             ],
             [
              0.5555555555555556,
              "#d8576b"
             ],
             [
              0.6666666666666666,
              "#ed7953"
             ],
             [
              0.7777777777777778,
              "#fb9f3a"
             ],
             [
              0.8888888888888888,
              "#fdca26"
             ],
             [
              1,
              "#f0f921"
             ]
            ],
            "type": "histogram2dcontour"
           }
          ],
          "mesh3d": [
           {
            "colorbar": {
             "outlinewidth": 0,
             "ticks": ""
            },
            "type": "mesh3d"
           }
          ],
          "parcoords": [
           {
            "line": {
             "colorbar": {
              "outlinewidth": 0,
              "ticks": ""
             }
            },
            "type": "parcoords"
           }
          ],
          "pie": [
           {
            "automargin": true,
            "type": "pie"
           }
          ],
          "scatter": [
           {
            "fillpattern": {
             "fillmode": "overlay",
             "size": 10,
             "solidity": 0.2
            },
            "type": "scatter"
           }
          ],
          "scatter3d": [
           {
            "line": {
             "colorbar": {
              "outlinewidth": 0,
              "ticks": ""
             }
            },
            "marker": {
             "colorbar": {
              "outlinewidth": 0,
              "ticks": ""
             }
            },
            "type": "scatter3d"
           }
          ],
          "scattercarpet": [
           {
            "marker": {
             "colorbar": {
              "outlinewidth": 0,
              "ticks": ""
             }
            },
            "type": "scattercarpet"
           }
          ],
          "scattergeo": [
           {
            "marker": {
             "colorbar": {
              "outlinewidth": 0,
              "ticks": ""
             }
            },
            "type": "scattergeo"
           }
          ],
          "scattergl": [
           {
            "marker": {
             "colorbar": {
              "outlinewidth": 0,
              "ticks": ""
             }
            },
            "type": "scattergl"
           }
          ],
          "scattermapbox": [
           {
            "marker": {
             "colorbar": {
              "outlinewidth": 0,
              "ticks": ""
             }
            },
            "type": "scattermapbox"
           }
          ],
          "scatterpolar": [
           {
            "marker": {
             "colorbar": {
              "outlinewidth": 0,
              "ticks": ""
             }
            },
            "type": "scatterpolar"
           }
          ],
          "scatterpolargl": [
           {
            "marker": {
             "colorbar": {
              "outlinewidth": 0,
              "ticks": ""
             }
            },
            "type": "scatterpolargl"
           }
          ],
          "scatterternary": [
           {
            "marker": {
             "colorbar": {
              "outlinewidth": 0,
              "ticks": ""
             }
            },
            "type": "scatterternary"
           }
          ],
          "surface": [
           {
            "colorbar": {
             "outlinewidth": 0,
             "ticks": ""
            },
            "colorscale": [
             [
              0,
              "#0d0887"
             ],
             [
              0.1111111111111111,
              "#46039f"
             ],
             [
              0.2222222222222222,
              "#7201a8"
             ],
             [
              0.3333333333333333,
              "#9c179e"
             ],
             [
              0.4444444444444444,
              "#bd3786"
             ],
             [
              0.5555555555555556,
              "#d8576b"
             ],
             [
              0.6666666666666666,
              "#ed7953"
             ],
             [
              0.7777777777777778,
              "#fb9f3a"
             ],
             [
              0.8888888888888888,
              "#fdca26"
             ],
             [
              1,
              "#f0f921"
             ]
            ],
            "type": "surface"
           }
          ],
          "table": [
           {
            "cells": {
             "fill": {
              "color": "#EBF0F8"
             },
             "line": {
              "color": "white"
             }
            },
            "header": {
             "fill": {
              "color": "#C8D4E3"
             },
             "line": {
              "color": "white"
             }
            },
            "type": "table"
           }
          ]
         },
         "layout": {
          "annotationdefaults": {
           "arrowcolor": "#2a3f5f",
           "arrowhead": 0,
           "arrowwidth": 1
          },
          "autotypenumbers": "strict",
          "coloraxis": {
           "colorbar": {
            "outlinewidth": 0,
            "ticks": ""
           }
          },
          "colorscale": {
           "diverging": [
            [
             0,
             "#8e0152"
            ],
            [
             0.1,
             "#c51b7d"
            ],
            [
             0.2,
             "#de77ae"
            ],
            [
             0.3,
             "#f1b6da"
            ],
            [
             0.4,
             "#fde0ef"
            ],
            [
             0.5,
             "#f7f7f7"
            ],
            [
             0.6,
             "#e6f5d0"
            ],
            [
             0.7,
             "#b8e186"
            ],
            [
             0.8,
             "#7fbc41"
            ],
            [
             0.9,
             "#4d9221"
            ],
            [
             1,
             "#276419"
            ]
           ],
           "sequential": [
            [
             0,
             "#0d0887"
            ],
            [
             0.1111111111111111,
             "#46039f"
            ],
            [
             0.2222222222222222,
             "#7201a8"
            ],
            [
             0.3333333333333333,
             "#9c179e"
            ],
            [
             0.4444444444444444,
             "#bd3786"
            ],
            [
             0.5555555555555556,
             "#d8576b"
            ],
            [
             0.6666666666666666,
             "#ed7953"
            ],
            [
             0.7777777777777778,
             "#fb9f3a"
            ],
            [
             0.8888888888888888,
             "#fdca26"
            ],
            [
             1,
             "#f0f921"
            ]
           ],
           "sequentialminus": [
            [
             0,
             "#0d0887"
            ],
            [
             0.1111111111111111,
             "#46039f"
            ],
            [
             0.2222222222222222,
             "#7201a8"
            ],
            [
             0.3333333333333333,
             "#9c179e"
            ],
            [
             0.4444444444444444,
             "#bd3786"
            ],
            [
             0.5555555555555556,
             "#d8576b"
            ],
            [
             0.6666666666666666,
             "#ed7953"
            ],
            [
             0.7777777777777778,
             "#fb9f3a"
            ],
            [
             0.8888888888888888,
             "#fdca26"
            ],
            [
             1,
             "#f0f921"
            ]
           ]
          },
          "colorway": [
           "#636efa",
           "#EF553B",
           "#00cc96",
           "#ab63fa",
           "#FFA15A",
           "#19d3f3",
           "#FF6692",
           "#B6E880",
           "#FF97FF",
           "#FECB52"
          ],
          "font": {
           "color": "#2a3f5f"
          },
          "geo": {
           "bgcolor": "white",
           "lakecolor": "white",
           "landcolor": "#E5ECF6",
           "showlakes": true,
           "showland": true,
           "subunitcolor": "white"
          },
          "hoverlabel": {
           "align": "left"
          },
          "hovermode": "closest",
          "mapbox": {
           "style": "light"
          },
          "paper_bgcolor": "white",
          "plot_bgcolor": "#E5ECF6",
          "polar": {
           "angularaxis": {
            "gridcolor": "white",
            "linecolor": "white",
            "ticks": ""
           },
           "bgcolor": "#E5ECF6",
           "radialaxis": {
            "gridcolor": "white",
            "linecolor": "white",
            "ticks": ""
           }
          },
          "scene": {
           "xaxis": {
            "backgroundcolor": "#E5ECF6",
            "gridcolor": "white",
            "gridwidth": 2,
            "linecolor": "white",
            "showbackground": true,
            "ticks": "",
            "zerolinecolor": "white"
           },
           "yaxis": {
            "backgroundcolor": "#E5ECF6",
            "gridcolor": "white",
            "gridwidth": 2,
            "linecolor": "white",
            "showbackground": true,
            "ticks": "",
            "zerolinecolor": "white"
           },
           "zaxis": {
            "backgroundcolor": "#E5ECF6",
            "gridcolor": "white",
            "gridwidth": 2,
            "linecolor": "white",
            "showbackground": true,
            "ticks": "",
            "zerolinecolor": "white"
           }
          },
          "shapedefaults": {
           "line": {
            "color": "#2a3f5f"
           }
          },
          "ternary": {
           "aaxis": {
            "gridcolor": "white",
            "linecolor": "white",
            "ticks": ""
           },
           "baxis": {
            "gridcolor": "white",
            "linecolor": "white",
            "ticks": ""
           },
           "bgcolor": "#E5ECF6",
           "caxis": {
            "gridcolor": "white",
            "linecolor": "white",
            "ticks": ""
           }
          },
          "title": {
           "x": 0.05
          },
          "xaxis": {
           "automargin": true,
           "gridcolor": "white",
           "linecolor": "white",
           "ticks": "",
           "title": {
            "standoff": 15
           },
           "zerolinecolor": "white",
           "zerolinewidth": 2
          },
          "yaxis": {
           "automargin": true,
           "gridcolor": "white",
           "linecolor": "white",
           "ticks": "",
           "title": {
            "standoff": 15
           },
           "zerolinecolor": "white",
           "zerolinewidth": 2
          }
         }
        },
        "xaxis": {
         "anchor": "y",
         "domain": [
          0,
          1
         ],
         "title": {
          "text": "altitude_mean_meters"
         }
        },
        "yaxis": {
         "anchor": "x",
         "domain": [
          0,
          1
         ],
         "title": {
          "text": "count"
         }
        }
       }
      }
     },
     "metadata": {},
     "output_type": "display_data"
    }
   ],
   "source": [
    "px.histogram(data, 'altitude_mean_meters')"
   ]
  },
  {
   "cell_type": "markdown",
   "metadata": {},
   "source": [
    "# Fill varieties of Robusta\n",
    "Most coffee from data['Species']==Robusta have NA or 'others' etc. Because Varieties in botanic is actually sub-species, annd that we only have 28 Robusta we can fill data['Variety']=Robusta for all data['Species']==Robusta"
   ]
  },
  {
   "cell_type": "code",
   "execution_count": null,
   "metadata": {},
   "outputs": [
    {
     "data": {
      "text/plain": [
       "28"
      ]
     },
     "execution_count": 169,
     "metadata": {},
     "output_type": "execute_result"
    }
   ],
   "source": [
    "rob_cond = data['Species']=='Robusta'\n",
    "data_rob = data[rob_cond]\n",
    "data_rob['ID'].count()"
   ]
  },
  {
   "cell_type": "code",
   "execution_count": null,
   "metadata": {},
   "outputs": [
    {
     "data": {
      "text/plain": [
       "25"
      ]
     },
     "execution_count": 176,
     "metadata": {},
     "output_type": "execute_result"
    }
   ],
   "source": [
    "data_rob['Variety'].isna().sum()"
   ]
  },
  {
   "cell_type": "code",
   "execution_count": null,
   "metadata": {},
   "outputs": [
    {
     "data": {
      "text/plain": [
       "Variety\n",
       "Other     2\n",
       "Arusha    1\n",
       "Name: count, dtype: int64"
      ]
     },
     "execution_count": 171,
     "metadata": {},
     "output_type": "execute_result"
    }
   ],
   "source": [
    "data_rob['Variety'].value_counts()"
   ]
  },
  {
   "cell_type": "markdown",
   "metadata": {},
   "source": [
    "Arusha is not a valid Robusta variety, so we will replace this by 'Robusta'"
   ]
  },
  {
   "cell_type": "code",
   "execution_count": null,
   "metadata": {},
   "outputs": [
    {
     "data": {
      "text/html": [
       "<div>\n",
       "<style scoped>\n",
       "    .dataframe tbody tr th:only-of-type {\n",
       "        vertical-align: middle;\n",
       "    }\n",
       "\n",
       "    .dataframe tbody tr th {\n",
       "        vertical-align: top;\n",
       "    }\n",
       "\n",
       "    .dataframe thead th {\n",
       "        text-align: right;\n",
       "    }\n",
       "</style>\n",
       "<table border=\"1\" class=\"dataframe\">\n",
       "  <thead>\n",
       "    <tr style=\"text-align: right;\">\n",
       "      <th></th>\n",
       "      <th>ID</th>\n",
       "      <th>Species</th>\n",
       "      <th>Owner</th>\n",
       "      <th>Country.of.Origin</th>\n",
       "      <th>Farm.Name</th>\n",
       "      <th>Company</th>\n",
       "      <th>Region</th>\n",
       "      <th>In.Country.Partner</th>\n",
       "      <th>Harvest.Year</th>\n",
       "      <th>Grading.Date</th>\n",
       "      <th>Owner.1</th>\n",
       "      <th>Variety</th>\n",
       "      <th>Processing.Method</th>\n",
       "      <th>Aroma</th>\n",
       "      <th>Flavor</th>\n",
       "      <th>Aftertaste</th>\n",
       "      <th>Acidity</th>\n",
       "      <th>Body</th>\n",
       "      <th>Balance</th>\n",
       "      <th>Uniformity</th>\n",
       "      <th>Clean.Cup</th>\n",
       "      <th>Sweetness</th>\n",
       "      <th>Total.Cup.Points</th>\n",
       "      <th>Moisture</th>\n",
       "      <th>Color</th>\n",
       "      <th>Certification.Body</th>\n",
       "      <th>altitude_mean_meters</th>\n",
       "    </tr>\n",
       "  </thead>\n",
       "  <tbody>\n",
       "    <tr>\n",
       "      <th>1311</th>\n",
       "      <td>1312</td>\n",
       "      <td>Robusta</td>\n",
       "      <td>ankole coffee producers coop</td>\n",
       "      <td>Uganda</td>\n",
       "      <td>kyangundu cooperative society</td>\n",
       "      <td>ankole coffee producers coop</td>\n",
       "      <td>sheema south western</td>\n",
       "      <td>Uganda Coffee Development Authority</td>\n",
       "      <td>2013</td>\n",
       "      <td>June 26th, 2014</td>\n",
       "      <td>Ankole coffee producers coop</td>\n",
       "      <td>Robusta</td>\n",
       "      <td>NaN</td>\n",
       "      <td>7.83</td>\n",
       "      <td>8.08</td>\n",
       "      <td>7.75</td>\n",
       "      <td>7.92</td>\n",
       "      <td>8.25</td>\n",
       "      <td>7.92</td>\n",
       "      <td>10.00</td>\n",
       "      <td>10.00</td>\n",
       "      <td>8.00</td>\n",
       "      <td>83.75</td>\n",
       "      <td>0.12</td>\n",
       "      <td>Green</td>\n",
       "      <td>Uganda Coffee Development Authority</td>\n",
       "      <td>1488.0</td>\n",
       "    </tr>\n",
       "    <tr>\n",
       "      <th>1312</th>\n",
       "      <td>1313</td>\n",
       "      <td>Robusta</td>\n",
       "      <td>nishant gurjer</td>\n",
       "      <td>India</td>\n",
       "      <td>sethuraman estate kaapi royale</td>\n",
       "      <td>kaapi royale</td>\n",
       "      <td>chikmagalur karnataka indua</td>\n",
       "      <td>Specialty Coffee Association</td>\n",
       "      <td>2017</td>\n",
       "      <td>October 31st, 2017</td>\n",
       "      <td>Nishant Gurjer</td>\n",
       "      <td>Robusta</td>\n",
       "      <td>Washed / Wet</td>\n",
       "      <td>8.00</td>\n",
       "      <td>7.75</td>\n",
       "      <td>7.92</td>\n",
       "      <td>8.00</td>\n",
       "      <td>7.92</td>\n",
       "      <td>7.92</td>\n",
       "      <td>10.00</td>\n",
       "      <td>10.00</td>\n",
       "      <td>8.00</td>\n",
       "      <td>83.50</td>\n",
       "      <td>0.00</td>\n",
       "      <td>NaN</td>\n",
       "      <td>Specialty Coffee Association</td>\n",
       "      <td>3170.0</td>\n",
       "    </tr>\n",
       "    <tr>\n",
       "      <th>1313</th>\n",
       "      <td>1314</td>\n",
       "      <td>Robusta</td>\n",
       "      <td>andrew hetzel</td>\n",
       "      <td>India</td>\n",
       "      <td>sethuraman estate</td>\n",
       "      <td>sethuraman estate</td>\n",
       "      <td>chikmagalur</td>\n",
       "      <td>Specialty Coffee Association</td>\n",
       "      <td>2015</td>\n",
       "      <td>April 30th, 2015</td>\n",
       "      <td>Andrew Hetzel</td>\n",
       "      <td>Robusta</td>\n",
       "      <td>NaN</td>\n",
       "      <td>7.92</td>\n",
       "      <td>7.83</td>\n",
       "      <td>7.92</td>\n",
       "      <td>8.00</td>\n",
       "      <td>7.83</td>\n",
       "      <td>7.92</td>\n",
       "      <td>10.00</td>\n",
       "      <td>10.00</td>\n",
       "      <td>7.83</td>\n",
       "      <td>83.25</td>\n",
       "      <td>0.00</td>\n",
       "      <td>Green</td>\n",
       "      <td>Specialty Coffee Association</td>\n",
       "      <td>1000.0</td>\n",
       "    </tr>\n",
       "    <tr>\n",
       "      <th>1314</th>\n",
       "      <td>1315</td>\n",
       "      <td>Robusta</td>\n",
       "      <td>ugacof</td>\n",
       "      <td>Uganda</td>\n",
       "      <td>ugacof project area</td>\n",
       "      <td>ugacof ltd</td>\n",
       "      <td>central</td>\n",
       "      <td>Uganda Coffee Development Authority</td>\n",
       "      <td>2013</td>\n",
       "      <td>July 14th, 2014</td>\n",
       "      <td>UGACOF</td>\n",
       "      <td>Robusta</td>\n",
       "      <td>NaN</td>\n",
       "      <td>8.00</td>\n",
       "      <td>7.92</td>\n",
       "      <td>7.92</td>\n",
       "      <td>7.75</td>\n",
       "      <td>7.83</td>\n",
       "      <td>7.75</td>\n",
       "      <td>10.00</td>\n",
       "      <td>10.00</td>\n",
       "      <td>7.75</td>\n",
       "      <td>83.00</td>\n",
       "      <td>0.12</td>\n",
       "      <td>Green</td>\n",
       "      <td>Uganda Coffee Development Authority</td>\n",
       "      <td>1212.0</td>\n",
       "    </tr>\n",
       "    <tr>\n",
       "      <th>1315</th>\n",
       "      <td>1316</td>\n",
       "      <td>Robusta</td>\n",
       "      <td>katuka development trust ltd</td>\n",
       "      <td>Uganda</td>\n",
       "      <td>katikamu capca farmers association</td>\n",
       "      <td>katuka development trust ltd</td>\n",
       "      <td>luwero central region</td>\n",
       "      <td>Uganda Coffee Development Authority</td>\n",
       "      <td>2013</td>\n",
       "      <td>June 26th, 2014</td>\n",
       "      <td>Katuka Development Trust Ltd</td>\n",
       "      <td>Robusta</td>\n",
       "      <td>NaN</td>\n",
       "      <td>8.33</td>\n",
       "      <td>7.83</td>\n",
       "      <td>7.83</td>\n",
       "      <td>7.75</td>\n",
       "      <td>8.25</td>\n",
       "      <td>7.75</td>\n",
       "      <td>10.00</td>\n",
       "      <td>10.00</td>\n",
       "      <td>7.58</td>\n",
       "      <td>83.00</td>\n",
       "      <td>0.12</td>\n",
       "      <td>Green</td>\n",
       "      <td>Uganda Coffee Development Authority</td>\n",
       "      <td>1250.0</td>\n",
       "    </tr>\n",
       "    <tr>\n",
       "      <th>1316</th>\n",
       "      <td>1317</td>\n",
       "      <td>Robusta</td>\n",
       "      <td>andrew hetzel</td>\n",
       "      <td>India</td>\n",
       "      <td>NaN</td>\n",
       "      <td>cafemakers, llc</td>\n",
       "      <td>chikmagalur</td>\n",
       "      <td>Specialty Coffee Association</td>\n",
       "      <td>2012</td>\n",
       "      <td>February 29th, 2012</td>\n",
       "      <td>Andrew Hetzel</td>\n",
       "      <td>Robusta</td>\n",
       "      <td>NaN</td>\n",
       "      <td>8.00</td>\n",
       "      <td>7.92</td>\n",
       "      <td>7.67</td>\n",
       "      <td>8.00</td>\n",
       "      <td>7.75</td>\n",
       "      <td>7.92</td>\n",
       "      <td>10.00</td>\n",
       "      <td>10.00</td>\n",
       "      <td>7.75</td>\n",
       "      <td>82.75</td>\n",
       "      <td>0.00</td>\n",
       "      <td>Green</td>\n",
       "      <td>Specialty Coffee Association</td>\n",
       "      <td>3000.0</td>\n",
       "    </tr>\n",
       "    <tr>\n",
       "      <th>1317</th>\n",
       "      <td>1318</td>\n",
       "      <td>Robusta</td>\n",
       "      <td>andrew hetzel</td>\n",
       "      <td>India</td>\n",
       "      <td>sethuraman estates</td>\n",
       "      <td>cafemakers</td>\n",
       "      <td>chikmagalur</td>\n",
       "      <td>Specialty Coffee Association</td>\n",
       "      <td>2014</td>\n",
       "      <td>May 15th, 2014</td>\n",
       "      <td>Andrew Hetzel</td>\n",
       "      <td>Robusta</td>\n",
       "      <td>NaN</td>\n",
       "      <td>7.67</td>\n",
       "      <td>7.75</td>\n",
       "      <td>7.83</td>\n",
       "      <td>7.83</td>\n",
       "      <td>7.92</td>\n",
       "      <td>7.75</td>\n",
       "      <td>10.00</td>\n",
       "      <td>10.00</td>\n",
       "      <td>8.00</td>\n",
       "      <td>82.58</td>\n",
       "      <td>0.00</td>\n",
       "      <td>Green</td>\n",
       "      <td>Specialty Coffee Association</td>\n",
       "      <td>750.0</td>\n",
       "    </tr>\n",
       "    <tr>\n",
       "      <th>1318</th>\n",
       "      <td>1319</td>\n",
       "      <td>Robusta</td>\n",
       "      <td>nishant gurjer</td>\n",
       "      <td>India</td>\n",
       "      <td>sethuraman estate kaapi royale</td>\n",
       "      <td>kaapi royale</td>\n",
       "      <td>chikmagalur karnataka india</td>\n",
       "      <td>Specialty Coffee Association</td>\n",
       "      <td>2017</td>\n",
       "      <td>October 25th, 2017</td>\n",
       "      <td>Nishant Gurjer</td>\n",
       "      <td>Robusta</td>\n",
       "      <td>Washed / Wet</td>\n",
       "      <td>7.67</td>\n",
       "      <td>7.75</td>\n",
       "      <td>7.83</td>\n",
       "      <td>7.67</td>\n",
       "      <td>7.92</td>\n",
       "      <td>7.83</td>\n",
       "      <td>10.00</td>\n",
       "      <td>10.00</td>\n",
       "      <td>7.92</td>\n",
       "      <td>82.50</td>\n",
       "      <td>0.10</td>\n",
       "      <td>Bluish-Green</td>\n",
       "      <td>Specialty Coffee Association</td>\n",
       "      <td>3140.0</td>\n",
       "    </tr>\n",
       "    <tr>\n",
       "      <th>1319</th>\n",
       "      <td>1320</td>\n",
       "      <td>Robusta</td>\n",
       "      <td>nishant gurjer</td>\n",
       "      <td>India</td>\n",
       "      <td>sethuraman estate</td>\n",
       "      <td>kaapi royale</td>\n",
       "      <td>chikmagalur karnataka</td>\n",
       "      <td>Specialty Coffee Association</td>\n",
       "      <td>2015</td>\n",
       "      <td>August 17th, 2016</td>\n",
       "      <td>Nishant Gurjer</td>\n",
       "      <td>Robusta</td>\n",
       "      <td>Washed / Wet</td>\n",
       "      <td>7.67</td>\n",
       "      <td>7.75</td>\n",
       "      <td>7.58</td>\n",
       "      <td>7.83</td>\n",
       "      <td>7.83</td>\n",
       "      <td>8.00</td>\n",
       "      <td>10.00</td>\n",
       "      <td>10.00</td>\n",
       "      <td>7.92</td>\n",
       "      <td>82.50</td>\n",
       "      <td>0.09</td>\n",
       "      <td>Green</td>\n",
       "      <td>Specialty Coffee Association</td>\n",
       "      <td>1000.0</td>\n",
       "    </tr>\n",
       "    <tr>\n",
       "      <th>1320</th>\n",
       "      <td>1321</td>\n",
       "      <td>Robusta</td>\n",
       "      <td>ugacof</td>\n",
       "      <td>Uganda</td>\n",
       "      <td>ishaka</td>\n",
       "      <td>ugacof ltd</td>\n",
       "      <td>western</td>\n",
       "      <td>Uganda Coffee Development Authority</td>\n",
       "      <td>2014</td>\n",
       "      <td>August 5th, 2014</td>\n",
       "      <td>UGACOF</td>\n",
       "      <td>Robusta</td>\n",
       "      <td>NaN</td>\n",
       "      <td>7.67</td>\n",
       "      <td>7.83</td>\n",
       "      <td>7.83</td>\n",
       "      <td>7.83</td>\n",
       "      <td>7.92</td>\n",
       "      <td>7.75</td>\n",
       "      <td>10.00</td>\n",
       "      <td>10.00</td>\n",
       "      <td>7.75</td>\n",
       "      <td>82.42</td>\n",
       "      <td>0.12</td>\n",
       "      <td>Green</td>\n",
       "      <td>Uganda Coffee Development Authority</td>\n",
       "      <td>1100.0</td>\n",
       "    </tr>\n",
       "    <tr>\n",
       "      <th>1321</th>\n",
       "      <td>1322</td>\n",
       "      <td>Robusta</td>\n",
       "      <td>ugacof</td>\n",
       "      <td>Uganda</td>\n",
       "      <td>ugacof project area</td>\n",
       "      <td>ugacof ltd</td>\n",
       "      <td>iganga namadrope eastern</td>\n",
       "      <td>Uganda Coffee Development Authority</td>\n",
       "      <td>2014</td>\n",
       "      <td>June 26th, 2014</td>\n",
       "      <td>UGACOF</td>\n",
       "      <td>Robusta</td>\n",
       "      <td>NaN</td>\n",
       "      <td>7.58</td>\n",
       "      <td>7.92</td>\n",
       "      <td>7.75</td>\n",
       "      <td>7.83</td>\n",
       "      <td>7.50</td>\n",
       "      <td>7.67</td>\n",
       "      <td>10.00</td>\n",
       "      <td>10.00</td>\n",
       "      <td>7.67</td>\n",
       "      <td>81.75</td>\n",
       "      <td>0.12</td>\n",
       "      <td>Green</td>\n",
       "      <td>Uganda Coffee Development Authority</td>\n",
       "      <td>1095.0</td>\n",
       "    </tr>\n",
       "    <tr>\n",
       "      <th>1322</th>\n",
       "      <td>1323</td>\n",
       "      <td>Robusta</td>\n",
       "      <td>nishant gurjer</td>\n",
       "      <td>India</td>\n",
       "      <td>sethuraman estate kaapi royale</td>\n",
       "      <td>kaapi royale</td>\n",
       "      <td>chikmagalur karnataka</td>\n",
       "      <td>Specialty Coffee Association</td>\n",
       "      <td>2015</td>\n",
       "      <td>August 23rd, 2016</td>\n",
       "      <td>Nishant Gurjer</td>\n",
       "      <td>Robusta</td>\n",
       "      <td>Natural / Dry</td>\n",
       "      <td>7.67</td>\n",
       "      <td>7.83</td>\n",
       "      <td>7.75</td>\n",
       "      <td>7.50</td>\n",
       "      <td>7.75</td>\n",
       "      <td>7.58</td>\n",
       "      <td>10.00</td>\n",
       "      <td>10.00</td>\n",
       "      <td>7.75</td>\n",
       "      <td>81.58</td>\n",
       "      <td>0.11</td>\n",
       "      <td>Green</td>\n",
       "      <td>Specialty Coffee Association</td>\n",
       "      <td>1000.0</td>\n",
       "    </tr>\n",
       "    <tr>\n",
       "      <th>1323</th>\n",
       "      <td>1324</td>\n",
       "      <td>Robusta</td>\n",
       "      <td>andrew hetzel</td>\n",
       "      <td>India</td>\n",
       "      <td>sethuraman estates</td>\n",
       "      <td>cafemakers</td>\n",
       "      <td>chikmagalur</td>\n",
       "      <td>Specialty Coffee Association</td>\n",
       "      <td>2014</td>\n",
       "      <td>May 19th, 2014</td>\n",
       "      <td>Andrew Hetzel</td>\n",
       "      <td>Robusta</td>\n",
       "      <td>NaN</td>\n",
       "      <td>7.58</td>\n",
       "      <td>7.58</td>\n",
       "      <td>7.67</td>\n",
       "      <td>7.58</td>\n",
       "      <td>7.67</td>\n",
       "      <td>7.67</td>\n",
       "      <td>10.00</td>\n",
       "      <td>10.00</td>\n",
       "      <td>7.50</td>\n",
       "      <td>81.58</td>\n",
       "      <td>0.00</td>\n",
       "      <td>Green</td>\n",
       "      <td>Specialty Coffee Association</td>\n",
       "      <td>750.0</td>\n",
       "    </tr>\n",
       "    <tr>\n",
       "      <th>1324</th>\n",
       "      <td>1325</td>\n",
       "      <td>Robusta</td>\n",
       "      <td>kasozi coffee farmers association</td>\n",
       "      <td>Uganda</td>\n",
       "      <td>kasozi coffee farmers</td>\n",
       "      <td>kasozi coffee farmers association</td>\n",
       "      <td>eastern</td>\n",
       "      <td>Uganda Coffee Development Authority</td>\n",
       "      <td>2013</td>\n",
       "      <td>July 14th, 2014</td>\n",
       "      <td>Kasozi Coffee Farmers Association</td>\n",
       "      <td>Robusta</td>\n",
       "      <td>NaN</td>\n",
       "      <td>8.00</td>\n",
       "      <td>7.75</td>\n",
       "      <td>7.75</td>\n",
       "      <td>7.58</td>\n",
       "      <td>7.67</td>\n",
       "      <td>7.50</td>\n",
       "      <td>10.00</td>\n",
       "      <td>10.00</td>\n",
       "      <td>7.58</td>\n",
       "      <td>81.50</td>\n",
       "      <td>0.11</td>\n",
       "      <td>Green</td>\n",
       "      <td>Uganda Coffee Development Authority</td>\n",
       "      <td>1367.0</td>\n",
       "    </tr>\n",
       "    <tr>\n",
       "      <th>1325</th>\n",
       "      <td>1326</td>\n",
       "      <td>Robusta</td>\n",
       "      <td>ankole coffee producers coop</td>\n",
       "      <td>Uganda</td>\n",
       "      <td>kyangundu coop society</td>\n",
       "      <td>ankole coffee producers coop</td>\n",
       "      <td>south western</td>\n",
       "      <td>Uganda Coffee Development Authority</td>\n",
       "      <td>2014</td>\n",
       "      <td>July 14th, 2014</td>\n",
       "      <td>Ankole coffee producers coop</td>\n",
       "      <td>Robusta</td>\n",
       "      <td>NaN</td>\n",
       "      <td>8.00</td>\n",
       "      <td>7.67</td>\n",
       "      <td>7.75</td>\n",
       "      <td>7.50</td>\n",
       "      <td>7.67</td>\n",
       "      <td>7.58</td>\n",
       "      <td>10.00</td>\n",
       "      <td>10.00</td>\n",
       "      <td>7.58</td>\n",
       "      <td>81.50</td>\n",
       "      <td>0.12</td>\n",
       "      <td>Green</td>\n",
       "      <td>Uganda Coffee Development Authority</td>\n",
       "      <td>1488.0</td>\n",
       "    </tr>\n",
       "    <tr>\n",
       "      <th>1326</th>\n",
       "      <td>1327</td>\n",
       "      <td>Robusta</td>\n",
       "      <td>andrew hetzel</td>\n",
       "      <td>India</td>\n",
       "      <td>sethuraman estate</td>\n",
       "      <td>sethuraman estate</td>\n",
       "      <td>chikmagalur</td>\n",
       "      <td>Specialty Coffee Association</td>\n",
       "      <td>2015</td>\n",
       "      <td>April 30th, 2015</td>\n",
       "      <td>Andrew Hetzel</td>\n",
       "      <td>Robusta</td>\n",
       "      <td>NaN</td>\n",
       "      <td>7.75</td>\n",
       "      <td>7.75</td>\n",
       "      <td>7.67</td>\n",
       "      <td>7.67</td>\n",
       "      <td>7.58</td>\n",
       "      <td>7.58</td>\n",
       "      <td>10.00</td>\n",
       "      <td>10.00</td>\n",
       "      <td>7.58</td>\n",
       "      <td>81.42</td>\n",
       "      <td>0.00</td>\n",
       "      <td>Green</td>\n",
       "      <td>Specialty Coffee Association</td>\n",
       "      <td>1000.0</td>\n",
       "    </tr>\n",
       "    <tr>\n",
       "      <th>1327</th>\n",
       "      <td>1328</td>\n",
       "      <td>Robusta</td>\n",
       "      <td>andrew hetzel</td>\n",
       "      <td>India</td>\n",
       "      <td>sethuraman estates</td>\n",
       "      <td>cafemakers, llc</td>\n",
       "      <td>chikmagalur</td>\n",
       "      <td>Specialty Coffee Association</td>\n",
       "      <td>2013</td>\n",
       "      <td>June 3rd, 2013</td>\n",
       "      <td>Andrew Hetzel</td>\n",
       "      <td>Robusta</td>\n",
       "      <td>Natural / Dry</td>\n",
       "      <td>7.50</td>\n",
       "      <td>7.50</td>\n",
       "      <td>7.25</td>\n",
       "      <td>7.83</td>\n",
       "      <td>7.67</td>\n",
       "      <td>7.83</td>\n",
       "      <td>10.00</td>\n",
       "      <td>10.00</td>\n",
       "      <td>7.83</td>\n",
       "      <td>81.25</td>\n",
       "      <td>0.13</td>\n",
       "      <td>Blue-Green</td>\n",
       "      <td>Specialty Coffee Association</td>\n",
       "      <td>750.0</td>\n",
       "    </tr>\n",
       "    <tr>\n",
       "      <th>1328</th>\n",
       "      <td>1329</td>\n",
       "      <td>Robusta</td>\n",
       "      <td>kawacom uganda ltd</td>\n",
       "      <td>Uganda</td>\n",
       "      <td>bushenyi</td>\n",
       "      <td>kawacom uganda ltd</td>\n",
       "      <td>western</td>\n",
       "      <td>Uganda Coffee Development Authority</td>\n",
       "      <td>2013</td>\n",
       "      <td>June 27th, 2014</td>\n",
       "      <td>Kawacom Uganda LTD</td>\n",
       "      <td>Robusta</td>\n",
       "      <td>NaN</td>\n",
       "      <td>7.33</td>\n",
       "      <td>7.58</td>\n",
       "      <td>7.50</td>\n",
       "      <td>7.75</td>\n",
       "      <td>7.75</td>\n",
       "      <td>7.67</td>\n",
       "      <td>10.00</td>\n",
       "      <td>10.00</td>\n",
       "      <td>7.75</td>\n",
       "      <td>80.92</td>\n",
       "      <td>0.12</td>\n",
       "      <td>Green</td>\n",
       "      <td>Uganda Coffee Development Authority</td>\n",
       "      <td>1600.0</td>\n",
       "    </tr>\n",
       "    <tr>\n",
       "      <th>1329</th>\n",
       "      <td>1330</td>\n",
       "      <td>Robusta</td>\n",
       "      <td>nitubaasa ltd</td>\n",
       "      <td>Uganda</td>\n",
       "      <td>kigezi coffee farmers association</td>\n",
       "      <td>nitubaasa ltd</td>\n",
       "      <td>western</td>\n",
       "      <td>Uganda Coffee Development Authority</td>\n",
       "      <td>2013</td>\n",
       "      <td>June 27th, 2014</td>\n",
       "      <td>Nitubaasa Ltd</td>\n",
       "      <td>Robusta</td>\n",
       "      <td>NaN</td>\n",
       "      <td>7.83</td>\n",
       "      <td>7.58</td>\n",
       "      <td>7.33</td>\n",
       "      <td>7.67</td>\n",
       "      <td>7.50</td>\n",
       "      <td>7.50</td>\n",
       "      <td>10.00</td>\n",
       "      <td>10.00</td>\n",
       "      <td>7.75</td>\n",
       "      <td>80.58</td>\n",
       "      <td>0.12</td>\n",
       "      <td>Green</td>\n",
       "      <td>Uganda Coffee Development Authority</td>\n",
       "      <td>1745.0</td>\n",
       "    </tr>\n",
       "    <tr>\n",
       "      <th>1330</th>\n",
       "      <td>1331</td>\n",
       "      <td>Robusta</td>\n",
       "      <td>mannya coffee project</td>\n",
       "      <td>Uganda</td>\n",
       "      <td>mannya coffee project</td>\n",
       "      <td>mannya coffee project</td>\n",
       "      <td>southern</td>\n",
       "      <td>Uganda Coffee Development Authority</td>\n",
       "      <td>2013</td>\n",
       "      <td>June 27th, 2014</td>\n",
       "      <td>Mannya coffee project</td>\n",
       "      <td>Robusta</td>\n",
       "      <td>NaN</td>\n",
       "      <td>7.75</td>\n",
       "      <td>7.42</td>\n",
       "      <td>7.33</td>\n",
       "      <td>7.58</td>\n",
       "      <td>7.67</td>\n",
       "      <td>7.58</td>\n",
       "      <td>10.00</td>\n",
       "      <td>10.00</td>\n",
       "      <td>7.67</td>\n",
       "      <td>80.50</td>\n",
       "      <td>0.12</td>\n",
       "      <td>Green</td>\n",
       "      <td>Uganda Coffee Development Authority</td>\n",
       "      <td>1200.0</td>\n",
       "    </tr>\n",
       "    <tr>\n",
       "      <th>1331</th>\n",
       "      <td>1332</td>\n",
       "      <td>Robusta</td>\n",
       "      <td>andrew hetzel</td>\n",
       "      <td>India</td>\n",
       "      <td>sethuraman estates</td>\n",
       "      <td>cafemakers</td>\n",
       "      <td>chikmagalur</td>\n",
       "      <td>Specialty Coffee Association</td>\n",
       "      <td>2014</td>\n",
       "      <td>May 19th, 2014</td>\n",
       "      <td>Andrew Hetzel</td>\n",
       "      <td>Robusta</td>\n",
       "      <td>NaN</td>\n",
       "      <td>7.67</td>\n",
       "      <td>7.67</td>\n",
       "      <td>7.50</td>\n",
       "      <td>7.33</td>\n",
       "      <td>7.58</td>\n",
       "      <td>7.50</td>\n",
       "      <td>10.00</td>\n",
       "      <td>10.00</td>\n",
       "      <td>7.42</td>\n",
       "      <td>80.17</td>\n",
       "      <td>0.00</td>\n",
       "      <td>Bluish-Green</td>\n",
       "      <td>Specialty Coffee Association</td>\n",
       "      <td>750.0</td>\n",
       "    </tr>\n",
       "    <tr>\n",
       "      <th>1332</th>\n",
       "      <td>1333</td>\n",
       "      <td>Robusta</td>\n",
       "      <td>andrew hetzel</td>\n",
       "      <td>India</td>\n",
       "      <td>sethuraman estates</td>\n",
       "      <td>cafemakers, llc</td>\n",
       "      <td>chikmagalur</td>\n",
       "      <td>Specialty Coffee Association</td>\n",
       "      <td>2013</td>\n",
       "      <td>June 20th, 2013</td>\n",
       "      <td>Andrew Hetzel</td>\n",
       "      <td>Robusta</td>\n",
       "      <td>Natural / Dry</td>\n",
       "      <td>7.58</td>\n",
       "      <td>7.42</td>\n",
       "      <td>7.42</td>\n",
       "      <td>7.83</td>\n",
       "      <td>7.42</td>\n",
       "      <td>7.50</td>\n",
       "      <td>10.00</td>\n",
       "      <td>10.00</td>\n",
       "      <td>7.42</td>\n",
       "      <td>80.17</td>\n",
       "      <td>0.00</td>\n",
       "      <td>Green</td>\n",
       "      <td>Specialty Coffee Association</td>\n",
       "      <td>750.0</td>\n",
       "    </tr>\n",
       "    <tr>\n",
       "      <th>1333</th>\n",
       "      <td>1334</td>\n",
       "      <td>Robusta</td>\n",
       "      <td>andrew hetzel</td>\n",
       "      <td>United States</td>\n",
       "      <td>sethuraman estates</td>\n",
       "      <td>cafemakers, llc</td>\n",
       "      <td>chikmagalur</td>\n",
       "      <td>Specialty Coffee Association</td>\n",
       "      <td>2012</td>\n",
       "      <td>February 29th, 2012</td>\n",
       "      <td>Andrew Hetzel</td>\n",
       "      <td>Robusta</td>\n",
       "      <td>Natural / Dry</td>\n",
       "      <td>7.92</td>\n",
       "      <td>7.50</td>\n",
       "      <td>7.42</td>\n",
       "      <td>7.42</td>\n",
       "      <td>7.42</td>\n",
       "      <td>7.42</td>\n",
       "      <td>9.33</td>\n",
       "      <td>10.00</td>\n",
       "      <td>7.58</td>\n",
       "      <td>79.33</td>\n",
       "      <td>0.00</td>\n",
       "      <td>Green</td>\n",
       "      <td>Specialty Coffee Association</td>\n",
       "      <td>3000.0</td>\n",
       "    </tr>\n",
       "    <tr>\n",
       "      <th>1334</th>\n",
       "      <td>1335</td>\n",
       "      <td>Robusta</td>\n",
       "      <td>luis robles</td>\n",
       "      <td>Ecuador</td>\n",
       "      <td>robustasa</td>\n",
       "      <td>robustasa</td>\n",
       "      <td>san juan, playas</td>\n",
       "      <td>Specialty Coffee Association</td>\n",
       "      <td>2016</td>\n",
       "      <td>January 19th, 2016</td>\n",
       "      <td>Luis Robles</td>\n",
       "      <td>Robusta</td>\n",
       "      <td>NaN</td>\n",
       "      <td>7.75</td>\n",
       "      <td>7.58</td>\n",
       "      <td>7.33</td>\n",
       "      <td>7.58</td>\n",
       "      <td>5.08</td>\n",
       "      <td>7.83</td>\n",
       "      <td>10.00</td>\n",
       "      <td>10.00</td>\n",
       "      <td>7.75</td>\n",
       "      <td>78.75</td>\n",
       "      <td>0.00</td>\n",
       "      <td>Blue-Green</td>\n",
       "      <td>Specialty Coffee Association</td>\n",
       "      <td>NaN</td>\n",
       "    </tr>\n",
       "    <tr>\n",
       "      <th>1335</th>\n",
       "      <td>1336</td>\n",
       "      <td>Robusta</td>\n",
       "      <td>luis robles</td>\n",
       "      <td>Ecuador</td>\n",
       "      <td>robustasa</td>\n",
       "      <td>robustasa</td>\n",
       "      <td>san juan, playas</td>\n",
       "      <td>Specialty Coffee Association</td>\n",
       "      <td>2016</td>\n",
       "      <td>January 19th, 2016</td>\n",
       "      <td>Luis Robles</td>\n",
       "      <td>Robusta</td>\n",
       "      <td>NaN</td>\n",
       "      <td>7.50</td>\n",
       "      <td>7.67</td>\n",
       "      <td>7.75</td>\n",
       "      <td>7.75</td>\n",
       "      <td>5.17</td>\n",
       "      <td>5.25</td>\n",
       "      <td>10.00</td>\n",
       "      <td>10.00</td>\n",
       "      <td>8.42</td>\n",
       "      <td>78.08</td>\n",
       "      <td>0.00</td>\n",
       "      <td>Blue-Green</td>\n",
       "      <td>Specialty Coffee Association</td>\n",
       "      <td>40.0</td>\n",
       "    </tr>\n",
       "    <tr>\n",
       "      <th>1336</th>\n",
       "      <td>1337</td>\n",
       "      <td>Robusta</td>\n",
       "      <td>james moore</td>\n",
       "      <td>United States</td>\n",
       "      <td>fazenda cazengo</td>\n",
       "      <td>global opportunity fund</td>\n",
       "      <td>kwanza norte province, angola</td>\n",
       "      <td>Specialty Coffee Association</td>\n",
       "      <td>2014</td>\n",
       "      <td>December 23rd, 2014</td>\n",
       "      <td>James Moore</td>\n",
       "      <td>Robusta</td>\n",
       "      <td>Natural / Dry</td>\n",
       "      <td>7.33</td>\n",
       "      <td>7.33</td>\n",
       "      <td>7.17</td>\n",
       "      <td>7.42</td>\n",
       "      <td>7.50</td>\n",
       "      <td>7.17</td>\n",
       "      <td>9.33</td>\n",
       "      <td>9.33</td>\n",
       "      <td>7.42</td>\n",
       "      <td>77.17</td>\n",
       "      <td>0.00</td>\n",
       "      <td>NaN</td>\n",
       "      <td>Specialty Coffee Association</td>\n",
       "      <td>795.0</td>\n",
       "    </tr>\n",
       "    <tr>\n",
       "      <th>1337</th>\n",
       "      <td>1338</td>\n",
       "      <td>Robusta</td>\n",
       "      <td>cafe politico</td>\n",
       "      <td>India</td>\n",
       "      <td>NaN</td>\n",
       "      <td>cafe politico</td>\n",
       "      <td>NaN</td>\n",
       "      <td>Specialty Coffee Association</td>\n",
       "      <td>2013</td>\n",
       "      <td>August 25th, 2014</td>\n",
       "      <td>Cafe Politico</td>\n",
       "      <td>Robusta</td>\n",
       "      <td>Natural / Dry</td>\n",
       "      <td>7.42</td>\n",
       "      <td>6.83</td>\n",
       "      <td>6.75</td>\n",
       "      <td>7.17</td>\n",
       "      <td>7.25</td>\n",
       "      <td>7.00</td>\n",
       "      <td>9.33</td>\n",
       "      <td>9.33</td>\n",
       "      <td>7.08</td>\n",
       "      <td>75.08</td>\n",
       "      <td>0.10</td>\n",
       "      <td>Green</td>\n",
       "      <td>Specialty Coffee Association</td>\n",
       "      <td>NaN</td>\n",
       "    </tr>\n",
       "    <tr>\n",
       "      <th>1338</th>\n",
       "      <td>1339</td>\n",
       "      <td>Robusta</td>\n",
       "      <td>cafe politico</td>\n",
       "      <td>Vietnam</td>\n",
       "      <td>NaN</td>\n",
       "      <td>cafe politico</td>\n",
       "      <td>NaN</td>\n",
       "      <td>Specialty Coffee Association</td>\n",
       "      <td>2013</td>\n",
       "      <td>August 25th, 2014</td>\n",
       "      <td>Cafe Politico</td>\n",
       "      <td>Robusta</td>\n",
       "      <td>Natural / Dry</td>\n",
       "      <td>6.75</td>\n",
       "      <td>6.67</td>\n",
       "      <td>6.50</td>\n",
       "      <td>6.83</td>\n",
       "      <td>6.92</td>\n",
       "      <td>6.83</td>\n",
       "      <td>9.33</td>\n",
       "      <td>9.33</td>\n",
       "      <td>6.67</td>\n",
       "      <td>73.75</td>\n",
       "      <td>0.12</td>\n",
       "      <td>NaN</td>\n",
       "      <td>Specialty Coffee Association</td>\n",
       "      <td>NaN</td>\n",
       "    </tr>\n",
       "  </tbody>\n",
       "</table>\n",
       "</div>"
      ],
      "text/plain": [
       "        ID  Species                              Owner Country.of.Origin  \\\n",
       "1311  1312  Robusta       ankole coffee producers coop            Uganda   \n",
       "1312  1313  Robusta                     nishant gurjer             India   \n",
       "1313  1314  Robusta                      andrew hetzel             India   \n",
       "1314  1315  Robusta                             ugacof            Uganda   \n",
       "1315  1316  Robusta       katuka development trust ltd            Uganda   \n",
       "1316  1317  Robusta                      andrew hetzel             India   \n",
       "1317  1318  Robusta                      andrew hetzel             India   \n",
       "1318  1319  Robusta                     nishant gurjer             India   \n",
       "1319  1320  Robusta                     nishant gurjer             India   \n",
       "1320  1321  Robusta                             ugacof            Uganda   \n",
       "1321  1322  Robusta                             ugacof            Uganda   \n",
       "1322  1323  Robusta                     nishant gurjer             India   \n",
       "1323  1324  Robusta                      andrew hetzel             India   \n",
       "1324  1325  Robusta  kasozi coffee farmers association            Uganda   \n",
       "1325  1326  Robusta       ankole coffee producers coop            Uganda   \n",
       "1326  1327  Robusta                      andrew hetzel             India   \n",
       "1327  1328  Robusta                      andrew hetzel             India   \n",
       "1328  1329  Robusta                 kawacom uganda ltd            Uganda   \n",
       "1329  1330  Robusta                      nitubaasa ltd            Uganda   \n",
       "1330  1331  Robusta              mannya coffee project            Uganda   \n",
       "1331  1332  Robusta                      andrew hetzel             India   \n",
       "1332  1333  Robusta                      andrew hetzel             India   \n",
       "1333  1334  Robusta                      andrew hetzel     United States   \n",
       "1334  1335  Robusta                        luis robles           Ecuador   \n",
       "1335  1336  Robusta                        luis robles           Ecuador   \n",
       "1336  1337  Robusta                        james moore     United States   \n",
       "1337  1338  Robusta                      cafe politico             India   \n",
       "1338  1339  Robusta                      cafe politico           Vietnam   \n",
       "\n",
       "                               Farm.Name                            Company  \\\n",
       "1311       kyangundu cooperative society       ankole coffee producers coop   \n",
       "1312      sethuraman estate kaapi royale                       kaapi royale   \n",
       "1313                   sethuraman estate                  sethuraman estate   \n",
       "1314                 ugacof project area                         ugacof ltd   \n",
       "1315  katikamu capca farmers association       katuka development trust ltd   \n",
       "1316                                 NaN                    cafemakers, llc   \n",
       "1317                  sethuraman estates                         cafemakers   \n",
       "1318      sethuraman estate kaapi royale                       kaapi royale   \n",
       "1319                   sethuraman estate                       kaapi royale   \n",
       "1320                              ishaka                         ugacof ltd   \n",
       "1321                 ugacof project area                         ugacof ltd   \n",
       "1322      sethuraman estate kaapi royale                       kaapi royale   \n",
       "1323                  sethuraman estates                         cafemakers   \n",
       "1324               kasozi coffee farmers  kasozi coffee farmers association   \n",
       "1325              kyangundu coop society       ankole coffee producers coop   \n",
       "1326                   sethuraman estate                  sethuraman estate   \n",
       "1327                  sethuraman estates                    cafemakers, llc   \n",
       "1328                            bushenyi                 kawacom uganda ltd   \n",
       "1329   kigezi coffee farmers association                      nitubaasa ltd   \n",
       "1330               mannya coffee project              mannya coffee project   \n",
       "1331                  sethuraman estates                         cafemakers   \n",
       "1332                  sethuraman estates                    cafemakers, llc   \n",
       "1333                  sethuraman estates                    cafemakers, llc   \n",
       "1334                           robustasa                          robustasa   \n",
       "1335                           robustasa                          robustasa   \n",
       "1336                     fazenda cazengo            global opportunity fund   \n",
       "1337                                 NaN                      cafe politico   \n",
       "1338                                 NaN                      cafe politico   \n",
       "\n",
       "                             Region                   In.Country.Partner  \\\n",
       "1311           sheema south western  Uganda Coffee Development Authority   \n",
       "1312    chikmagalur karnataka indua         Specialty Coffee Association   \n",
       "1313                    chikmagalur         Specialty Coffee Association   \n",
       "1314                        central  Uganda Coffee Development Authority   \n",
       "1315          luwero central region  Uganda Coffee Development Authority   \n",
       "1316                    chikmagalur         Specialty Coffee Association   \n",
       "1317                    chikmagalur         Specialty Coffee Association   \n",
       "1318    chikmagalur karnataka india         Specialty Coffee Association   \n",
       "1319          chikmagalur karnataka         Specialty Coffee Association   \n",
       "1320                        western  Uganda Coffee Development Authority   \n",
       "1321       iganga namadrope eastern  Uganda Coffee Development Authority   \n",
       "1322          chikmagalur karnataka         Specialty Coffee Association   \n",
       "1323                    chikmagalur         Specialty Coffee Association   \n",
       "1324                        eastern  Uganda Coffee Development Authority   \n",
       "1325                  south western  Uganda Coffee Development Authority   \n",
       "1326                    chikmagalur         Specialty Coffee Association   \n",
       "1327                    chikmagalur         Specialty Coffee Association   \n",
       "1328                        western  Uganda Coffee Development Authority   \n",
       "1329                        western  Uganda Coffee Development Authority   \n",
       "1330                       southern  Uganda Coffee Development Authority   \n",
       "1331                    chikmagalur         Specialty Coffee Association   \n",
       "1332                    chikmagalur         Specialty Coffee Association   \n",
       "1333                    chikmagalur         Specialty Coffee Association   \n",
       "1334               san juan, playas         Specialty Coffee Association   \n",
       "1335               san juan, playas         Specialty Coffee Association   \n",
       "1336  kwanza norte province, angola         Specialty Coffee Association   \n",
       "1337                            NaN         Specialty Coffee Association   \n",
       "1338                            NaN         Specialty Coffee Association   \n",
       "\n",
       "     Harvest.Year         Grading.Date                            Owner.1  \\\n",
       "1311         2013      June 26th, 2014       Ankole coffee producers coop   \n",
       "1312         2017   October 31st, 2017                     Nishant Gurjer   \n",
       "1313         2015     April 30th, 2015                      Andrew Hetzel   \n",
       "1314         2013      July 14th, 2014                             UGACOF   \n",
       "1315         2013      June 26th, 2014       Katuka Development Trust Ltd   \n",
       "1316         2012  February 29th, 2012                      Andrew Hetzel   \n",
       "1317         2014       May 15th, 2014                      Andrew Hetzel   \n",
       "1318         2017   October 25th, 2017                     Nishant Gurjer   \n",
       "1319         2015    August 17th, 2016                     Nishant Gurjer   \n",
       "1320         2014     August 5th, 2014                             UGACOF   \n",
       "1321         2014      June 26th, 2014                             UGACOF   \n",
       "1322         2015    August 23rd, 2016                     Nishant Gurjer   \n",
       "1323         2014       May 19th, 2014                      Andrew Hetzel   \n",
       "1324         2013      July 14th, 2014  Kasozi Coffee Farmers Association   \n",
       "1325         2014      July 14th, 2014       Ankole coffee producers coop   \n",
       "1326         2015     April 30th, 2015                      Andrew Hetzel   \n",
       "1327         2013       June 3rd, 2013                      Andrew Hetzel   \n",
       "1328         2013      June 27th, 2014                 Kawacom Uganda LTD   \n",
       "1329         2013      June 27th, 2014                      Nitubaasa Ltd   \n",
       "1330         2013      June 27th, 2014              Mannya coffee project   \n",
       "1331         2014       May 19th, 2014                      Andrew Hetzel   \n",
       "1332         2013      June 20th, 2013                      Andrew Hetzel   \n",
       "1333         2012  February 29th, 2012                      Andrew Hetzel   \n",
       "1334         2016   January 19th, 2016                        Luis Robles   \n",
       "1335         2016   January 19th, 2016                        Luis Robles   \n",
       "1336         2014  December 23rd, 2014                        James Moore   \n",
       "1337         2013    August 25th, 2014                      Cafe Politico   \n",
       "1338         2013    August 25th, 2014                      Cafe Politico   \n",
       "\n",
       "      Variety Processing.Method  Aroma  Flavor  Aftertaste  Acidity  Body  \\\n",
       "1311  Robusta               NaN   7.83    8.08        7.75     7.92  8.25   \n",
       "1312  Robusta      Washed / Wet   8.00    7.75        7.92     8.00  7.92   \n",
       "1313  Robusta               NaN   7.92    7.83        7.92     8.00  7.83   \n",
       "1314  Robusta               NaN   8.00    7.92        7.92     7.75  7.83   \n",
       "1315  Robusta               NaN   8.33    7.83        7.83     7.75  8.25   \n",
       "1316  Robusta               NaN   8.00    7.92        7.67     8.00  7.75   \n",
       "1317  Robusta               NaN   7.67    7.75        7.83     7.83  7.92   \n",
       "1318  Robusta      Washed / Wet   7.67    7.75        7.83     7.67  7.92   \n",
       "1319  Robusta      Washed / Wet   7.67    7.75        7.58     7.83  7.83   \n",
       "1320  Robusta               NaN   7.67    7.83        7.83     7.83  7.92   \n",
       "1321  Robusta               NaN   7.58    7.92        7.75     7.83  7.50   \n",
       "1322  Robusta     Natural / Dry   7.67    7.83        7.75     7.50  7.75   \n",
       "1323  Robusta               NaN   7.58    7.58        7.67     7.58  7.67   \n",
       "1324  Robusta               NaN   8.00    7.75        7.75     7.58  7.67   \n",
       "1325  Robusta               NaN   8.00    7.67        7.75     7.50  7.67   \n",
       "1326  Robusta               NaN   7.75    7.75        7.67     7.67  7.58   \n",
       "1327  Robusta     Natural / Dry   7.50    7.50        7.25     7.83  7.67   \n",
       "1328  Robusta               NaN   7.33    7.58        7.50     7.75  7.75   \n",
       "1329  Robusta               NaN   7.83    7.58        7.33     7.67  7.50   \n",
       "1330  Robusta               NaN   7.75    7.42        7.33     7.58  7.67   \n",
       "1331  Robusta               NaN   7.67    7.67        7.50     7.33  7.58   \n",
       "1332  Robusta     Natural / Dry   7.58    7.42        7.42     7.83  7.42   \n",
       "1333  Robusta     Natural / Dry   7.92    7.50        7.42     7.42  7.42   \n",
       "1334  Robusta               NaN   7.75    7.58        7.33     7.58  5.08   \n",
       "1335  Robusta               NaN   7.50    7.67        7.75     7.75  5.17   \n",
       "1336  Robusta     Natural / Dry   7.33    7.33        7.17     7.42  7.50   \n",
       "1337  Robusta     Natural / Dry   7.42    6.83        6.75     7.17  7.25   \n",
       "1338  Robusta     Natural / Dry   6.75    6.67        6.50     6.83  6.92   \n",
       "\n",
       "      Balance  Uniformity  Clean.Cup  Sweetness  Total.Cup.Points  Moisture  \\\n",
       "1311     7.92       10.00      10.00       8.00             83.75      0.12   \n",
       "1312     7.92       10.00      10.00       8.00             83.50      0.00   \n",
       "1313     7.92       10.00      10.00       7.83             83.25      0.00   \n",
       "1314     7.75       10.00      10.00       7.75             83.00      0.12   \n",
       "1315     7.75       10.00      10.00       7.58             83.00      0.12   \n",
       "1316     7.92       10.00      10.00       7.75             82.75      0.00   \n",
       "1317     7.75       10.00      10.00       8.00             82.58      0.00   \n",
       "1318     7.83       10.00      10.00       7.92             82.50      0.10   \n",
       "1319     8.00       10.00      10.00       7.92             82.50      0.09   \n",
       "1320     7.75       10.00      10.00       7.75             82.42      0.12   \n",
       "1321     7.67       10.00      10.00       7.67             81.75      0.12   \n",
       "1322     7.58       10.00      10.00       7.75             81.58      0.11   \n",
       "1323     7.67       10.00      10.00       7.50             81.58      0.00   \n",
       "1324     7.50       10.00      10.00       7.58             81.50      0.11   \n",
       "1325     7.58       10.00      10.00       7.58             81.50      0.12   \n",
       "1326     7.58       10.00      10.00       7.58             81.42      0.00   \n",
       "1327     7.83       10.00      10.00       7.83             81.25      0.13   \n",
       "1328     7.67       10.00      10.00       7.75             80.92      0.12   \n",
       "1329     7.50       10.00      10.00       7.75             80.58      0.12   \n",
       "1330     7.58       10.00      10.00       7.67             80.50      0.12   \n",
       "1331     7.50       10.00      10.00       7.42             80.17      0.00   \n",
       "1332     7.50       10.00      10.00       7.42             80.17      0.00   \n",
       "1333     7.42        9.33      10.00       7.58             79.33      0.00   \n",
       "1334     7.83       10.00      10.00       7.75             78.75      0.00   \n",
       "1335     5.25       10.00      10.00       8.42             78.08      0.00   \n",
       "1336     7.17        9.33       9.33       7.42             77.17      0.00   \n",
       "1337     7.00        9.33       9.33       7.08             75.08      0.10   \n",
       "1338     6.83        9.33       9.33       6.67             73.75      0.12   \n",
       "\n",
       "             Color                   Certification.Body  altitude_mean_meters  \n",
       "1311         Green  Uganda Coffee Development Authority                1488.0  \n",
       "1312           NaN         Specialty Coffee Association                3170.0  \n",
       "1313         Green         Specialty Coffee Association                1000.0  \n",
       "1314         Green  Uganda Coffee Development Authority                1212.0  \n",
       "1315         Green  Uganda Coffee Development Authority                1250.0  \n",
       "1316         Green         Specialty Coffee Association                3000.0  \n",
       "1317         Green         Specialty Coffee Association                 750.0  \n",
       "1318  Bluish-Green         Specialty Coffee Association                3140.0  \n",
       "1319         Green         Specialty Coffee Association                1000.0  \n",
       "1320         Green  Uganda Coffee Development Authority                1100.0  \n",
       "1321         Green  Uganda Coffee Development Authority                1095.0  \n",
       "1322         Green         Specialty Coffee Association                1000.0  \n",
       "1323         Green         Specialty Coffee Association                 750.0  \n",
       "1324         Green  Uganda Coffee Development Authority                1367.0  \n",
       "1325         Green  Uganda Coffee Development Authority                1488.0  \n",
       "1326         Green         Specialty Coffee Association                1000.0  \n",
       "1327    Blue-Green         Specialty Coffee Association                 750.0  \n",
       "1328         Green  Uganda Coffee Development Authority                1600.0  \n",
       "1329         Green  Uganda Coffee Development Authority                1745.0  \n",
       "1330         Green  Uganda Coffee Development Authority                1200.0  \n",
       "1331  Bluish-Green         Specialty Coffee Association                 750.0  \n",
       "1332         Green         Specialty Coffee Association                 750.0  \n",
       "1333         Green         Specialty Coffee Association                3000.0  \n",
       "1334    Blue-Green         Specialty Coffee Association                   NaN  \n",
       "1335    Blue-Green         Specialty Coffee Association                  40.0  \n",
       "1336           NaN         Specialty Coffee Association                 795.0  \n",
       "1337         Green         Specialty Coffee Association                   NaN  \n",
       "1338           NaN         Specialty Coffee Association                   NaN  "
      ]
     },
     "execution_count": 177,
     "metadata": {},
     "output_type": "execute_result"
    }
   ],
   "source": [
    "data.loc[data['Species']== 'Robusta', 'Variety'] = 'Robusta'\n",
    "data.loc[data['Species']== 'Robusta']"
   ]
  },
  {
   "cell_type": "markdown",
   "metadata": {},
   "source": [
    "## Save the cleaned Dataframe"
   ]
  },
  {
   "cell_type": "code",
   "execution_count": null,
   "metadata": {},
   "outputs": [],
   "source": [
    "# data.to_csv('Coffee_dataset_cleaned_column_and_rows.csv')"
   ]
  },
  {
   "cell_type": "markdown",
   "metadata": {},
   "source": [
    "# Colinearity"
   ]
  },
  {
   "cell_type": "code",
   "execution_count": null,
   "metadata": {},
   "outputs": [
    {
     "data": {
      "text/html": [
       "<div>\n",
       "<style scoped>\n",
       "    .dataframe tbody tr th:only-of-type {\n",
       "        vertical-align: middle;\n",
       "    }\n",
       "\n",
       "    .dataframe tbody tr th {\n",
       "        vertical-align: top;\n",
       "    }\n",
       "\n",
       "    .dataframe thead th {\n",
       "        text-align: right;\n",
       "    }\n",
       "</style>\n",
       "<table border=\"1\" class=\"dataframe\">\n",
       "  <thead>\n",
       "    <tr style=\"text-align: right;\">\n",
       "      <th></th>\n",
       "      <th>Unnamed: 0.1</th>\n",
       "      <th>Unnamed: 0</th>\n",
       "      <th>ID</th>\n",
       "      <th>Species</th>\n",
       "      <th>Owner</th>\n",
       "      <th>Country.of.Origin</th>\n",
       "      <th>Farm.Name</th>\n",
       "      <th>Company</th>\n",
       "      <th>Region</th>\n",
       "      <th>In.Country.Partner</th>\n",
       "      <th>Harvest.Year</th>\n",
       "      <th>Grading.Date</th>\n",
       "      <th>Owner.1</th>\n",
       "      <th>Variety</th>\n",
       "      <th>Processing.Method</th>\n",
       "      <th>Aroma</th>\n",
       "      <th>Flavor</th>\n",
       "      <th>Aftertaste</th>\n",
       "      <th>Acidity</th>\n",
       "      <th>Body</th>\n",
       "      <th>Balance</th>\n",
       "      <th>Uniformity</th>\n",
       "      <th>Clean.Cup</th>\n",
       "      <th>Sweetness</th>\n",
       "      <th>Total.Cup.Points</th>\n",
       "      <th>Moisture</th>\n",
       "      <th>Color</th>\n",
       "      <th>Certification.Body</th>\n",
       "      <th>altitude_mean_meters</th>\n",
       "    </tr>\n",
       "  </thead>\n",
       "  <tbody>\n",
       "    <tr>\n",
       "      <th>0</th>\n",
       "      <td>0</td>\n",
       "      <td>0</td>\n",
       "      <td>1</td>\n",
       "      <td>Arabica</td>\n",
       "      <td>metad plc</td>\n",
       "      <td>Ethiopia</td>\n",
       "      <td>metad plc</td>\n",
       "      <td>metad agricultural developmet plc</td>\n",
       "      <td>guji-hambela</td>\n",
       "      <td>METAD Agricultural Development plc</td>\n",
       "      <td>2014</td>\n",
       "      <td>April 4th, 2015</td>\n",
       "      <td>metad plc</td>\n",
       "      <td>NaN</td>\n",
       "      <td>Washed / Wet</td>\n",
       "      <td>8.67</td>\n",
       "      <td>8.83</td>\n",
       "      <td>8.67</td>\n",
       "      <td>8.75</td>\n",
       "      <td>8.50</td>\n",
       "      <td>8.42</td>\n",
       "      <td>10.0</td>\n",
       "      <td>10.0</td>\n",
       "      <td>10.0</td>\n",
       "      <td>90.58</td>\n",
       "      <td>0.12</td>\n",
       "      <td>Green</td>\n",
       "      <td>METAD Agricultural Development plc</td>\n",
       "      <td>2075.0</td>\n",
       "    </tr>\n",
       "    <tr>\n",
       "      <th>1</th>\n",
       "      <td>1</td>\n",
       "      <td>1</td>\n",
       "      <td>2</td>\n",
       "      <td>Arabica</td>\n",
       "      <td>metad plc</td>\n",
       "      <td>Ethiopia</td>\n",
       "      <td>metad plc</td>\n",
       "      <td>metad agricultural developmet plc</td>\n",
       "      <td>guji-hambela</td>\n",
       "      <td>METAD Agricultural Development plc</td>\n",
       "      <td>2014</td>\n",
       "      <td>April 4th, 2015</td>\n",
       "      <td>metad plc</td>\n",
       "      <td>Other</td>\n",
       "      <td>Washed / Wet</td>\n",
       "      <td>8.75</td>\n",
       "      <td>8.67</td>\n",
       "      <td>8.50</td>\n",
       "      <td>8.58</td>\n",
       "      <td>8.42</td>\n",
       "      <td>8.42</td>\n",
       "      <td>10.0</td>\n",
       "      <td>10.0</td>\n",
       "      <td>10.0</td>\n",
       "      <td>89.92</td>\n",
       "      <td>0.12</td>\n",
       "      <td>Green</td>\n",
       "      <td>METAD Agricultural Development plc</td>\n",
       "      <td>2075.0</td>\n",
       "    </tr>\n",
       "    <tr>\n",
       "      <th>2</th>\n",
       "      <td>2</td>\n",
       "      <td>2</td>\n",
       "      <td>3</td>\n",
       "      <td>Arabica</td>\n",
       "      <td>grounds for health admin</td>\n",
       "      <td>Guatemala</td>\n",
       "      <td>san marcos barrancas \"san cristobal cuch</td>\n",
       "      <td>NaN</td>\n",
       "      <td>NaN</td>\n",
       "      <td>Specialty Coffee Association</td>\n",
       "      <td>NaN</td>\n",
       "      <td>May 31st, 2010</td>\n",
       "      <td>Grounds for Health Admin</td>\n",
       "      <td>Bourbon</td>\n",
       "      <td>NaN</td>\n",
       "      <td>8.42</td>\n",
       "      <td>8.50</td>\n",
       "      <td>8.42</td>\n",
       "      <td>8.42</td>\n",
       "      <td>8.33</td>\n",
       "      <td>8.42</td>\n",
       "      <td>10.0</td>\n",
       "      <td>10.0</td>\n",
       "      <td>10.0</td>\n",
       "      <td>89.75</td>\n",
       "      <td>0.00</td>\n",
       "      <td>NaN</td>\n",
       "      <td>Specialty Coffee Association</td>\n",
       "      <td>1700.0</td>\n",
       "    </tr>\n",
       "    <tr>\n",
       "      <th>3</th>\n",
       "      <td>3</td>\n",
       "      <td>3</td>\n",
       "      <td>4</td>\n",
       "      <td>Arabica</td>\n",
       "      <td>yidnekachew dabessa</td>\n",
       "      <td>Ethiopia</td>\n",
       "      <td>yidnekachew dabessa coffee plantation</td>\n",
       "      <td>yidnekachew debessa coffee plantation</td>\n",
       "      <td>oromia</td>\n",
       "      <td>METAD Agricultural Development plc</td>\n",
       "      <td>2014</td>\n",
       "      <td>March 26th, 2015</td>\n",
       "      <td>Yidnekachew Dabessa</td>\n",
       "      <td>NaN</td>\n",
       "      <td>Natural / Dry</td>\n",
       "      <td>8.17</td>\n",
       "      <td>8.58</td>\n",
       "      <td>8.42</td>\n",
       "      <td>8.42</td>\n",
       "      <td>8.50</td>\n",
       "      <td>8.25</td>\n",
       "      <td>10.0</td>\n",
       "      <td>10.0</td>\n",
       "      <td>10.0</td>\n",
       "      <td>89.00</td>\n",
       "      <td>0.11</td>\n",
       "      <td>Green</td>\n",
       "      <td>METAD Agricultural Development plc</td>\n",
       "      <td>2000.0</td>\n",
       "    </tr>\n",
       "    <tr>\n",
       "      <th>4</th>\n",
       "      <td>4</td>\n",
       "      <td>4</td>\n",
       "      <td>5</td>\n",
       "      <td>Arabica</td>\n",
       "      <td>metad plc</td>\n",
       "      <td>Ethiopia</td>\n",
       "      <td>metad plc</td>\n",
       "      <td>metad agricultural developmet plc</td>\n",
       "      <td>guji-hambela</td>\n",
       "      <td>METAD Agricultural Development plc</td>\n",
       "      <td>2014</td>\n",
       "      <td>April 4th, 2015</td>\n",
       "      <td>metad plc</td>\n",
       "      <td>Other</td>\n",
       "      <td>Washed / Wet</td>\n",
       "      <td>8.25</td>\n",
       "      <td>8.50</td>\n",
       "      <td>8.25</td>\n",
       "      <td>8.50</td>\n",
       "      <td>8.42</td>\n",
       "      <td>8.33</td>\n",
       "      <td>10.0</td>\n",
       "      <td>10.0</td>\n",
       "      <td>10.0</td>\n",
       "      <td>88.83</td>\n",
       "      <td>0.12</td>\n",
       "      <td>Green</td>\n",
       "      <td>METAD Agricultural Development plc</td>\n",
       "      <td>2075.0</td>\n",
       "    </tr>\n",
       "  </tbody>\n",
       "</table>\n",
       "</div>"
      ],
      "text/plain": [
       "   Unnamed: 0.1  Unnamed: 0  ID  Species                     Owner  \\\n",
       "0             0           0   1  Arabica                 metad plc   \n",
       "1             1           1   2  Arabica                 metad plc   \n",
       "2             2           2   3  Arabica  grounds for health admin   \n",
       "3             3           3   4  Arabica       yidnekachew dabessa   \n",
       "4             4           4   5  Arabica                 metad plc   \n",
       "\n",
       "  Country.of.Origin                                 Farm.Name  \\\n",
       "0          Ethiopia                                 metad plc   \n",
       "1          Ethiopia                                 metad plc   \n",
       "2         Guatemala  san marcos barrancas \"san cristobal cuch   \n",
       "3          Ethiopia     yidnekachew dabessa coffee plantation   \n",
       "4          Ethiopia                                 metad plc   \n",
       "\n",
       "                                 Company        Region  \\\n",
       "0      metad agricultural developmet plc  guji-hambela   \n",
       "1      metad agricultural developmet plc  guji-hambela   \n",
       "2                                    NaN           NaN   \n",
       "3  yidnekachew debessa coffee plantation        oromia   \n",
       "4      metad agricultural developmet plc  guji-hambela   \n",
       "\n",
       "                   In.Country.Partner Harvest.Year      Grading.Date  \\\n",
       "0  METAD Agricultural Development plc         2014   April 4th, 2015   \n",
       "1  METAD Agricultural Development plc         2014   April 4th, 2015   \n",
       "2        Specialty Coffee Association          NaN    May 31st, 2010   \n",
       "3  METAD Agricultural Development plc         2014  March 26th, 2015   \n",
       "4  METAD Agricultural Development plc         2014   April 4th, 2015   \n",
       "\n",
       "                    Owner.1  Variety Processing.Method  Aroma  Flavor  \\\n",
       "0                 metad plc      NaN      Washed / Wet   8.67    8.83   \n",
       "1                 metad plc    Other      Washed / Wet   8.75    8.67   \n",
       "2  Grounds for Health Admin  Bourbon               NaN   8.42    8.50   \n",
       "3       Yidnekachew Dabessa      NaN     Natural / Dry   8.17    8.58   \n",
       "4                 metad plc    Other      Washed / Wet   8.25    8.50   \n",
       "\n",
       "   Aftertaste  Acidity  Body  Balance  Uniformity  Clean.Cup  Sweetness  \\\n",
       "0        8.67     8.75  8.50     8.42        10.0       10.0       10.0   \n",
       "1        8.50     8.58  8.42     8.42        10.0       10.0       10.0   \n",
       "2        8.42     8.42  8.33     8.42        10.0       10.0       10.0   \n",
       "3        8.42     8.42  8.50     8.25        10.0       10.0       10.0   \n",
       "4        8.25     8.50  8.42     8.33        10.0       10.0       10.0   \n",
       "\n",
       "   Total.Cup.Points  Moisture  Color                  Certification.Body  \\\n",
       "0             90.58      0.12  Green  METAD Agricultural Development plc   \n",
       "1             89.92      0.12  Green  METAD Agricultural Development plc   \n",
       "2             89.75      0.00    NaN        Specialty Coffee Association   \n",
       "3             89.00      0.11  Green  METAD Agricultural Development plc   \n",
       "4             88.83      0.12  Green  METAD Agricultural Development plc   \n",
       "\n",
       "   altitude_mean_meters  \n",
       "0                2075.0  \n",
       "1                2075.0  \n",
       "2                1700.0  \n",
       "3                2000.0  \n",
       "4                2075.0  "
      ]
     },
     "execution_count": 5,
     "metadata": {},
     "output_type": "execute_result"
    }
   ],
   "source": [
    "data = pd.read_csv('./Coffee_dataset_cleaned_column_and_rows.csv')\n",
    "data.head()"
   ]
  },
  {
   "cell_type": "code",
   "execution_count": null,
   "metadata": {},
   "outputs": [
    {
     "data": {
      "image/png": "[encoded data removed]",
      "text/plain": [
       "<Figure size 1000x800 with 2 Axes>"
      ]
     },
     "metadata": {},
     "output_type": "display_data"
    }
   ],
   "source": [
    "# Sélection des colonnes de note\n",
    "columns_of_interest = ['Aroma', 'Flavor', 'Aftertaste', 'Acidity', 'Body', 'Balance', 'Uniformity', 'Clean.Cup', 'Sweetness']\n",
    "\n",
    "# Calcul des corrélations\n",
    "corr_matrix = data[columns_of_interest].corr()\n",
    "\n",
    "# Heatmap\n",
    "plt.figure(figsize=(10, 8))\n",
    "sns.heatmap(corr_matrix, annot=True, cmap='coolwarm', vmin=-1, vmax=1)\n",
    "plt.title('Corrélations entre les colonnes sauf les Notes')\n",
    "plt.show()"
   ]
  },
  {
   "cell_type": "markdown",
   "metadata": {},
   "source": [
    "So we should drop some features that have too much colinearity between them\n",
    "\n",
    "Aroma anmd Flavor are hard to distinguish and are correlated, Flavor is the most correlated with all other features, so we will drop it first !"
   ]
  },
  {
   "cell_type": "markdown",
   "metadata": {},
   "source": [
    "## Basic EDA"
   ]
  },
  {
   "cell_type": "code",
   "execution_count": null,
   "metadata": {},
   "outputs": [
    {
     "data": {
      "application/vnd.plotly.v1+json": {
       "config": {
        "plotlyServerURL": "https://plot.ly"
       },
       "data": [
        {
         "alignmentgroup": "True",
         "hovertemplate": "variable=Total.Cup.Points<br>Variety=%{x}<br>value=%{y}<extra></extra>",
         "legendgroup": "Total.Cup.Points",
         "marker": {
          "color": "#636efa",
          "pattern": {
           "shape": ""
          }
         },
         "name": "Total.Cup.Points",
         "offsetgroup": "Total.Cup.Points",
         "orientation": "v",
         "showlegend": true,
         "textposition": "auto",
         "type": "bar",
         "x": [
          "Arusha",
          "Blue Mountain",
          "Bourbon",
          "Catimor",
          "Catuai",
          "Caturra",
          "Ethiopian Heirlooms",
          "Ethiopian Yirgacheffe",
          "Gesha",
          "Hawaiian Kona",
          "Java",
          "Mandheling",
          "Marigojipe",
          "Moka Peaberry",
          "Mundo Novo",
          "Other",
          "Pacamara",
          "Pacas",
          "Pache Comun",
          "Peaberry",
          "Robusta",
          "Ruiru 11",
          "SL14",
          "SL28",
          "SL34",
          "Sulawesi",
          "Sumatra",
          "Sumatra Lintong",
          "Typica",
          "Yellow Bourbon"
         ],
         "xaxis": "x",
         "y": [
          82.25,
          82.08500000000001,
          81.94690265486726,
          83.263,
          81.30202702702704,
          82.76227450980393,
          82.92,
          85.96000000000001,
          82.5825,
          81.57886363636364,
          81.42,
          83.07333333333334,
          81.58,
          82.92,
          81.55848484848484,
          82.59907407407408,
          82.57375,
          80.91,
          81.08,
          82.002,
          80.86892857142857,
          82.96000000000001,
          83.91235294117647,
          84.006,
          84.38374999999999,
          82.75,
          83.91666666666667,
          85.17,
          81.02075829383887,
          82.43057142857144
         ],
         "yaxis": "y"
        }
       ],
       "layout": {
        "barmode": "relative",
        "legend": {
         "title": {
          "text": "variable"
         },
         "tracegroupgap": 0
        },
        "margin": {
         "t": 60
        },
        "shapes": [
         {
          "line": {
           "color": "red",
           "dash": "solid",
           "width": 3
          },
          "type": "line",
          "x0": 0,
          "x1": 1,
          "xref": "x domain",
          "y0": 80,
          "y1": 80,
          "yref": "y"
         }
        ],
        "showlegend": false,
        "template": {
         "data": {
          "bar": [
           {
            "error_x": {
             "color": "#2a3f5f"
            },
            "error_y": {
             "color": "#2a3f5f"
            },
            "marker": {
             "line": {
              "color": "#E5ECF6",
              "width": 0.5
             },
             "pattern": {
              "fillmode": "overlay",
              "size": 10,
              "solidity": 0.2
             }
            },
            "type": "bar"
           }
          ],
          "barpolar": [
           {
            "marker": {
             "line": {
              "color": "#E5ECF6",
              "width": 0.5
             },
             "pattern": {
              "fillmode": "overlay",
              "size": 10,
              "solidity": 0.2
             }
            },
            "type": "barpolar"
           }
          ],
          "carpet": [
           {
            "aaxis": {
             "endlinecolor": "#2a3f5f",
             "gridcolor": "white",
             "linecolor": "white",
             "minorgridcolor": "white",
             "startlinecolor": "#2a3f5f"
            },
            "baxis": {
             "endlinecolor": "#2a3f5f",
             "gridcolor": "white",
             "linecolor": "white",
             "minorgridcolor": "white",
             "startlinecolor": "#2a3f5f"
            },
            "type": "carpet"
           }
          ],
          "choropleth": [
           {
            "colorbar": {
             "outlinewidth": 0,
             "ticks": ""
            },
            "type": "choropleth"
           }
          ],
          "contour": [
           {
            "colorbar": {
             "outlinewidth": 0,
             "ticks": ""
            },
            "colorscale": [
             [
              0,
              "#0d0887"
             ],
             [
              0.1111111111111111,
              "#46039f"
             ],
             [
              0.2222222222222222,
              "#7201a8"
             ],
             [
              0.3333333333333333,
              "#9c179e"
             ],
             [
              0.4444444444444444,
              "#bd3786"
             ],
             [
              0.5555555555555556,
              "#d8576b"
             ],
             [
              0.6666666666666666,
              "#ed7953"
             ],
             [
              0.7777777777777778,
              "#fb9f3a"
             ],
             [
              0.8888888888888888,
              "#fdca26"
             ],
             [
              1,
              "#f0f921"
             ]
            ],
            "type": "contour"
           }
          ],
          "contourcarpet": [
           {
            "colorbar": {
             "outlinewidth": 0,
             "ticks": ""
            },
            "type": "contourcarpet"
           }
          ],
          "heatmap": [
           {
            "colorbar": {
             "outlinewidth": 0,
             "ticks": ""
            },
            "colorscale": [
             [
              0,
              "#0d0887"
             ],
             [
              0.1111111111111111,
              "#46039f"
             ],
             [
              0.2222222222222222,
              "#7201a8"
             ],
             [
              0.3333333333333333,
              "#9c179e"
             ],
             [
              0.4444444444444444,
              "#bd3786"
             ],
             [
              0.5555555555555556,
              "#d8576b"
             ],
             [
              0.6666666666666666,
              "#ed7953"
             ],
             [
              0.7777777777777778,
              "#fb9f3a"
             ],
             [
              0.8888888888888888,
              "#fdca26"
             ],
             [
              1,
              "#f0f921"
             ]
            ],
            "type": "heatmap"
           }
          ],
          "heatmapgl": [
           {
            "colorbar": {
             "outlinewidth": 0,
             "ticks": ""
            },
            "colorscale": [
             [
              0,
              "#0d0887"
             ],
             [
              0.1111111111111111,
              "#46039f"
             ],
             [
              0.2222222222222222,
              "#7201a8"
             ],
             [
              0.3333333333333333,
              "#9c179e"
             ],
             [
              0.4444444444444444,
              "#bd3786"
             ],
             [
              0.5555555555555556,
              "#d8576b"
             ],
             [
              0.6666666666666666,
              "#ed7953"
             ],
             [
              0.7777777777777778,
              "#fb9f3a"
             ],
             [
              0.8888888888888888,
              "#fdca26"
             ],
             [
              1,
              "#f0f921"
             ]
            ],
            "type": "heatmapgl"
           }
          ],
          "histogram": [
           {
            "marker": {
             "pattern": {
              "fillmode": "overlay",
              "size": 10,
              "solidity": 0.2
             }
            },
            "type": "histogram"
           }
          ],
          "histogram2d": [
           {
            "colorbar": {
             "outlinewidth": 0,
             "ticks": ""
            },
            "colorscale": [
             [
              0,
              "#0d0887"
             ],
             [
              0.1111111111111111,
              "#46039f"
             ],
             [
              0.2222222222222222,
              "#7201a8"
             ],
             [
              0.3333333333333333,
              "#9c179e"
             ],
             [
              0.4444444444444444,
              "#bd3786"
             ],
             [
              0.5555555555555556,
              "#d8576b"
             ],
             [
              0.6666666666666666,
              "#ed7953"
             ],
             [
              0.7777777777777778,
              "#fb9f3a"
             ],
             [
              0.8888888888888888,
              "#fdca26"
             ],
             [
              1,
              "#f0f921"
             ]
            ],
            "type": "histogram2d"
           }
          ],
          "histogram2dcontour": [
           {
            "colorbar": {
             "outlinewidth": 0,
             "ticks": ""
            },
            "colorscale": [
             [
              0,
              "#0d0887"
             ],
             [
              0.1111111111111111,
              "#46039f"
             ],
             [
              0.2222222222222222,
              "#7201a8"
             ],
             [
              0.3333333333333333,
              "#9c179e"
             ],
             [
              0.4444444444444444,
              "#bd3786"
             ],
             [
              0.5555555555555556,
              "#d8576b"
             ],
             [
              0.6666666666666666,
              "#ed7953"
             ],
             [
              0.7777777777777778,
              "#fb9f3a"
             ],
             [
              0.8888888888888888,
              "#fdca26"
             ],
             [
              1,
              "#f0f921"
             ]
            ],
            "type": "histogram2dcontour"
           }
          ],
          "mesh3d": [
           {
            "colorbar": {
             "outlinewidth": 0,
             "ticks": ""
            },
            "type": "mesh3d"
           }
          ],
          "parcoords": [
           {
            "line": {
             "colorbar": {
              "outlinewidth": 0,
              "ticks": ""
             }
            },
            "type": "parcoords"
           }
          ],
          "pie": [
           {
            "automargin": true,
            "type": "pie"
           }
          ],
          "scatter": [
           {
            "fillpattern": {
             "fillmode": "overlay",
             "size": 10,
             "solidity": 0.2
            },
            "type": "scatter"
           }
          ],
          "scatter3d": [
           {
            "line": {
             "colorbar": {
              "outlinewidth": 0,
              "ticks": ""
             }
            },
            "marker": {
             "colorbar": {
              "outlinewidth": 0,
              "ticks": ""
             }
            },
            "type": "scatter3d"
           }
          ],
          "scattercarpet": [
           {
            "marker": {
             "colorbar": {
              "outlinewidth": 0,
              "ticks": ""
             }
            },
            "type": "scattercarpet"
           }
          ],
          "scattergeo": [
           {
            "marker": {
             "colorbar": {
              "outlinewidth": 0,
              "ticks": ""
             }
            },
            "type": "scattergeo"
           }
          ],
          "scattergl": [
           {
            "marker": {
             "colorbar": {
              "outlinewidth": 0,
              "ticks": ""
             }
            },
            "type": "scattergl"
           }
          ],
          "scattermapbox": [
           {
            "marker": {
             "colorbar": {
              "outlinewidth": 0,
              "ticks": ""
             }
            },
            "type": "scattermapbox"
           }
          ],
          "scatterpolar": [
           {
            "marker": {
             "colorbar": {
              "outlinewidth": 0,
              "ticks": ""
             }
            },
            "type": "scatterpolar"
           }
          ],
          "scatterpolargl": [
           {
            "marker": {
             "colorbar": {
              "outlinewidth": 0,
              "ticks": ""
             }
            },
            "type": "scatterpolargl"
           }
          ],
          "scatterternary": [
           {
            "marker": {
             "colorbar": {
              "outlinewidth": 0,
              "ticks": ""
             }
            },
            "type": "scatterternary"
           }
          ],
          "surface": [
           {
            "colorbar": {
             "outlinewidth": 0,
             "ticks": ""
            },
            "colorscale": [
             [
              0,
              "#0d0887"
             ],
             [
              0.1111111111111111,
              "#46039f"
             ],
             [
              0.2222222222222222,
              "#7201a8"
             ],
             [
              0.3333333333333333,
              "#9c179e"
             ],
             [
              0.4444444444444444,
              "#bd3786"
             ],
             [
              0.5555555555555556,
              "#d8576b"
             ],
             [
              0.6666666666666666,
              "#ed7953"
             ],
             [
              0.7777777777777778,
              "#fb9f3a"
             ],
             [
              0.8888888888888888,
              "#fdca26"
             ],
             [
              1,
              "#f0f921"
             ]
            ],
            "type": "surface"
           }
          ],
          "table": [
           {
            "cells": {
             "fill": {
              "color": "#EBF0F8"
             },
             "line": {
              "color": "white"
             }
            },
            "header": {
             "fill": {
              "color": "#C8D4E3"
             },
             "line": {
              "color": "white"
             }
            },
            "type": "table"
           }
          ]
         },
         "layout": {
          "annotationdefaults": {
           "arrowcolor": "#2a3f5f",
           "arrowhead": 0,
           "arrowwidth": 1
          },
          "autotypenumbers": "strict",
          "coloraxis": {
           "colorbar": {
            "outlinewidth": 0,
            "ticks": ""
           }
          },
          "colorscale": {
           "diverging": [
            [
             0,
             "#8e0152"
            ],
            [
             0.1,
             "#c51b7d"
            ],
            [
             0.2,
             "#de77ae"
            ],
            [
             0.3,
             "#f1b6da"
            ],
            [
             0.4,
             "#fde0ef"
            ],
            [
             0.5,
             "#f7f7f7"
            ],
            [
             0.6,
             "#e6f5d0"
            ],
            [
             0.7,
             "#b8e186"
            ],
            [
             0.8,
             "#7fbc41"
            ],
            [
             0.9,
             "#4d9221"
            ],
            [
             1,
             "#276419"
            ]
           ],
           "sequential": [
            [
             0,
             "#0d0887"
            ],
            [
             0.1111111111111111,
             "#46039f"
            ],
            [
             0.2222222222222222,
             "#7201a8"
            ],
            [
             0.3333333333333333,
             "#9c179e"
            ],
            [
             0.4444444444444444,
             "#bd3786"
            ],
            [
             0.5555555555555556,
             "#d8576b"
            ],
            [
             0.6666666666666666,
             "#ed7953"
            ],
            [
             0.7777777777777778,
             "#fb9f3a"
            ],
            [
             0.8888888888888888,
             "#fdca26"
            ],
            [
             1,
             "#f0f921"
            ]
           ],
           "sequentialminus": [
            [
             0,
             "#0d0887"
            ],
            [
             0.1111111111111111,
             "#46039f"
            ],
            [
             0.2222222222222222,
             "#7201a8"
            ],
            [
             0.3333333333333333,
             "#9c179e"
            ],
            [
             0.4444444444444444,
             "#bd3786"
            ],
            [
             0.5555555555555556,
             "#d8576b"
            ],
            [
             0.6666666666666666,
             "#ed7953"
            ],
            [
             0.7777777777777778,
             "#fb9f3a"
            ],
            [
             0.8888888888888888,
             "#fdca26"
            ],
            [
             1,
             "#f0f921"
            ]
           ]
          },
          "colorway": [
           "#636efa",
           "#EF553B",
           "#00cc96",
           "#ab63fa",
           "#FFA15A",
           "#19d3f3",
           "#FF6692",
           "#B6E880",
           "#FF97FF",
           "#FECB52"
          ],
          "font": {
           "color": "#2a3f5f"
          },
          "geo": {
           "bgcolor": "white",
           "lakecolor": "white",
           "landcolor": "#E5ECF6",
           "showlakes": true,
           "showland": true,
           "subunitcolor": "white"
          },
          "hoverlabel": {
           "align": "left"
          },
          "hovermode": "closest",
          "mapbox": {
           "style": "light"
          },
          "paper_bgcolor": "white",
          "plot_bgcolor": "#E5ECF6",
          "polar": {
           "angularaxis": {
            "gridcolor": "white",
            "linecolor": "white",
            "ticks": ""
           },
           "bgcolor": "#E5ECF6",
           "radialaxis": {
            "gridcolor": "white",
            "linecolor": "white",
            "ticks": ""
           }
          },
          "scene": {
           "xaxis": {
            "backgroundcolor": "#E5ECF6",
            "gridcolor": "white",
            "gridwidth": 2,
            "linecolor": "white",
            "showbackground": true,
            "ticks": "",
            "zerolinecolor": "white"
           },
           "yaxis": {
            "backgroundcolor": "#E5ECF6",
            "gridcolor": "white",
            "gridwidth": 2,
            "linecolor": "white",
            "showbackground": true,
            "ticks": "",
            "zerolinecolor": "white"
           },
           "zaxis": {
            "backgroundcolor": "#E5ECF6",
            "gridcolor": "white",
            "gridwidth": 2,
            "linecolor": "white",
            "showbackground": true,
            "ticks": "",
            "zerolinecolor": "white"
           }
          },
          "shapedefaults": {
           "line": {
            "color": "#2a3f5f"
           }
          },
          "ternary": {
           "aaxis": {
            "gridcolor": "white",
            "linecolor": "white",
            "ticks": ""
           },
           "baxis": {
            "gridcolor": "white",
            "linecolor": "white",
            "ticks": ""
           },
           "bgcolor": "#E5ECF6",
           "caxis": {
            "gridcolor": "white",
            "linecolor": "white",
            "ticks": ""
           }
          },
          "title": {
           "x": 0.05
          },
          "xaxis": {
           "automargin": true,
           "gridcolor": "white",
           "linecolor": "white",
           "ticks": "",
           "title": {
            "standoff": 15
           },
           "zerolinecolor": "white",
           "zerolinewidth": 2
          },
          "yaxis": {
           "automargin": true,
           "gridcolor": "white",
           "linecolor": "white",
           "ticks": "",
           "title": {
            "standoff": 15
           },
           "zerolinecolor": "white",
           "zerolinewidth": 2
          }
         }
        },
        "title": {
         "text": "Average Total Cup Points by Variety"
        },
        "xaxis": {
         "anchor": "y",
         "domain": [
          0,
          1
         ],
         "title": {
          "text": "Variety"
         }
        },
        "yaxis": {
         "anchor": "x",
         "domain": [
          0,
          1
         ],
         "title": {
          "text": "Average Total Cup Points"
         }
        }
       }
      }
     },
     "metadata": {},
     "output_type": "display_data"
    }
   ],
   "source": [
    "data_cup = data.groupby('Variety')['Total.Cup.Points'].mean()\n",
    "fig_cup = px.bar(data_cup)\n",
    "fig_cup.update_layout(\n",
    "    title='Average Total Cup Points by Variety',\n",
    "    xaxis_title='Variety',\n",
    "    yaxis_title='Average Total Cup Points',\n",
    "    showlegend = False)\n",
    "fig_cup.add_hline(y=80, line_width=3, line_dash='solid', line_color='red')"
   ]
  }
 ],
 "metadata": {
  "kernelspec": {
   "display_name": "Python 3",
   "language": "python",
   "name": "python3"
  },
  "language_info": {
   "codemirror_mode": {
    "name": "ipython",
    "version": 3
   },
   "file_extension": ".py",
   "mimetype": "text/x-python",
   "name": "python",
   "nbconvert_exporter": "python",
   "pygments_lexer": "ipython3",
   "version": "3.12.5"
  }
 },
 "nbformat": 4,
 "nbformat_minor": 2
}
